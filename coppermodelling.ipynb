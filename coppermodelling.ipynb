{
 "cells": [
  {
   "cell_type": "code",
   "execution_count": 2,
   "metadata": {},
   "outputs": [],
   "source": [
    "import pandas as pd\n",
    "import numpy as np\n",
    "import matplotlib.pyplot as plt\n",
    "import seaborn as sns\n",
    "sns.set()\n",
    "import datetime as dt\n",
    "import warnings\n",
    "import plotly.express as px\n",
    "import plotly.graph_objects as go\n",
    "import plotly.io as pio\n",
    "import json\n",
    "import warnings\n",
    "warnings.filterwarnings('ignore')\n",
    "\n",
    "from sklearn.model_selection import train_test_split\n",
    "from sklearn.ensemble import ExtraTreesRegressor\n",
    "from sklearn.tree import DecisionTreeRegressor\n",
    "from xgboost import XGBRegressor\n",
    "from sklearn.metrics import mean_squared_error, mean_absolute_error, r2_score\n",
    "\n",
    "from sklearn.preprocessing import StandardScaler,LabelEncoder\n",
    "from sklearn.tree import DecisionTreeClassifier\n",
    "import xgboost as xgb\n",
    "from sklearn.ensemble import RandomForestClassifier\n",
    "from sklearn.metrics import accuracy_score\n"
   ]
  },
  {
   "cell_type": "code",
   "execution_count": 3,
   "metadata": {},
   "outputs": [
    {
     "data": {
      "text/html": [
       "<div>\n",
       "<style scoped>\n",
       "    .dataframe tbody tr th:only-of-type {\n",
       "        vertical-align: middle;\n",
       "    }\n",
       "\n",
       "    .dataframe tbody tr th {\n",
       "        vertical-align: top;\n",
       "    }\n",
       "\n",
       "    .dataframe thead th {\n",
       "        text-align: right;\n",
       "    }\n",
       "</style>\n",
       "<table border=\"1\" class=\"dataframe\">\n",
       "  <thead>\n",
       "    <tr style=\"text-align: right;\">\n",
       "      <th></th>\n",
       "      <th>id</th>\n",
       "      <th>item_date</th>\n",
       "      <th>quantity tons</th>\n",
       "      <th>customer</th>\n",
       "      <th>country</th>\n",
       "      <th>status</th>\n",
       "      <th>item type</th>\n",
       "      <th>application</th>\n",
       "      <th>thickness</th>\n",
       "      <th>width</th>\n",
       "      <th>material_ref</th>\n",
       "      <th>product_ref</th>\n",
       "      <th>delivery date</th>\n",
       "      <th>selling_price</th>\n",
       "    </tr>\n",
       "  </thead>\n",
       "  <tbody>\n",
       "    <tr>\n",
       "      <th>181668</th>\n",
       "      <td>DE633116-D1DF-4846-982E-55EFC3658A76</td>\n",
       "      <td>20200702.0</td>\n",
       "      <td>102.4824216</td>\n",
       "      <td>30200854.0</td>\n",
       "      <td>25.0</td>\n",
       "      <td>Won</td>\n",
       "      <td>W</td>\n",
       "      <td>41.0</td>\n",
       "      <td>0.96</td>\n",
       "      <td>1220.0</td>\n",
       "      <td>0000000000000000000000000000000001000777</td>\n",
       "      <td>164141591</td>\n",
       "      <td>20200701.0</td>\n",
       "      <td>591.0</td>\n",
       "    </tr>\n",
       "    <tr>\n",
       "      <th>181669</th>\n",
       "      <td>A48374B1-E6DB-45F2-889A-1F9C27C099EB</td>\n",
       "      <td>20200702.0</td>\n",
       "      <td>208.0864686</td>\n",
       "      <td>30200854.0</td>\n",
       "      <td>25.0</td>\n",
       "      <td>Won</td>\n",
       "      <td>W</td>\n",
       "      <td>41.0</td>\n",
       "      <td>0.95</td>\n",
       "      <td>1500.0</td>\n",
       "      <td>0000000000000000000000000000000001000227</td>\n",
       "      <td>164141591</td>\n",
       "      <td>20200701.0</td>\n",
       "      <td>589.0</td>\n",
       "    </tr>\n",
       "    <tr>\n",
       "      <th>181670</th>\n",
       "      <td>91643238-5C7B-4237-9A5F-63AE3D35F320</td>\n",
       "      <td>20200702.0</td>\n",
       "      <td>4.235593568</td>\n",
       "      <td>30200854.0</td>\n",
       "      <td>25.0</td>\n",
       "      <td>Won</td>\n",
       "      <td>W</td>\n",
       "      <td>41.0</td>\n",
       "      <td>0.71</td>\n",
       "      <td>1250.0</td>\n",
       "      <td>0000000000000000000000000000000001004216</td>\n",
       "      <td>164141591</td>\n",
       "      <td>20200701.0</td>\n",
       "      <td>619.0</td>\n",
       "    </tr>\n",
       "    <tr>\n",
       "      <th>181671</th>\n",
       "      <td>7AFFD323-01D9-4E15-B80D-7D1B03498FC8</td>\n",
       "      <td>20200702.0</td>\n",
       "      <td>-2000</td>\n",
       "      <td>30200854.0</td>\n",
       "      <td>25.0</td>\n",
       "      <td>Won</td>\n",
       "      <td>W</td>\n",
       "      <td>41.0</td>\n",
       "      <td>0.85</td>\n",
       "      <td>1250.0</td>\n",
       "      <td>0000000000000000000000000000000001001149</td>\n",
       "      <td>164141591</td>\n",
       "      <td>20200701.0</td>\n",
       "      <td>601.0</td>\n",
       "    </tr>\n",
       "    <tr>\n",
       "      <th>181672</th>\n",
       "      <td>AD0CA853-AE3C-4B2F-9FBB-8B0B965F84BC</td>\n",
       "      <td>20200702.0</td>\n",
       "      <td>406.6865384</td>\n",
       "      <td>30200854.0</td>\n",
       "      <td>25.0</td>\n",
       "      <td>Won</td>\n",
       "      <td>W</td>\n",
       "      <td>41.0</td>\n",
       "      <td>0.71</td>\n",
       "      <td>1240.0</td>\n",
       "      <td>0000000000000000000000000000000001005439</td>\n",
       "      <td>164141591</td>\n",
       "      <td>20200701.0</td>\n",
       "      <td>607.0</td>\n",
       "    </tr>\n",
       "  </tbody>\n",
       "</table>\n",
       "</div>"
      ],
      "text/plain": [
       "                                          id   item_date quantity tons  \\\n",
       "181668  DE633116-D1DF-4846-982E-55EFC3658A76  20200702.0   102.4824216   \n",
       "181669  A48374B1-E6DB-45F2-889A-1F9C27C099EB  20200702.0   208.0864686   \n",
       "181670  91643238-5C7B-4237-9A5F-63AE3D35F320  20200702.0   4.235593568   \n",
       "181671  7AFFD323-01D9-4E15-B80D-7D1B03498FC8  20200702.0         -2000   \n",
       "181672  AD0CA853-AE3C-4B2F-9FBB-8B0B965F84BC  20200702.0   406.6865384   \n",
       "\n",
       "          customer  country status item type  application  thickness   width  \\\n",
       "181668  30200854.0     25.0    Won         W         41.0       0.96  1220.0   \n",
       "181669  30200854.0     25.0    Won         W         41.0       0.95  1500.0   \n",
       "181670  30200854.0     25.0    Won         W         41.0       0.71  1250.0   \n",
       "181671  30200854.0     25.0    Won         W         41.0       0.85  1250.0   \n",
       "181672  30200854.0     25.0    Won         W         41.0       0.71  1240.0   \n",
       "\n",
       "                                    material_ref  product_ref  delivery date  \\\n",
       "181668  0000000000000000000000000000000001000777    164141591     20200701.0   \n",
       "181669  0000000000000000000000000000000001000227    164141591     20200701.0   \n",
       "181670  0000000000000000000000000000000001004216    164141591     20200701.0   \n",
       "181671  0000000000000000000000000000000001001149    164141591     20200701.0   \n",
       "181672  0000000000000000000000000000000001005439    164141591     20200701.0   \n",
       "\n",
       "        selling_price  \n",
       "181668          591.0  \n",
       "181669          589.0  \n",
       "181670          619.0  \n",
       "181671          601.0  \n",
       "181672          607.0  "
      ]
     },
     "execution_count": 3,
     "metadata": {},
     "output_type": "execute_result"
    }
   ],
   "source": [
    "#Read the csv file into the pandas dataframe\n",
    "df = pd.read_csv('C:/Users/admin/Downloads/Copper_Set.xlsx - Result 1.csv')\n",
    "\n",
    "df.tail(5)\n"
   ]
  },
  {
   "cell_type": "code",
   "execution_count": 4,
   "metadata": {},
   "outputs": [
    {
     "data": {
      "text/html": [
       "<div>\n",
       "<style scoped>\n",
       "    .dataframe tbody tr th:only-of-type {\n",
       "        vertical-align: middle;\n",
       "    }\n",
       "\n",
       "    .dataframe tbody tr th {\n",
       "        vertical-align: top;\n",
       "    }\n",
       "\n",
       "    .dataframe thead th {\n",
       "        text-align: right;\n",
       "    }\n",
       "</style>\n",
       "<table border=\"1\" class=\"dataframe\">\n",
       "  <thead>\n",
       "    <tr style=\"text-align: right;\">\n",
       "      <th></th>\n",
       "      <th>0</th>\n",
       "      <th>1</th>\n",
       "      <th>2</th>\n",
       "      <th>3</th>\n",
       "      <th>4</th>\n",
       "      <th>5</th>\n",
       "      <th>6</th>\n",
       "      <th>7</th>\n",
       "      <th>8</th>\n",
       "      <th>9</th>\n",
       "      <th>...</th>\n",
       "      <th>181663</th>\n",
       "      <th>181664</th>\n",
       "      <th>181665</th>\n",
       "      <th>181666</th>\n",
       "      <th>181667</th>\n",
       "      <th>181668</th>\n",
       "      <th>181669</th>\n",
       "      <th>181670</th>\n",
       "      <th>181671</th>\n",
       "      <th>181672</th>\n",
       "    </tr>\n",
       "  </thead>\n",
       "  <tbody>\n",
       "    <tr>\n",
       "      <th>id</th>\n",
       "      <td>EC06F063-9DF0-440C-8764-0B0C05A4F6AE</td>\n",
       "      <td>4E5F4B3D-DDDF-499D-AFDE-A3227EC49425</td>\n",
       "      <td>E140FF1B-2407-4C02-A0DD-780A093B1158</td>\n",
       "      <td>F8D507A0-9C62-4EFE-831E-33E1DA53BB50</td>\n",
       "      <td>4E1C4E78-152B-430A-8094-ADD889C9D0AD</td>\n",
       "      <td>FE372230-29B1-4A29-BB73-CB9D3078C286</td>\n",
       "      <td>E1B47219-42C8-411D-AE46-AD5256DC4757</td>\n",
       "      <td>AA3F18A2-A7D6-43DE-8644-F0632AE2CB68</td>\n",
       "      <td>2851F48B-DA32-4DF3-884B-17A3100DD65A</td>\n",
       "      <td>6E4D638C-A820-4A40-836F-C9D48BC65528</td>\n",
       "      <td>...</td>\n",
       "      <td>08F8F1D6-0DAC-42B5-BA8A-B6C99EF1700B</td>\n",
       "      <td>A33557CD-93EF-4828-8235-E0A576C1A925</td>\n",
       "      <td>F9B79E56-2EBF-417B-9802-7F575D1079F7</td>\n",
       "      <td>C01DE4E8-BC5F-42AD-B35F-8FCBEE34C6ED</td>\n",
       "      <td>0B812591-B501-4F34-859A-B06381FAEB44</td>\n",
       "      <td>DE633116-D1DF-4846-982E-55EFC3658A76</td>\n",
       "      <td>A48374B1-E6DB-45F2-889A-1F9C27C099EB</td>\n",
       "      <td>91643238-5C7B-4237-9A5F-63AE3D35F320</td>\n",
       "      <td>7AFFD323-01D9-4E15-B80D-7D1B03498FC8</td>\n",
       "      <td>AD0CA853-AE3C-4B2F-9FBB-8B0B965F84BC</td>\n",
       "    </tr>\n",
       "    <tr>\n",
       "      <th>item_date</th>\n",
       "      <td>20210401.0</td>\n",
       "      <td>20210401.0</td>\n",
       "      <td>20210401.0</td>\n",
       "      <td>20210401.0</td>\n",
       "      <td>20210401.0</td>\n",
       "      <td>20210401.0</td>\n",
       "      <td>20210401.0</td>\n",
       "      <td>20210401.0</td>\n",
       "      <td>20210401.0</td>\n",
       "      <td>20210401.0</td>\n",
       "      <td>...</td>\n",
       "      <td>20200702.0</td>\n",
       "      <td>20200702.0</td>\n",
       "      <td>20200702.0</td>\n",
       "      <td>20200702.0</td>\n",
       "      <td>20200702.0</td>\n",
       "      <td>20200702.0</td>\n",
       "      <td>20200702.0</td>\n",
       "      <td>20200702.0</td>\n",
       "      <td>20200702.0</td>\n",
       "      <td>20200702.0</td>\n",
       "    </tr>\n",
       "    <tr>\n",
       "      <th>quantity tons</th>\n",
       "      <td>54.151139</td>\n",
       "      <td>768.024839</td>\n",
       "      <td>386.127949</td>\n",
       "      <td>202.411065</td>\n",
       "      <td>785.526262</td>\n",
       "      <td>225.790676</td>\n",
       "      <td>3.522613</td>\n",
       "      <td>113.387124</td>\n",
       "      <td>69.071853</td>\n",
       "      <td>630.626917</td>\n",
       "      <td>...</td>\n",
       "      <td>1203.157826</td>\n",
       "      <td>603.1149396</td>\n",
       "      <td>6.169226263</td>\n",
       "      <td>82.12379422</td>\n",
       "      <td>106.7832992</td>\n",
       "      <td>102.4824216</td>\n",
       "      <td>208.0864686</td>\n",
       "      <td>4.235593568</td>\n",
       "      <td>-2000</td>\n",
       "      <td>406.6865384</td>\n",
       "    </tr>\n",
       "    <tr>\n",
       "      <th>customer</th>\n",
       "      <td>30156308.0</td>\n",
       "      <td>30202938.0</td>\n",
       "      <td>30153963.0</td>\n",
       "      <td>30349574.0</td>\n",
       "      <td>30211560.0</td>\n",
       "      <td>30202938.0</td>\n",
       "      <td>30209509.0</td>\n",
       "      <td>30342192.0</td>\n",
       "      <td>30341428.0</td>\n",
       "      <td>30202938.0</td>\n",
       "      <td>...</td>\n",
       "      <td>30200854.0</td>\n",
       "      <td>30200854.0</td>\n",
       "      <td>30200854.0</td>\n",
       "      <td>30200854.0</td>\n",
       "      <td>30200854.0</td>\n",
       "      <td>30200854.0</td>\n",
       "      <td>30200854.0</td>\n",
       "      <td>30200854.0</td>\n",
       "      <td>30200854.0</td>\n",
       "      <td>30200854.0</td>\n",
       "    </tr>\n",
       "    <tr>\n",
       "      <th>country</th>\n",
       "      <td>28.0</td>\n",
       "      <td>25.0</td>\n",
       "      <td>30.0</td>\n",
       "      <td>32.0</td>\n",
       "      <td>28.0</td>\n",
       "      <td>25.0</td>\n",
       "      <td>30.0</td>\n",
       "      <td>32.0</td>\n",
       "      <td>38.0</td>\n",
       "      <td>25.0</td>\n",
       "      <td>...</td>\n",
       "      <td>25.0</td>\n",
       "      <td>25.0</td>\n",
       "      <td>25.0</td>\n",
       "      <td>25.0</td>\n",
       "      <td>25.0</td>\n",
       "      <td>25.0</td>\n",
       "      <td>25.0</td>\n",
       "      <td>25.0</td>\n",
       "      <td>25.0</td>\n",
       "      <td>25.0</td>\n",
       "    </tr>\n",
       "    <tr>\n",
       "      <th>status</th>\n",
       "      <td>Won</td>\n",
       "      <td>Won</td>\n",
       "      <td>Won</td>\n",
       "      <td>Won</td>\n",
       "      <td>Won</td>\n",
       "      <td>Won</td>\n",
       "      <td>Draft</td>\n",
       "      <td>Won</td>\n",
       "      <td>Won</td>\n",
       "      <td>Won</td>\n",
       "      <td>...</td>\n",
       "      <td>Won</td>\n",
       "      <td>Won</td>\n",
       "      <td>Won</td>\n",
       "      <td>Won</td>\n",
       "      <td>Won</td>\n",
       "      <td>Won</td>\n",
       "      <td>Won</td>\n",
       "      <td>Won</td>\n",
       "      <td>Won</td>\n",
       "      <td>Won</td>\n",
       "    </tr>\n",
       "    <tr>\n",
       "      <th>item type</th>\n",
       "      <td>W</td>\n",
       "      <td>W</td>\n",
       "      <td>WI</td>\n",
       "      <td>S</td>\n",
       "      <td>W</td>\n",
       "      <td>W</td>\n",
       "      <td>W</td>\n",
       "      <td>W</td>\n",
       "      <td>S</td>\n",
       "      <td>W</td>\n",
       "      <td>...</td>\n",
       "      <td>W</td>\n",
       "      <td>W</td>\n",
       "      <td>W</td>\n",
       "      <td>W</td>\n",
       "      <td>W</td>\n",
       "      <td>W</td>\n",
       "      <td>W</td>\n",
       "      <td>W</td>\n",
       "      <td>W</td>\n",
       "      <td>W</td>\n",
       "    </tr>\n",
       "    <tr>\n",
       "      <th>application</th>\n",
       "      <td>10.0</td>\n",
       "      <td>41.0</td>\n",
       "      <td>28.0</td>\n",
       "      <td>59.0</td>\n",
       "      <td>10.0</td>\n",
       "      <td>41.0</td>\n",
       "      <td>41.0</td>\n",
       "      <td>41.0</td>\n",
       "      <td>10.0</td>\n",
       "      <td>41.0</td>\n",
       "      <td>...</td>\n",
       "      <td>41.0</td>\n",
       "      <td>41.0</td>\n",
       "      <td>41.0</td>\n",
       "      <td>41.0</td>\n",
       "      <td>41.0</td>\n",
       "      <td>41.0</td>\n",
       "      <td>41.0</td>\n",
       "      <td>41.0</td>\n",
       "      <td>41.0</td>\n",
       "      <td>41.0</td>\n",
       "    </tr>\n",
       "    <tr>\n",
       "      <th>thickness</th>\n",
       "      <td>2.0</td>\n",
       "      <td>0.8</td>\n",
       "      <td>0.38</td>\n",
       "      <td>2.3</td>\n",
       "      <td>4.0</td>\n",
       "      <td>1.5</td>\n",
       "      <td>0.38</td>\n",
       "      <td>0.68</td>\n",
       "      <td>0.6</td>\n",
       "      <td>1.5</td>\n",
       "      <td>...</td>\n",
       "      <td>0.72</td>\n",
       "      <td>0.85</td>\n",
       "      <td>0.71</td>\n",
       "      <td>1.18</td>\n",
       "      <td>0.96</td>\n",
       "      <td>0.96</td>\n",
       "      <td>0.95</td>\n",
       "      <td>0.71</td>\n",
       "      <td>0.85</td>\n",
       "      <td>0.71</td>\n",
       "    </tr>\n",
       "    <tr>\n",
       "      <th>width</th>\n",
       "      <td>1500.0</td>\n",
       "      <td>1210.0</td>\n",
       "      <td>952.0</td>\n",
       "      <td>1317.0</td>\n",
       "      <td>2000.0</td>\n",
       "      <td>1265.0</td>\n",
       "      <td>1125.0</td>\n",
       "      <td>1220.0</td>\n",
       "      <td>1275.0</td>\n",
       "      <td>1165.0</td>\n",
       "      <td>...</td>\n",
       "      <td>1240.0</td>\n",
       "      <td>1240.0</td>\n",
       "      <td>1300.0</td>\n",
       "      <td>1220.0</td>\n",
       "      <td>1240.0</td>\n",
       "      <td>1220.0</td>\n",
       "      <td>1500.0</td>\n",
       "      <td>1250.0</td>\n",
       "      <td>1250.0</td>\n",
       "      <td>1240.0</td>\n",
       "    </tr>\n",
       "    <tr>\n",
       "      <th>material_ref</th>\n",
       "      <td>DEQ1 S460MC</td>\n",
       "      <td>0000000000000000000000000000000000104991</td>\n",
       "      <td>S0380700</td>\n",
       "      <td>DX51D+ZM310MAO 2.3X1317</td>\n",
       "      <td>2_S275JR+AR-CL1</td>\n",
       "      <td>0000000000000000000000000000000000102325</td>\n",
       "      <td>NBW_L+_A_1125_0.4</td>\n",
       "      <td>0000000000000000000000000000000001000944</td>\n",
       "      <td>0000000000000000000000000000000000106786</td>\n",
       "      <td>0000000000000000000000000000000000102325</td>\n",
       "      <td>...</td>\n",
       "      <td>0000000000000000000000000000000001000856</td>\n",
       "      <td>0000000000000000000000000000000001000221</td>\n",
       "      <td>0000000000000000000000000000000001000224</td>\n",
       "      <td>0000000000000000000000000000000001000812</td>\n",
       "      <td>0000000000000000000000000000000001000222</td>\n",
       "      <td>0000000000000000000000000000000001000777</td>\n",
       "      <td>0000000000000000000000000000000001000227</td>\n",
       "      <td>0000000000000000000000000000000001004216</td>\n",
       "      <td>0000000000000000000000000000000001001149</td>\n",
       "      <td>0000000000000000000000000000000001005439</td>\n",
       "    </tr>\n",
       "    <tr>\n",
       "      <th>product_ref</th>\n",
       "      <td>1670798778</td>\n",
       "      <td>1668701718</td>\n",
       "      <td>628377</td>\n",
       "      <td>1668701718</td>\n",
       "      <td>640665</td>\n",
       "      <td>1668701718</td>\n",
       "      <td>611993</td>\n",
       "      <td>611993</td>\n",
       "      <td>1668701376</td>\n",
       "      <td>1668701718</td>\n",
       "      <td>...</td>\n",
       "      <td>164141591</td>\n",
       "      <td>164141591</td>\n",
       "      <td>164141591</td>\n",
       "      <td>164141591</td>\n",
       "      <td>164141591</td>\n",
       "      <td>164141591</td>\n",
       "      <td>164141591</td>\n",
       "      <td>164141591</td>\n",
       "      <td>164141591</td>\n",
       "      <td>164141591</td>\n",
       "    </tr>\n",
       "    <tr>\n",
       "      <th>delivery date</th>\n",
       "      <td>20210701.0</td>\n",
       "      <td>20210401.0</td>\n",
       "      <td>20210101.0</td>\n",
       "      <td>20210101.0</td>\n",
       "      <td>20210301.0</td>\n",
       "      <td>20210401.0</td>\n",
       "      <td>20210701.0</td>\n",
       "      <td>20210101.0</td>\n",
       "      <td>20210701.0</td>\n",
       "      <td>20210401.0</td>\n",
       "      <td>...</td>\n",
       "      <td>20200701.0</td>\n",
       "      <td>20200701.0</td>\n",
       "      <td>20200701.0</td>\n",
       "      <td>20200701.0</td>\n",
       "      <td>20200701.0</td>\n",
       "      <td>20200701.0</td>\n",
       "      <td>20200701.0</td>\n",
       "      <td>20200701.0</td>\n",
       "      <td>20200701.0</td>\n",
       "      <td>20200701.0</td>\n",
       "    </tr>\n",
       "    <tr>\n",
       "      <th>selling_price</th>\n",
       "      <td>854.0</td>\n",
       "      <td>1047.0</td>\n",
       "      <td>644.33</td>\n",
       "      <td>768.0</td>\n",
       "      <td>577.0</td>\n",
       "      <td>983.0</td>\n",
       "      <td>18.0</td>\n",
       "      <td>931.0</td>\n",
       "      <td>1363.0</td>\n",
       "      <td>983.0</td>\n",
       "      <td>...</td>\n",
       "      <td>622.0</td>\n",
       "      <td>609.0</td>\n",
       "      <td>608.0</td>\n",
       "      <td>590.0</td>\n",
       "      <td>602.0</td>\n",
       "      <td>591.0</td>\n",
       "      <td>589.0</td>\n",
       "      <td>619.0</td>\n",
       "      <td>601.0</td>\n",
       "      <td>607.0</td>\n",
       "    </tr>\n",
       "  </tbody>\n",
       "</table>\n",
       "<p>14 rows × 181673 columns</p>\n",
       "</div>"
      ],
      "text/plain": [
       "                                             0       \\\n",
       "id             EC06F063-9DF0-440C-8764-0B0C05A4F6AE   \n",
       "item_date                                20210401.0   \n",
       "quantity tons                             54.151139   \n",
       "customer                                 30156308.0   \n",
       "country                                        28.0   \n",
       "status                                          Won   \n",
       "item type                                         W   \n",
       "application                                    10.0   \n",
       "thickness                                       2.0   \n",
       "width                                        1500.0   \n",
       "material_ref                            DEQ1 S460MC   \n",
       "product_ref                              1670798778   \n",
       "delivery date                            20210701.0   \n",
       "selling_price                                 854.0   \n",
       "\n",
       "                                                 1       \\\n",
       "id                 4E5F4B3D-DDDF-499D-AFDE-A3227EC49425   \n",
       "item_date                                    20210401.0   \n",
       "quantity tons                                768.024839   \n",
       "customer                                     30202938.0   \n",
       "country                                            25.0   \n",
       "status                                              Won   \n",
       "item type                                             W   \n",
       "application                                        41.0   \n",
       "thickness                                           0.8   \n",
       "width                                            1210.0   \n",
       "material_ref   0000000000000000000000000000000000104991   \n",
       "product_ref                                  1668701718   \n",
       "delivery date                                20210401.0   \n",
       "selling_price                                    1047.0   \n",
       "\n",
       "                                             2       \\\n",
       "id             E140FF1B-2407-4C02-A0DD-780A093B1158   \n",
       "item_date                                20210401.0   \n",
       "quantity tons                            386.127949   \n",
       "customer                                 30153963.0   \n",
       "country                                        30.0   \n",
       "status                                          Won   \n",
       "item type                                        WI   \n",
       "application                                    28.0   \n",
       "thickness                                      0.38   \n",
       "width                                         952.0   \n",
       "material_ref                               S0380700   \n",
       "product_ref                                  628377   \n",
       "delivery date                            20210101.0   \n",
       "selling_price                                644.33   \n",
       "\n",
       "                                             3       \\\n",
       "id             F8D507A0-9C62-4EFE-831E-33E1DA53BB50   \n",
       "item_date                                20210401.0   \n",
       "quantity tons                            202.411065   \n",
       "customer                                 30349574.0   \n",
       "country                                        32.0   \n",
       "status                                          Won   \n",
       "item type                                         S   \n",
       "application                                    59.0   \n",
       "thickness                                       2.3   \n",
       "width                                        1317.0   \n",
       "material_ref                DX51D+ZM310MAO 2.3X1317   \n",
       "product_ref                              1668701718   \n",
       "delivery date                            20210101.0   \n",
       "selling_price                                 768.0   \n",
       "\n",
       "                                             4       \\\n",
       "id             4E1C4E78-152B-430A-8094-ADD889C9D0AD   \n",
       "item_date                                20210401.0   \n",
       "quantity tons                            785.526262   \n",
       "customer                                 30211560.0   \n",
       "country                                        28.0   \n",
       "status                                          Won   \n",
       "item type                                         W   \n",
       "application                                    10.0   \n",
       "thickness                                       4.0   \n",
       "width                                        2000.0   \n",
       "material_ref                        2_S275JR+AR-CL1   \n",
       "product_ref                                  640665   \n",
       "delivery date                            20210301.0   \n",
       "selling_price                                 577.0   \n",
       "\n",
       "                                                 5       \\\n",
       "id                 FE372230-29B1-4A29-BB73-CB9D3078C286   \n",
       "item_date                                    20210401.0   \n",
       "quantity tons                                225.790676   \n",
       "customer                                     30202938.0   \n",
       "country                                            25.0   \n",
       "status                                              Won   \n",
       "item type                                             W   \n",
       "application                                        41.0   \n",
       "thickness                                           1.5   \n",
       "width                                            1265.0   \n",
       "material_ref   0000000000000000000000000000000000102325   \n",
       "product_ref                                  1668701718   \n",
       "delivery date                                20210401.0   \n",
       "selling_price                                     983.0   \n",
       "\n",
       "                                             6       \\\n",
       "id             E1B47219-42C8-411D-AE46-AD5256DC4757   \n",
       "item_date                                20210401.0   \n",
       "quantity tons                              3.522613   \n",
       "customer                                 30209509.0   \n",
       "country                                        30.0   \n",
       "status                                        Draft   \n",
       "item type                                         W   \n",
       "application                                    41.0   \n",
       "thickness                                      0.38   \n",
       "width                                        1125.0   \n",
       "material_ref                      NBW_L+_A_1125_0.4   \n",
       "product_ref                                  611993   \n",
       "delivery date                            20210701.0   \n",
       "selling_price                                  18.0   \n",
       "\n",
       "                                                 7       \\\n",
       "id                 AA3F18A2-A7D6-43DE-8644-F0632AE2CB68   \n",
       "item_date                                    20210401.0   \n",
       "quantity tons                                113.387124   \n",
       "customer                                     30342192.0   \n",
       "country                                            32.0   \n",
       "status                                              Won   \n",
       "item type                                             W   \n",
       "application                                        41.0   \n",
       "thickness                                          0.68   \n",
       "width                                            1220.0   \n",
       "material_ref   0000000000000000000000000000000001000944   \n",
       "product_ref                                      611993   \n",
       "delivery date                                20210101.0   \n",
       "selling_price                                     931.0   \n",
       "\n",
       "                                                 8       \\\n",
       "id                 2851F48B-DA32-4DF3-884B-17A3100DD65A   \n",
       "item_date                                    20210401.0   \n",
       "quantity tons                                 69.071853   \n",
       "customer                                     30341428.0   \n",
       "country                                            38.0   \n",
       "status                                              Won   \n",
       "item type                                             S   \n",
       "application                                        10.0   \n",
       "thickness                                           0.6   \n",
       "width                                            1275.0   \n",
       "material_ref   0000000000000000000000000000000000106786   \n",
       "product_ref                                  1668701376   \n",
       "delivery date                                20210701.0   \n",
       "selling_price                                    1363.0   \n",
       "\n",
       "                                                 9       ...  \\\n",
       "id                 6E4D638C-A820-4A40-836F-C9D48BC65528  ...   \n",
       "item_date                                    20210401.0  ...   \n",
       "quantity tons                                630.626917  ...   \n",
       "customer                                     30202938.0  ...   \n",
       "country                                            25.0  ...   \n",
       "status                                              Won  ...   \n",
       "item type                                             W  ...   \n",
       "application                                        41.0  ...   \n",
       "thickness                                           1.5  ...   \n",
       "width                                            1165.0  ...   \n",
       "material_ref   0000000000000000000000000000000000102325  ...   \n",
       "product_ref                                  1668701718  ...   \n",
       "delivery date                                20210401.0  ...   \n",
       "selling_price                                     983.0  ...   \n",
       "\n",
       "                                                 181663  \\\n",
       "id                 08F8F1D6-0DAC-42B5-BA8A-B6C99EF1700B   \n",
       "item_date                                    20200702.0   \n",
       "quantity tons                               1203.157826   \n",
       "customer                                     30200854.0   \n",
       "country                                            25.0   \n",
       "status                                              Won   \n",
       "item type                                             W   \n",
       "application                                        41.0   \n",
       "thickness                                          0.72   \n",
       "width                                            1240.0   \n",
       "material_ref   0000000000000000000000000000000001000856   \n",
       "product_ref                                   164141591   \n",
       "delivery date                                20200701.0   \n",
       "selling_price                                     622.0   \n",
       "\n",
       "                                                 181664  \\\n",
       "id                 A33557CD-93EF-4828-8235-E0A576C1A925   \n",
       "item_date                                    20200702.0   \n",
       "quantity tons                               603.1149396   \n",
       "customer                                     30200854.0   \n",
       "country                                            25.0   \n",
       "status                                              Won   \n",
       "item type                                             W   \n",
       "application                                        41.0   \n",
       "thickness                                          0.85   \n",
       "width                                            1240.0   \n",
       "material_ref   0000000000000000000000000000000001000221   \n",
       "product_ref                                   164141591   \n",
       "delivery date                                20200701.0   \n",
       "selling_price                                     609.0   \n",
       "\n",
       "                                                 181665  \\\n",
       "id                 F9B79E56-2EBF-417B-9802-7F575D1079F7   \n",
       "item_date                                    20200702.0   \n",
       "quantity tons                               6.169226263   \n",
       "customer                                     30200854.0   \n",
       "country                                            25.0   \n",
       "status                                              Won   \n",
       "item type                                             W   \n",
       "application                                        41.0   \n",
       "thickness                                          0.71   \n",
       "width                                            1300.0   \n",
       "material_ref   0000000000000000000000000000000001000224   \n",
       "product_ref                                   164141591   \n",
       "delivery date                                20200701.0   \n",
       "selling_price                                     608.0   \n",
       "\n",
       "                                                 181666  \\\n",
       "id                 C01DE4E8-BC5F-42AD-B35F-8FCBEE34C6ED   \n",
       "item_date                                    20200702.0   \n",
       "quantity tons                               82.12379422   \n",
       "customer                                     30200854.0   \n",
       "country                                            25.0   \n",
       "status                                              Won   \n",
       "item type                                             W   \n",
       "application                                        41.0   \n",
       "thickness                                          1.18   \n",
       "width                                            1220.0   \n",
       "material_ref   0000000000000000000000000000000001000812   \n",
       "product_ref                                   164141591   \n",
       "delivery date                                20200701.0   \n",
       "selling_price                                     590.0   \n",
       "\n",
       "                                                 181667  \\\n",
       "id                 0B812591-B501-4F34-859A-B06381FAEB44   \n",
       "item_date                                    20200702.0   \n",
       "quantity tons                               106.7832992   \n",
       "customer                                     30200854.0   \n",
       "country                                            25.0   \n",
       "status                                              Won   \n",
       "item type                                             W   \n",
       "application                                        41.0   \n",
       "thickness                                          0.96   \n",
       "width                                            1240.0   \n",
       "material_ref   0000000000000000000000000000000001000222   \n",
       "product_ref                                   164141591   \n",
       "delivery date                                20200701.0   \n",
       "selling_price                                     602.0   \n",
       "\n",
       "                                                 181668  \\\n",
       "id                 DE633116-D1DF-4846-982E-55EFC3658A76   \n",
       "item_date                                    20200702.0   \n",
       "quantity tons                               102.4824216   \n",
       "customer                                     30200854.0   \n",
       "country                                            25.0   \n",
       "status                                              Won   \n",
       "item type                                             W   \n",
       "application                                        41.0   \n",
       "thickness                                          0.96   \n",
       "width                                            1220.0   \n",
       "material_ref   0000000000000000000000000000000001000777   \n",
       "product_ref                                   164141591   \n",
       "delivery date                                20200701.0   \n",
       "selling_price                                     591.0   \n",
       "\n",
       "                                                 181669  \\\n",
       "id                 A48374B1-E6DB-45F2-889A-1F9C27C099EB   \n",
       "item_date                                    20200702.0   \n",
       "quantity tons                               208.0864686   \n",
       "customer                                     30200854.0   \n",
       "country                                            25.0   \n",
       "status                                              Won   \n",
       "item type                                             W   \n",
       "application                                        41.0   \n",
       "thickness                                          0.95   \n",
       "width                                            1500.0   \n",
       "material_ref   0000000000000000000000000000000001000227   \n",
       "product_ref                                   164141591   \n",
       "delivery date                                20200701.0   \n",
       "selling_price                                     589.0   \n",
       "\n",
       "                                                 181670  \\\n",
       "id                 91643238-5C7B-4237-9A5F-63AE3D35F320   \n",
       "item_date                                    20200702.0   \n",
       "quantity tons                               4.235593568   \n",
       "customer                                     30200854.0   \n",
       "country                                            25.0   \n",
       "status                                              Won   \n",
       "item type                                             W   \n",
       "application                                        41.0   \n",
       "thickness                                          0.71   \n",
       "width                                            1250.0   \n",
       "material_ref   0000000000000000000000000000000001004216   \n",
       "product_ref                                   164141591   \n",
       "delivery date                                20200701.0   \n",
       "selling_price                                     619.0   \n",
       "\n",
       "                                                 181671  \\\n",
       "id                 7AFFD323-01D9-4E15-B80D-7D1B03498FC8   \n",
       "item_date                                    20200702.0   \n",
       "quantity tons                                     -2000   \n",
       "customer                                     30200854.0   \n",
       "country                                            25.0   \n",
       "status                                              Won   \n",
       "item type                                             W   \n",
       "application                                        41.0   \n",
       "thickness                                          0.85   \n",
       "width                                            1250.0   \n",
       "material_ref   0000000000000000000000000000000001001149   \n",
       "product_ref                                   164141591   \n",
       "delivery date                                20200701.0   \n",
       "selling_price                                     601.0   \n",
       "\n",
       "                                                 181672  \n",
       "id                 AD0CA853-AE3C-4B2F-9FBB-8B0B965F84BC  \n",
       "item_date                                    20200702.0  \n",
       "quantity tons                               406.6865384  \n",
       "customer                                     30200854.0  \n",
       "country                                            25.0  \n",
       "status                                              Won  \n",
       "item type                                             W  \n",
       "application                                        41.0  \n",
       "thickness                                          0.71  \n",
       "width                                            1240.0  \n",
       "material_ref   0000000000000000000000000000000001005439  \n",
       "product_ref                                   164141591  \n",
       "delivery date                                20200701.0  \n",
       "selling_price                                     607.0  \n",
       "\n",
       "[14 rows x 181673 columns]"
      ]
     },
     "execution_count": 4,
     "metadata": {},
     "output_type": "execute_result"
    }
   ],
   "source": [
    "data=df.copy(True)\n",
    "data.T"
   ]
  },
  {
   "cell_type": "code",
   "execution_count": 5,
   "metadata": {},
   "outputs": [
    {
     "data": {
      "text/plain": [
       "(181673, 14)"
      ]
     },
     "execution_count": 5,
     "metadata": {},
     "output_type": "execute_result"
    }
   ],
   "source": [
    "data.shape"
   ]
  },
  {
   "cell_type": "code",
   "execution_count": 6,
   "metadata": {},
   "outputs": [
    {
     "name": "stdout",
     "output_type": "stream",
     "text": [
      "<class 'pandas.core.frame.DataFrame'>\n",
      "RangeIndex: 181673 entries, 0 to 181672\n",
      "Data columns (total 14 columns):\n",
      " #   Column         Non-Null Count   Dtype  \n",
      "---  ------         --------------   -----  \n",
      " 0   id             181671 non-null  object \n",
      " 1   item_date      181672 non-null  float64\n",
      " 2   quantity tons  181673 non-null  object \n",
      " 3   customer       181672 non-null  float64\n",
      " 4   country        181645 non-null  float64\n",
      " 5   status         181671 non-null  object \n",
      " 6   item type      181673 non-null  object \n",
      " 7   application    181649 non-null  float64\n",
      " 8   thickness      181672 non-null  float64\n",
      " 9   width          181673 non-null  float64\n",
      " 10  material_ref   103754 non-null  object \n",
      " 11  product_ref    181673 non-null  int64  \n",
      " 12  delivery date  181672 non-null  float64\n",
      " 13  selling_price  181672 non-null  float64\n",
      "dtypes: float64(8), int64(1), object(5)\n",
      "memory usage: 19.4+ MB\n"
     ]
    }
   ],
   "source": [
    "data.info()"
   ]
  },
  {
   "cell_type": "code",
   "execution_count": 7,
   "metadata": {},
   "outputs": [
    {
     "data": {
      "text/plain": [
       "id                   2\n",
       "item_date            1\n",
       "quantity tons        0\n",
       "customer             1\n",
       "country             28\n",
       "status               2\n",
       "item type            0\n",
       "application         24\n",
       "thickness            1\n",
       "width                0\n",
       "material_ref     77919\n",
       "product_ref          0\n",
       "delivery date        1\n",
       "selling_price        1\n",
       "dtype: int64"
      ]
     },
     "execution_count": 7,
     "metadata": {},
     "output_type": "execute_result"
    }
   ],
   "source": [
    "data.isna().sum()"
   ]
  },
  {
   "cell_type": "code",
   "execution_count": 8,
   "metadata": {},
   "outputs": [
    {
     "name": "stdout",
     "output_type": "stream",
     "text": [
      "id  \t:  181671\n",
      "item_date  \t:  252\n",
      "quantity tons  \t:  181673\n",
      "customer  \t:  1169\n",
      "country  \t:  17\n",
      "status  \t:  9\n",
      "item type  \t:  7\n",
      "application  \t:  30\n",
      "thickness  \t:  594\n",
      "width  \t:  1386\n",
      "material_ref  \t:  16563\n",
      "product_ref  \t:  33\n",
      "delivery date  \t:  28\n",
      "selling_price  \t:  9795\n"
     ]
    }
   ],
   "source": [
    "for i in list(data.columns):\n",
    "    print(f\"{i}  \\t:  {data[i].nunique()}\")"
   ]
  },
  {
   "cell_type": "code",
   "execution_count": 9,
   "metadata": {},
   "outputs": [
    {
     "data": {
      "text/plain": [
       "26        NaN\n",
       "104566    NaN\n",
       "Name: id, dtype: object"
      ]
     },
     "execution_count": 9,
     "metadata": {},
     "output_type": "execute_result"
    }
   ],
   "source": [
    "data[data[\"id\"].isna()==True]['id']"
   ]
  },
  {
   "cell_type": "code",
   "execution_count": 10,
   "metadata": {},
   "outputs": [
    {
     "data": {
      "text/plain": [
       "id                          NaN\n",
       "item_date            20210401.0\n",
       "quantity tons          15.92799\n",
       "customer             30271717.0\n",
       "country                    28.0\n",
       "status           To be approved\n",
       "item type                     W\n",
       "application                10.0\n",
       "thickness                   0.8\n",
       "width                    1000.0\n",
       "material_ref                NaN\n",
       "product_ref              611993\n",
       "delivery date        20210701.0\n",
       "selling_price            1208.0\n",
       "Name: 26, dtype: object"
      ]
     },
     "execution_count": 10,
     "metadata": {},
     "output_type": "execute_result"
    }
   ],
   "source": [
    "data.iloc[26]"
   ]
  },
  {
   "cell_type": "code",
   "execution_count": 11,
   "metadata": {},
   "outputs": [
    {
     "data": {
      "text/html": [
       "<div>\n",
       "<style scoped>\n",
       "    .dataframe tbody tr th:only-of-type {\n",
       "        vertical-align: middle;\n",
       "    }\n",
       "\n",
       "    .dataframe tbody tr th {\n",
       "        vertical-align: top;\n",
       "    }\n",
       "\n",
       "    .dataframe thead th {\n",
       "        text-align: right;\n",
       "    }\n",
       "</style>\n",
       "<table border=\"1\" class=\"dataframe\">\n",
       "  <thead>\n",
       "    <tr style=\"text-align: right;\">\n",
       "      <th></th>\n",
       "      <th>count</th>\n",
       "      <th>mean</th>\n",
       "      <th>std</th>\n",
       "      <th>min</th>\n",
       "      <th>25%</th>\n",
       "      <th>50%</th>\n",
       "      <th>75%</th>\n",
       "      <th>max</th>\n",
       "    </tr>\n",
       "  </thead>\n",
       "  <tbody>\n",
       "    <tr>\n",
       "      <th>item_date</th>\n",
       "      <td>181672.0</td>\n",
       "      <td>2.020459e+07</td>\n",
       "      <td>4.551119e+03</td>\n",
       "      <td>19950000.00</td>\n",
       "      <td>20200929.0</td>\n",
       "      <td>20201130.0</td>\n",
       "      <td>2.021020e+07</td>\n",
       "      <td>2.021040e+07</td>\n",
       "    </tr>\n",
       "    <tr>\n",
       "      <th>customer</th>\n",
       "      <td>181672.0</td>\n",
       "      <td>3.051221e+07</td>\n",
       "      <td>2.433382e+07</td>\n",
       "      <td>12458.00</td>\n",
       "      <td>30196884.0</td>\n",
       "      <td>30205242.0</td>\n",
       "      <td>3.028042e+07</td>\n",
       "      <td>2.147484e+09</td>\n",
       "    </tr>\n",
       "    <tr>\n",
       "      <th>country</th>\n",
       "      <td>181645.0</td>\n",
       "      <td>4.489302e+01</td>\n",
       "      <td>2.440421e+01</td>\n",
       "      <td>25.00</td>\n",
       "      <td>26.0</td>\n",
       "      <td>30.0</td>\n",
       "      <td>7.800000e+01</td>\n",
       "      <td>1.130000e+02</td>\n",
       "    </tr>\n",
       "    <tr>\n",
       "      <th>application</th>\n",
       "      <td>181649.0</td>\n",
       "      <td>2.561581e+01</td>\n",
       "      <td>1.775417e+01</td>\n",
       "      <td>2.00</td>\n",
       "      <td>10.0</td>\n",
       "      <td>15.0</td>\n",
       "      <td>4.100000e+01</td>\n",
       "      <td>9.900000e+01</td>\n",
       "    </tr>\n",
       "    <tr>\n",
       "      <th>thickness</th>\n",
       "      <td>181672.0</td>\n",
       "      <td>2.564827e+00</td>\n",
       "      <td>6.572321e+00</td>\n",
       "      <td>0.18</td>\n",
       "      <td>0.7</td>\n",
       "      <td>1.5</td>\n",
       "      <td>3.000000e+00</td>\n",
       "      <td>2.500000e+03</td>\n",
       "    </tr>\n",
       "    <tr>\n",
       "      <th>width</th>\n",
       "      <td>181673.0</td>\n",
       "      <td>1.295287e+03</td>\n",
       "      <td>2.616318e+02</td>\n",
       "      <td>1.00</td>\n",
       "      <td>1180.0</td>\n",
       "      <td>1250.0</td>\n",
       "      <td>1.500000e+03</td>\n",
       "      <td>2.990000e+03</td>\n",
       "    </tr>\n",
       "    <tr>\n",
       "      <th>product_ref</th>\n",
       "      <td>181673.0</td>\n",
       "      <td>4.739679e+08</td>\n",
       "      <td>7.175101e+08</td>\n",
       "      <td>611728.00</td>\n",
       "      <td>611993.0</td>\n",
       "      <td>640665.0</td>\n",
       "      <td>1.332077e+09</td>\n",
       "      <td>1.722208e+09</td>\n",
       "    </tr>\n",
       "    <tr>\n",
       "      <th>delivery date</th>\n",
       "      <td>181672.0</td>\n",
       "      <td>2.020738e+07</td>\n",
       "      <td>2.411059e+04</td>\n",
       "      <td>20190401.00</td>\n",
       "      <td>20201101.0</td>\n",
       "      <td>20210101.0</td>\n",
       "      <td>2.021040e+07</td>\n",
       "      <td>3.031010e+07</td>\n",
       "    </tr>\n",
       "    <tr>\n",
       "      <th>selling_price</th>\n",
       "      <td>181672.0</td>\n",
       "      <td>1.918036e+03</td>\n",
       "      <td>3.317956e+05</td>\n",
       "      <td>-1160.00</td>\n",
       "      <td>669.0</td>\n",
       "      <td>812.0</td>\n",
       "      <td>9.530000e+02</td>\n",
       "      <td>1.000010e+08</td>\n",
       "    </tr>\n",
       "  </tbody>\n",
       "</table>\n",
       "</div>"
      ],
      "text/plain": [
       "                  count          mean           std          min         25%  \\\n",
       "item_date      181672.0  2.020459e+07  4.551119e+03  19950000.00  20200929.0   \n",
       "customer       181672.0  3.051221e+07  2.433382e+07     12458.00  30196884.0   \n",
       "country        181645.0  4.489302e+01  2.440421e+01        25.00        26.0   \n",
       "application    181649.0  2.561581e+01  1.775417e+01         2.00        10.0   \n",
       "thickness      181672.0  2.564827e+00  6.572321e+00         0.18         0.7   \n",
       "width          181673.0  1.295287e+03  2.616318e+02         1.00      1180.0   \n",
       "product_ref    181673.0  4.739679e+08  7.175101e+08    611728.00    611993.0   \n",
       "delivery date  181672.0  2.020738e+07  2.411059e+04  20190401.00  20201101.0   \n",
       "selling_price  181672.0  1.918036e+03  3.317956e+05     -1160.00       669.0   \n",
       "\n",
       "                      50%           75%           max  \n",
       "item_date      20201130.0  2.021020e+07  2.021040e+07  \n",
       "customer       30205242.0  3.028042e+07  2.147484e+09  \n",
       "country              30.0  7.800000e+01  1.130000e+02  \n",
       "application          15.0  4.100000e+01  9.900000e+01  \n",
       "thickness             1.5  3.000000e+00  2.500000e+03  \n",
       "width              1250.0  1.500000e+03  2.990000e+03  \n",
       "product_ref      640665.0  1.332077e+09  1.722208e+09  \n",
       "delivery date  20210101.0  2.021040e+07  3.031010e+07  \n",
       "selling_price       812.0  9.530000e+02  1.000010e+08  "
      ]
     },
     "execution_count": 11,
     "metadata": {},
     "output_type": "execute_result"
    }
   ],
   "source": [
    "data.describe().T"
   ]
  },
  {
   "cell_type": "markdown",
   "metadata": {},
   "source": [
    "PRE-PROCESSING"
   ]
  },
  {
   "cell_type": "markdown",
   "metadata": {},
   "source": [
    "CONVERTING DATE TIME FORMAT"
   ]
  },
  {
   "cell_type": "code",
   "execution_count": 12,
   "metadata": {},
   "outputs": [
    {
     "data": {
      "text/html": [
       "<div>\n",
       "<style scoped>\n",
       "    .dataframe tbody tr th:only-of-type {\n",
       "        vertical-align: middle;\n",
       "    }\n",
       "\n",
       "    .dataframe tbody tr th {\n",
       "        vertical-align: top;\n",
       "    }\n",
       "\n",
       "    .dataframe thead th {\n",
       "        text-align: right;\n",
       "    }\n",
       "</style>\n",
       "<table border=\"1\" class=\"dataframe\">\n",
       "  <thead>\n",
       "    <tr style=\"text-align: right;\">\n",
       "      <th></th>\n",
       "      <th>id</th>\n",
       "      <th>item_date</th>\n",
       "      <th>quantity tons</th>\n",
       "      <th>customer</th>\n",
       "      <th>country</th>\n",
       "      <th>status</th>\n",
       "      <th>item type</th>\n",
       "      <th>application</th>\n",
       "      <th>thickness</th>\n",
       "      <th>width</th>\n",
       "      <th>material_ref</th>\n",
       "      <th>product_ref</th>\n",
       "      <th>delivery date</th>\n",
       "      <th>selling_price</th>\n",
       "    </tr>\n",
       "  </thead>\n",
       "  <tbody>\n",
       "    <tr>\n",
       "      <th>0</th>\n",
       "      <td>EC06F063-9DF0-440C-8764-0B0C05A4F6AE</td>\n",
       "      <td>2021-04-01</td>\n",
       "      <td>54.151139</td>\n",
       "      <td>30156308.0</td>\n",
       "      <td>28.0</td>\n",
       "      <td>Won</td>\n",
       "      <td>W</td>\n",
       "      <td>10.0</td>\n",
       "      <td>2.0</td>\n",
       "      <td>1500.0</td>\n",
       "      <td>DEQ1 S460MC</td>\n",
       "      <td>1670798778</td>\n",
       "      <td>2021-07-01</td>\n",
       "      <td>854.0</td>\n",
       "    </tr>\n",
       "    <tr>\n",
       "      <th>1</th>\n",
       "      <td>4E5F4B3D-DDDF-499D-AFDE-A3227EC49425</td>\n",
       "      <td>2021-04-01</td>\n",
       "      <td>768.024839</td>\n",
       "      <td>30202938.0</td>\n",
       "      <td>25.0</td>\n",
       "      <td>Won</td>\n",
       "      <td>W</td>\n",
       "      <td>41.0</td>\n",
       "      <td>0.8</td>\n",
       "      <td>1210.0</td>\n",
       "      <td>0000000000000000000000000000000000104991</td>\n",
       "      <td>1668701718</td>\n",
       "      <td>2021-04-01</td>\n",
       "      <td>1047.0</td>\n",
       "    </tr>\n",
       "  </tbody>\n",
       "</table>\n",
       "</div>"
      ],
      "text/plain": [
       "                                     id   item_date quantity tons    customer  \\\n",
       "0  EC06F063-9DF0-440C-8764-0B0C05A4F6AE  2021-04-01     54.151139  30156308.0   \n",
       "1  4E5F4B3D-DDDF-499D-AFDE-A3227EC49425  2021-04-01    768.024839  30202938.0   \n",
       "\n",
       "   country status item type  application  thickness   width  \\\n",
       "0     28.0    Won         W         10.0        2.0  1500.0   \n",
       "1     25.0    Won         W         41.0        0.8  1210.0   \n",
       "\n",
       "                               material_ref  product_ref delivery date  \\\n",
       "0                               DEQ1 S460MC   1670798778    2021-07-01   \n",
       "1  0000000000000000000000000000000000104991   1668701718    2021-04-01   \n",
       "\n",
       "   selling_price  \n",
       "0          854.0  \n",
       "1         1047.0  "
      ]
     },
     "execution_count": 12,
     "metadata": {},
     "output_type": "execute_result"
    }
   ],
   "source": [
    "columns_to_convert_datetime = ['item_date', 'delivery date']\n",
    "for i in columns_to_convert_datetime:\n",
    "    data[i] = pd.to_datetime(data[i], format='%Y%m%d', errors='coerce').dt.date\n",
    "data.head(2)"
   ]
  },
  {
   "cell_type": "code",
   "execution_count": 13,
   "metadata": {},
   "outputs": [
    {
     "data": {
      "text/plain": [
       "id                object\n",
       "item_date         object\n",
       "quantity tons     object\n",
       "customer         float64\n",
       "country          float64\n",
       "status            object\n",
       "item type         object\n",
       "application      float64\n",
       "thickness        float64\n",
       "width            float64\n",
       "material_ref      object\n",
       "product_ref        int64\n",
       "delivery date     object\n",
       "selling_price    float64\n",
       "dtype: object"
      ]
     },
     "execution_count": 13,
     "metadata": {},
     "output_type": "execute_result"
    }
   ],
   "source": [
    "data.dtypes"
   ]
  },
  {
   "cell_type": "code",
   "execution_count": 14,
   "metadata": {},
   "outputs": [
    {
     "data": {
      "text/html": [
       "<div>\n",
       "<style scoped>\n",
       "    .dataframe tbody tr th:only-of-type {\n",
       "        vertical-align: middle;\n",
       "    }\n",
       "\n",
       "    .dataframe tbody tr th {\n",
       "        vertical-align: top;\n",
       "    }\n",
       "\n",
       "    .dataframe thead th {\n",
       "        text-align: right;\n",
       "    }\n",
       "</style>\n",
       "<table border=\"1\" class=\"dataframe\">\n",
       "  <thead>\n",
       "    <tr style=\"text-align: right;\">\n",
       "      <th></th>\n",
       "      <th>id</th>\n",
       "      <th>item_date</th>\n",
       "      <th>quantity tons</th>\n",
       "      <th>customer</th>\n",
       "      <th>country</th>\n",
       "      <th>status</th>\n",
       "      <th>item type</th>\n",
       "      <th>application</th>\n",
       "      <th>thickness</th>\n",
       "      <th>width</th>\n",
       "      <th>material_ref</th>\n",
       "      <th>product_ref</th>\n",
       "      <th>delivery date</th>\n",
       "      <th>selling_price</th>\n",
       "    </tr>\n",
       "  </thead>\n",
       "  <tbody>\n",
       "    <tr>\n",
       "      <th>0</th>\n",
       "      <td>EC06F063-9DF0-440C-8764-0B0C05A4F6AE</td>\n",
       "      <td>2021-04-01</td>\n",
       "      <td>54.151139</td>\n",
       "      <td>30156308.0</td>\n",
       "      <td>28.0</td>\n",
       "      <td>Won</td>\n",
       "      <td>W</td>\n",
       "      <td>10.0</td>\n",
       "      <td>2.0</td>\n",
       "      <td>1500.0</td>\n",
       "      <td>DEQ1 S460MC</td>\n",
       "      <td>1670798778</td>\n",
       "      <td>2021-07-01</td>\n",
       "      <td>854.0</td>\n",
       "    </tr>\n",
       "    <tr>\n",
       "      <th>1</th>\n",
       "      <td>4E5F4B3D-DDDF-499D-AFDE-A3227EC49425</td>\n",
       "      <td>2021-04-01</td>\n",
       "      <td>768.024839</td>\n",
       "      <td>30202938.0</td>\n",
       "      <td>25.0</td>\n",
       "      <td>Won</td>\n",
       "      <td>W</td>\n",
       "      <td>41.0</td>\n",
       "      <td>0.8</td>\n",
       "      <td>1210.0</td>\n",
       "      <td>0000000000000000000000000000000000104991</td>\n",
       "      <td>1668701718</td>\n",
       "      <td>2021-04-01</td>\n",
       "      <td>1047.0</td>\n",
       "    </tr>\n",
       "  </tbody>\n",
       "</table>\n",
       "</div>"
      ],
      "text/plain": [
       "                                     id  item_date quantity tons    customer  \\\n",
       "0  EC06F063-9DF0-440C-8764-0B0C05A4F6AE 2021-04-01     54.151139  30156308.0   \n",
       "1  4E5F4B3D-DDDF-499D-AFDE-A3227EC49425 2021-04-01    768.024839  30202938.0   \n",
       "\n",
       "   country status item type  application  thickness   width  \\\n",
       "0     28.0    Won         W         10.0        2.0  1500.0   \n",
       "1     25.0    Won         W         41.0        0.8  1210.0   \n",
       "\n",
       "                               material_ref  product_ref delivery date  \\\n",
       "0                               DEQ1 S460MC   1670798778    2021-07-01   \n",
       "1  0000000000000000000000000000000000104991   1668701718    2021-04-01   \n",
       "\n",
       "   selling_price  \n",
       "0          854.0  \n",
       "1         1047.0  "
      ]
     },
     "execution_count": 14,
     "metadata": {},
     "output_type": "execute_result"
    }
   ],
   "source": [
    "data['item_date'] = pd.to_datetime(data['item_date'], format='%Y-%m-%d')\n",
    "data['delivery date']=pd.to_datetime(data['delivery date'],format='%Y-%m-%d')\n",
    "data.head(2)"
   ]
  },
  {
   "cell_type": "code",
   "execution_count": 15,
   "metadata": {},
   "outputs": [
    {
     "name": "stdout",
     "output_type": "stream",
     "text": [
      "2021-04-01 00:00:00\n",
      "2020-07-02 00:00:00\n"
     ]
    }
   ],
   "source": [
    "print(data['item_date'].max())\n",
    "print(data['item_date'].min())"
   ]
  },
  {
   "cell_type": "code",
   "execution_count": 16,
   "metadata": {},
   "outputs": [
    {
     "name": "stdout",
     "output_type": "stream",
     "text": [
      "2022-01-01 00:00:00\n",
      "2019-04-01 00:00:00\n"
     ]
    }
   ],
   "source": [
    "print(data[\"delivery date\"].max())\n",
    "print(data['delivery date'].min())"
   ]
  },
  {
   "cell_type": "code",
   "execution_count": 17,
   "metadata": {},
   "outputs": [
    {
     "data": {
      "text/plain": [
       "id                       object\n",
       "item_date        datetime64[ns]\n",
       "quantity tons            object\n",
       "customer                float64\n",
       "country                 float64\n",
       "status                   object\n",
       "item type                object\n",
       "application             float64\n",
       "thickness               float64\n",
       "width                   float64\n",
       "material_ref             object\n",
       "product_ref               int64\n",
       "delivery date    datetime64[ns]\n",
       "selling_price           float64\n",
       "dtype: object"
      ]
     },
     "execution_count": 17,
     "metadata": {},
     "output_type": "execute_result"
    }
   ],
   "source": [
    "data.dtypes"
   ]
  },
  {
   "cell_type": "markdown",
   "metadata": {},
   "source": [
    "CONVERTING NUMERIC VALUES"
   ]
  },
  {
   "cell_type": "code",
   "execution_count": 18,
   "metadata": {},
   "outputs": [
    {
     "data": {
      "text/plain": [
       "id                       object\n",
       "item_date        datetime64[ns]\n",
       "quantity tons            object\n",
       "customer                float64\n",
       "country                 float64\n",
       "status                   object\n",
       "item type                object\n",
       "application             float64\n",
       "thickness               float64\n",
       "width                   float64\n",
       "material_ref             object\n",
       "product_ref               int64\n",
       "delivery date    datetime64[ns]\n",
       "selling_price           float64\n",
       "dtype: object"
      ]
     },
     "execution_count": 18,
     "metadata": {},
     "output_type": "execute_result"
    }
   ],
   "source": [
    "data.dtypes"
   ]
  },
  {
   "cell_type": "code",
   "execution_count": 19,
   "metadata": {},
   "outputs": [
    {
     "data": {
      "text/html": [
       "<div>\n",
       "<style scoped>\n",
       "    .dataframe tbody tr th:only-of-type {\n",
       "        vertical-align: middle;\n",
       "    }\n",
       "\n",
       "    .dataframe tbody tr th {\n",
       "        vertical-align: top;\n",
       "    }\n",
       "\n",
       "    .dataframe thead th {\n",
       "        text-align: right;\n",
       "    }\n",
       "</style>\n",
       "<table border=\"1\" class=\"dataframe\">\n",
       "  <thead>\n",
       "    <tr style=\"text-align: right;\">\n",
       "      <th></th>\n",
       "      <th>id</th>\n",
       "      <th>item_date</th>\n",
       "      <th>quantity tons</th>\n",
       "      <th>customer</th>\n",
       "      <th>country</th>\n",
       "      <th>status</th>\n",
       "      <th>item type</th>\n",
       "      <th>application</th>\n",
       "      <th>thickness</th>\n",
       "      <th>width</th>\n",
       "      <th>material_ref</th>\n",
       "      <th>product_ref</th>\n",
       "      <th>delivery date</th>\n",
       "      <th>selling_price</th>\n",
       "    </tr>\n",
       "  </thead>\n",
       "  <tbody>\n",
       "    <tr>\n",
       "      <th>0</th>\n",
       "      <td>EC06F063-9DF0-440C-8764-0B0C05A4F6AE</td>\n",
       "      <td>2021-04-01</td>\n",
       "      <td>54.151139</td>\n",
       "      <td>30156308.0</td>\n",
       "      <td>28.0</td>\n",
       "      <td>Won</td>\n",
       "      <td>W</td>\n",
       "      <td>10.0</td>\n",
       "      <td>2.0</td>\n",
       "      <td>1500.0</td>\n",
       "      <td>DEQ1 S460MC</td>\n",
       "      <td>1670798778</td>\n",
       "      <td>2021-07-01</td>\n",
       "      <td>854.0</td>\n",
       "    </tr>\n",
       "    <tr>\n",
       "      <th>1</th>\n",
       "      <td>4E5F4B3D-DDDF-499D-AFDE-A3227EC49425</td>\n",
       "      <td>2021-04-01</td>\n",
       "      <td>768.024839</td>\n",
       "      <td>30202938.0</td>\n",
       "      <td>25.0</td>\n",
       "      <td>Won</td>\n",
       "      <td>W</td>\n",
       "      <td>41.0</td>\n",
       "      <td>0.8</td>\n",
       "      <td>1210.0</td>\n",
       "      <td>0000000000000000000000000000000000104991</td>\n",
       "      <td>1668701718</td>\n",
       "      <td>2021-04-01</td>\n",
       "      <td>1047.0</td>\n",
       "    </tr>\n",
       "  </tbody>\n",
       "</table>\n",
       "</div>"
      ],
      "text/plain": [
       "                                     id  item_date  quantity tons    customer  \\\n",
       "0  EC06F063-9DF0-440C-8764-0B0C05A4F6AE 2021-04-01      54.151139  30156308.0   \n",
       "1  4E5F4B3D-DDDF-499D-AFDE-A3227EC49425 2021-04-01     768.024839  30202938.0   \n",
       "\n",
       "   country status item type  application  thickness   width  \\\n",
       "0     28.0    Won         W         10.0        2.0  1500.0   \n",
       "1     25.0    Won         W         41.0        0.8  1210.0   \n",
       "\n",
       "                               material_ref  product_ref delivery date  \\\n",
       "0                               DEQ1 S460MC   1670798778    2021-07-01   \n",
       "1  0000000000000000000000000000000000104991   1668701718    2021-04-01   \n",
       "\n",
       "   selling_price  \n",
       "0          854.0  \n",
       "1         1047.0  "
      ]
     },
     "execution_count": 19,
     "metadata": {},
     "output_type": "execute_result"
    }
   ],
   "source": [
    "columns_to_convert_numeric = [\"quantity tons\", \"customer\",\"country\", \"application\", \"thickness\", \"width\", \"selling_price\"]\n",
    "for i in columns_to_convert_numeric:\n",
    "  data[i]=pd.to_numeric(data[i],errors='coerce')\n",
    "data.head(2)"
   ]
  },
  {
   "cell_type": "code",
   "execution_count": 20,
   "metadata": {},
   "outputs": [
    {
     "data": {
      "text/plain": [
       "id                       object\n",
       "item_date        datetime64[ns]\n",
       "quantity tons           float64\n",
       "customer                float64\n",
       "country                 float64\n",
       "status                   object\n",
       "item type                object\n",
       "application             float64\n",
       "thickness               float64\n",
       "width                   float64\n",
       "material_ref             object\n",
       "product_ref               int64\n",
       "delivery date    datetime64[ns]\n",
       "selling_price           float64\n",
       "dtype: object"
      ]
     },
     "execution_count": 20,
     "metadata": {},
     "output_type": "execute_result"
    }
   ],
   "source": [
    "data.dtypes"
   ]
  },
  {
   "cell_type": "code",
   "execution_count": 21,
   "metadata": {},
   "outputs": [
    {
     "data": {
      "text/plain": [
       "id                   2\n",
       "item_date            3\n",
       "quantity tons        1\n",
       "customer             1\n",
       "country             28\n",
       "status               2\n",
       "item type            0\n",
       "application         24\n",
       "thickness            1\n",
       "width                0\n",
       "material_ref     77919\n",
       "product_ref          0\n",
       "delivery date        3\n",
       "selling_price        1\n",
       "dtype: int64"
      ]
     },
     "execution_count": 21,
     "metadata": {},
     "output_type": "execute_result"
    }
   ],
   "source": [
    "data.isna().sum()"
   ]
  },
  {
   "cell_type": "markdown",
   "metadata": {},
   "source": [
    "DROP ID COLUMN"
   ]
  },
  {
   "cell_type": "code",
   "execution_count": 22,
   "metadata": {},
   "outputs": [
    {
     "data": {
      "text/html": [
       "<div>\n",
       "<style scoped>\n",
       "    .dataframe tbody tr th:only-of-type {\n",
       "        vertical-align: middle;\n",
       "    }\n",
       "\n",
       "    .dataframe tbody tr th {\n",
       "        vertical-align: top;\n",
       "    }\n",
       "\n",
       "    .dataframe thead th {\n",
       "        text-align: right;\n",
       "    }\n",
       "</style>\n",
       "<table border=\"1\" class=\"dataframe\">\n",
       "  <thead>\n",
       "    <tr style=\"text-align: right;\">\n",
       "      <th></th>\n",
       "      <th>item_date</th>\n",
       "      <th>quantity tons</th>\n",
       "      <th>customer</th>\n",
       "      <th>country</th>\n",
       "      <th>status</th>\n",
       "      <th>item type</th>\n",
       "      <th>application</th>\n",
       "      <th>thickness</th>\n",
       "      <th>width</th>\n",
       "      <th>material_ref</th>\n",
       "      <th>product_ref</th>\n",
       "      <th>delivery date</th>\n",
       "      <th>selling_price</th>\n",
       "    </tr>\n",
       "  </thead>\n",
       "  <tbody>\n",
       "    <tr>\n",
       "      <th>0</th>\n",
       "      <td>2021-04-01</td>\n",
       "      <td>54.151139</td>\n",
       "      <td>30156308.0</td>\n",
       "      <td>28.0</td>\n",
       "      <td>Won</td>\n",
       "      <td>W</td>\n",
       "      <td>10.0</td>\n",
       "      <td>2.0</td>\n",
       "      <td>1500.0</td>\n",
       "      <td>DEQ1 S460MC</td>\n",
       "      <td>1670798778</td>\n",
       "      <td>2021-07-01</td>\n",
       "      <td>854.0</td>\n",
       "    </tr>\n",
       "    <tr>\n",
       "      <th>1</th>\n",
       "      <td>2021-04-01</td>\n",
       "      <td>768.024839</td>\n",
       "      <td>30202938.0</td>\n",
       "      <td>25.0</td>\n",
       "      <td>Won</td>\n",
       "      <td>W</td>\n",
       "      <td>41.0</td>\n",
       "      <td>0.8</td>\n",
       "      <td>1210.0</td>\n",
       "      <td>0000000000000000000000000000000000104991</td>\n",
       "      <td>1668701718</td>\n",
       "      <td>2021-04-01</td>\n",
       "      <td>1047.0</td>\n",
       "    </tr>\n",
       "  </tbody>\n",
       "</table>\n",
       "</div>"
      ],
      "text/plain": [
       "   item_date  quantity tons    customer  country status item type  \\\n",
       "0 2021-04-01      54.151139  30156308.0     28.0    Won         W   \n",
       "1 2021-04-01     768.024839  30202938.0     25.0    Won         W   \n",
       "\n",
       "   application  thickness   width                              material_ref  \\\n",
       "0         10.0        2.0  1500.0                               DEQ1 S460MC   \n",
       "1         41.0        0.8  1210.0  0000000000000000000000000000000000104991   \n",
       "\n",
       "   product_ref delivery date  selling_price  \n",
       "0   1670798778    2021-07-01          854.0  \n",
       "1   1668701718    2021-04-01         1047.0  "
      ]
     },
     "execution_count": 22,
     "metadata": {},
     "output_type": "execute_result"
    }
   ],
   "source": [
    "data.drop(columns=['id'],inplace=True)\n",
    "data.head(2)"
   ]
  },
  {
   "cell_type": "markdown",
   "metadata": {},
   "source": [
    "MATERIAL_REF COLUMN\n"
   ]
  },
  {
   "cell_type": "code",
   "execution_count": 23,
   "metadata": {},
   "outputs": [
    {
     "data": {
      "text/html": [
       "<div>\n",
       "<style scoped>\n",
       "    .dataframe tbody tr th:only-of-type {\n",
       "        vertical-align: middle;\n",
       "    }\n",
       "\n",
       "    .dataframe tbody tr th {\n",
       "        vertical-align: top;\n",
       "    }\n",
       "\n",
       "    .dataframe thead th {\n",
       "        text-align: right;\n",
       "    }\n",
       "</style>\n",
       "<table border=\"1\" class=\"dataframe\">\n",
       "  <thead>\n",
       "    <tr style=\"text-align: right;\">\n",
       "      <th></th>\n",
       "      <th>item_date</th>\n",
       "      <th>quantity tons</th>\n",
       "      <th>customer</th>\n",
       "      <th>country</th>\n",
       "      <th>status</th>\n",
       "      <th>item type</th>\n",
       "      <th>application</th>\n",
       "      <th>thickness</th>\n",
       "      <th>width</th>\n",
       "      <th>material_ref</th>\n",
       "      <th>product_ref</th>\n",
       "      <th>delivery date</th>\n",
       "      <th>selling_price</th>\n",
       "    </tr>\n",
       "  </thead>\n",
       "  <tbody>\n",
       "    <tr>\n",
       "      <th>0</th>\n",
       "      <td>2021-04-01</td>\n",
       "      <td>54.151139</td>\n",
       "      <td>30156308.0</td>\n",
       "      <td>28.0</td>\n",
       "      <td>Won</td>\n",
       "      <td>W</td>\n",
       "      <td>10.0</td>\n",
       "      <td>2.00</td>\n",
       "      <td>1500.0</td>\n",
       "      <td>DEQ1 S460MC</td>\n",
       "      <td>1670798778</td>\n",
       "      <td>2021-07-01</td>\n",
       "      <td>854.00</td>\n",
       "    </tr>\n",
       "    <tr>\n",
       "      <th>1</th>\n",
       "      <td>2021-04-01</td>\n",
       "      <td>768.024839</td>\n",
       "      <td>30202938.0</td>\n",
       "      <td>25.0</td>\n",
       "      <td>Won</td>\n",
       "      <td>W</td>\n",
       "      <td>41.0</td>\n",
       "      <td>0.80</td>\n",
       "      <td>1210.0</td>\n",
       "      <td>NaN</td>\n",
       "      <td>1668701718</td>\n",
       "      <td>2021-04-01</td>\n",
       "      <td>1047.00</td>\n",
       "    </tr>\n",
       "    <tr>\n",
       "      <th>2</th>\n",
       "      <td>2021-04-01</td>\n",
       "      <td>386.127949</td>\n",
       "      <td>30153963.0</td>\n",
       "      <td>30.0</td>\n",
       "      <td>Won</td>\n",
       "      <td>WI</td>\n",
       "      <td>28.0</td>\n",
       "      <td>0.38</td>\n",
       "      <td>952.0</td>\n",
       "      <td>S0380700</td>\n",
       "      <td>628377</td>\n",
       "      <td>2021-01-01</td>\n",
       "      <td>644.33</td>\n",
       "    </tr>\n",
       "  </tbody>\n",
       "</table>\n",
       "</div>"
      ],
      "text/plain": [
       "   item_date  quantity tons    customer  country status item type  \\\n",
       "0 2021-04-01      54.151139  30156308.0     28.0    Won         W   \n",
       "1 2021-04-01     768.024839  30202938.0     25.0    Won         W   \n",
       "2 2021-04-01     386.127949  30153963.0     30.0    Won        WI   \n",
       "\n",
       "   application  thickness   width material_ref  product_ref delivery date  \\\n",
       "0         10.0       2.00  1500.0  DEQ1 S460MC   1670798778    2021-07-01   \n",
       "1         41.0       0.80  1210.0          NaN   1668701718    2021-04-01   \n",
       "2         28.0       0.38   952.0     S0380700       628377    2021-01-01   \n",
       "\n",
       "   selling_price  \n",
       "0         854.00  \n",
       "1        1047.00  \n",
       "2         644.33  "
      ]
     },
     "execution_count": 23,
     "metadata": {},
     "output_type": "execute_result"
    }
   ],
   "source": [
    "data['material_ref'] = data['material_ref'].apply(lambda x: np.nan if str(x).startswith('00000') else x)\n",
    "data.head(3)"
   ]
  },
  {
   "cell_type": "code",
   "execution_count": 24,
   "metadata": {},
   "outputs": [
    {
     "data": {
      "text/html": [
       "<div>\n",
       "<style scoped>\n",
       "    .dataframe tbody tr th:only-of-type {\n",
       "        vertical-align: middle;\n",
       "    }\n",
       "\n",
       "    .dataframe tbody tr th {\n",
       "        vertical-align: top;\n",
       "    }\n",
       "\n",
       "    .dataframe thead th {\n",
       "        text-align: right;\n",
       "    }\n",
       "</style>\n",
       "<table border=\"1\" class=\"dataframe\">\n",
       "  <thead>\n",
       "    <tr style=\"text-align: right;\">\n",
       "      <th></th>\n",
       "      <th>item_date</th>\n",
       "      <th>quantity tons</th>\n",
       "      <th>customer</th>\n",
       "      <th>country</th>\n",
       "      <th>status</th>\n",
       "      <th>item type</th>\n",
       "      <th>application</th>\n",
       "      <th>thickness</th>\n",
       "      <th>width</th>\n",
       "      <th>product_ref</th>\n",
       "      <th>delivery date</th>\n",
       "      <th>selling_price</th>\n",
       "    </tr>\n",
       "  </thead>\n",
       "  <tbody>\n",
       "    <tr>\n",
       "      <th>0</th>\n",
       "      <td>2021-04-01</td>\n",
       "      <td>54.151139</td>\n",
       "      <td>30156308.0</td>\n",
       "      <td>28.0</td>\n",
       "      <td>Won</td>\n",
       "      <td>W</td>\n",
       "      <td>10.0</td>\n",
       "      <td>2.0</td>\n",
       "      <td>1500.0</td>\n",
       "      <td>1670798778</td>\n",
       "      <td>2021-07-01</td>\n",
       "      <td>854.0</td>\n",
       "    </tr>\n",
       "    <tr>\n",
       "      <th>1</th>\n",
       "      <td>2021-04-01</td>\n",
       "      <td>768.024839</td>\n",
       "      <td>30202938.0</td>\n",
       "      <td>25.0</td>\n",
       "      <td>Won</td>\n",
       "      <td>W</td>\n",
       "      <td>41.0</td>\n",
       "      <td>0.8</td>\n",
       "      <td>1210.0</td>\n",
       "      <td>1668701718</td>\n",
       "      <td>2021-04-01</td>\n",
       "      <td>1047.0</td>\n",
       "    </tr>\n",
       "  </tbody>\n",
       "</table>\n",
       "</div>"
      ],
      "text/plain": [
       "   item_date  quantity tons    customer  country status item type  \\\n",
       "0 2021-04-01      54.151139  30156308.0     28.0    Won         W   \n",
       "1 2021-04-01     768.024839  30202938.0     25.0    Won         W   \n",
       "\n",
       "   application  thickness   width  product_ref delivery date  selling_price  \n",
       "0         10.0        2.0  1500.0   1670798778    2021-07-01          854.0  \n",
       "1         41.0        0.8  1210.0   1668701718    2021-04-01         1047.0  "
      ]
     },
     "execution_count": 24,
     "metadata": {},
     "output_type": "execute_result"
    }
   ],
   "source": [
    "data.drop(columns=['material_ref'],inplace=True)\n",
    "data.head(2)"
   ]
  },
  {
   "cell_type": "code",
   "execution_count": 25,
   "metadata": {},
   "outputs": [
    {
     "data": {
      "text/plain": [
       "item_date         3\n",
       "quantity tons     1\n",
       "customer          1\n",
       "country          28\n",
       "status            2\n",
       "item type         0\n",
       "application      24\n",
       "thickness         1\n",
       "width             0\n",
       "product_ref       0\n",
       "delivery date     3\n",
       "selling_price     1\n",
       "dtype: int64"
      ]
     },
     "execution_count": 25,
     "metadata": {},
     "output_type": "execute_result"
    }
   ],
   "source": [
    "data.isna().sum()"
   ]
  },
  {
   "cell_type": "code",
   "execution_count": 26,
   "metadata": {},
   "outputs": [
    {
     "data": {
      "text/html": [
       "<div>\n",
       "<style scoped>\n",
       "    .dataframe tbody tr th:only-of-type {\n",
       "        vertical-align: middle;\n",
       "    }\n",
       "\n",
       "    .dataframe tbody tr th {\n",
       "        vertical-align: top;\n",
       "    }\n",
       "\n",
       "    .dataframe thead th {\n",
       "        text-align: right;\n",
       "    }\n",
       "</style>\n",
       "<table border=\"1\" class=\"dataframe\">\n",
       "  <thead>\n",
       "    <tr style=\"text-align: right;\">\n",
       "      <th></th>\n",
       "      <th>count</th>\n",
       "      <th>mean</th>\n",
       "      <th>min</th>\n",
       "      <th>25%</th>\n",
       "      <th>50%</th>\n",
       "      <th>75%</th>\n",
       "      <th>max</th>\n",
       "      <th>std</th>\n",
       "    </tr>\n",
       "  </thead>\n",
       "  <tbody>\n",
       "    <tr>\n",
       "      <th>item_date</th>\n",
       "      <td>181670</td>\n",
       "      <td>2020-11-26 22:56:58.127374080</td>\n",
       "      <td>2020-07-02 00:00:00</td>\n",
       "      <td>2020-09-29 00:00:00</td>\n",
       "      <td>2020-11-30 00:00:00</td>\n",
       "      <td>2021-02-03 00:00:00</td>\n",
       "      <td>2021-04-01 00:00:00</td>\n",
       "      <td>NaN</td>\n",
       "    </tr>\n",
       "    <tr>\n",
       "      <th>quantity tons</th>\n",
       "      <td>181672.0</td>\n",
       "      <td>5874.925754</td>\n",
       "      <td>-2000.0</td>\n",
       "      <td>10.970298</td>\n",
       "      <td>30.364635</td>\n",
       "      <td>67.160612</td>\n",
       "      <td>1000000000.0</td>\n",
       "      <td>2349081.241674</td>\n",
       "    </tr>\n",
       "    <tr>\n",
       "      <th>customer</th>\n",
       "      <td>181672.0</td>\n",
       "      <td>30512209.027968</td>\n",
       "      <td>12458.0</td>\n",
       "      <td>30196884.0</td>\n",
       "      <td>30205242.0</td>\n",
       "      <td>30280416.0</td>\n",
       "      <td>2147483647.0</td>\n",
       "      <td>24333815.584025</td>\n",
       "    </tr>\n",
       "    <tr>\n",
       "      <th>country</th>\n",
       "      <td>181645.0</td>\n",
       "      <td>44.893022</td>\n",
       "      <td>25.0</td>\n",
       "      <td>26.0</td>\n",
       "      <td>30.0</td>\n",
       "      <td>78.0</td>\n",
       "      <td>113.0</td>\n",
       "      <td>24.404214</td>\n",
       "    </tr>\n",
       "    <tr>\n",
       "      <th>application</th>\n",
       "      <td>181649.0</td>\n",
       "      <td>25.615809</td>\n",
       "      <td>2.0</td>\n",
       "      <td>10.0</td>\n",
       "      <td>15.0</td>\n",
       "      <td>41.0</td>\n",
       "      <td>99.0</td>\n",
       "      <td>17.754175</td>\n",
       "    </tr>\n",
       "    <tr>\n",
       "      <th>thickness</th>\n",
       "      <td>181672.0</td>\n",
       "      <td>2.564827</td>\n",
       "      <td>0.18</td>\n",
       "      <td>0.7</td>\n",
       "      <td>1.5</td>\n",
       "      <td>3.0</td>\n",
       "      <td>2500.0</td>\n",
       "      <td>6.572321</td>\n",
       "    </tr>\n",
       "    <tr>\n",
       "      <th>width</th>\n",
       "      <td>181673.0</td>\n",
       "      <td>1295.286724</td>\n",
       "      <td>1.0</td>\n",
       "      <td>1180.0</td>\n",
       "      <td>1250.0</td>\n",
       "      <td>1500.0</td>\n",
       "      <td>2990.0</td>\n",
       "      <td>261.631754</td>\n",
       "    </tr>\n",
       "    <tr>\n",
       "      <th>product_ref</th>\n",
       "      <td>181673.0</td>\n",
       "      <td>473967910.724318</td>\n",
       "      <td>611728.0</td>\n",
       "      <td>611993.0</td>\n",
       "      <td>640665.0</td>\n",
       "      <td>1332077137.0</td>\n",
       "      <td>1722207579.0</td>\n",
       "      <td>717510064.710402</td>\n",
       "    </tr>\n",
       "    <tr>\n",
       "      <th>delivery date</th>\n",
       "      <td>181670</td>\n",
       "      <td>2021-01-25 22:44:26.223372032</td>\n",
       "      <td>2019-04-01 00:00:00</td>\n",
       "      <td>2020-11-01 00:00:00</td>\n",
       "      <td>2021-01-01 00:00:00</td>\n",
       "      <td>2021-04-01 00:00:00</td>\n",
       "      <td>2022-01-01 00:00:00</td>\n",
       "      <td>NaN</td>\n",
       "    </tr>\n",
       "    <tr>\n",
       "      <th>selling_price</th>\n",
       "      <td>181672.0</td>\n",
       "      <td>1918.035505</td>\n",
       "      <td>-1160.0</td>\n",
       "      <td>669.0</td>\n",
       "      <td>812.0</td>\n",
       "      <td>953.0</td>\n",
       "      <td>100001015.0</td>\n",
       "      <td>331795.642555</td>\n",
       "    </tr>\n",
       "  </tbody>\n",
       "</table>\n",
       "</div>"
      ],
      "text/plain": [
       "                  count                           mean                  min  \\\n",
       "item_date        181670  2020-11-26 22:56:58.127374080  2020-07-02 00:00:00   \n",
       "quantity tons  181672.0                    5874.925754              -2000.0   \n",
       "customer       181672.0                30512209.027968              12458.0   \n",
       "country        181645.0                      44.893022                 25.0   \n",
       "application    181649.0                      25.615809                  2.0   \n",
       "thickness      181672.0                       2.564827                 0.18   \n",
       "width          181673.0                    1295.286724                  1.0   \n",
       "product_ref    181673.0               473967910.724318             611728.0   \n",
       "delivery date    181670  2021-01-25 22:44:26.223372032  2019-04-01 00:00:00   \n",
       "selling_price  181672.0                    1918.035505              -1160.0   \n",
       "\n",
       "                               25%                  50%                  75%  \\\n",
       "item_date      2020-09-29 00:00:00  2020-11-30 00:00:00  2021-02-03 00:00:00   \n",
       "quantity tons            10.970298            30.364635            67.160612   \n",
       "customer                30196884.0           30205242.0           30280416.0   \n",
       "country                       26.0                 30.0                 78.0   \n",
       "application                   10.0                 15.0                 41.0   \n",
       "thickness                      0.7                  1.5                  3.0   \n",
       "width                       1180.0               1250.0               1500.0   \n",
       "product_ref               611993.0             640665.0         1332077137.0   \n",
       "delivery date  2020-11-01 00:00:00  2021-01-01 00:00:00  2021-04-01 00:00:00   \n",
       "selling_price                669.0                812.0                953.0   \n",
       "\n",
       "                               max               std  \n",
       "item_date      2021-04-01 00:00:00               NaN  \n",
       "quantity tons         1000000000.0    2349081.241674  \n",
       "customer              2147483647.0   24333815.584025  \n",
       "country                      113.0         24.404214  \n",
       "application                   99.0         17.754175  \n",
       "thickness                   2500.0          6.572321  \n",
       "width                       2990.0        261.631754  \n",
       "product_ref           1722207579.0  717510064.710402  \n",
       "delivery date  2022-01-01 00:00:00               NaN  \n",
       "selling_price          100001015.0     331795.642555  "
      ]
     },
     "execution_count": 26,
     "metadata": {},
     "output_type": "execute_result"
    }
   ],
   "source": [
    "data.describe().T"
   ]
  },
  {
   "cell_type": "markdown",
   "metadata": {},
   "source": [
    "CHANGE TH NEGATIVE VALUES IN THE COLUMNS\n"
   ]
  },
  {
   "cell_type": "markdown",
   "metadata": {},
   "source": [
    "FILLNA VALUES\n"
   ]
  },
  {
   "cell_type": "markdown",
   "metadata": {},
   "source": [
    "WITH MEAN\n"
   ]
  },
  {
   "cell_type": "code",
   "execution_count": 27,
   "metadata": {},
   "outputs": [],
   "source": [
    "columns_fill_mean = [\"quantity tons\" , \"thickness\", \"width\", \"selling_price\"]\n",
    "column_means = data[columns_fill_mean].mean()\n",
    "data[columns_fill_mean] = data[columns_fill_mean].fillna(column_means)\n"
   ]
  },
  {
   "cell_type": "markdown",
   "metadata": {},
   "source": [
    "WITH MEDIEN\n"
   ]
  },
  {
   "cell_type": "code",
   "execution_count": 28,
   "metadata": {},
   "outputs": [],
   "source": [
    "#numerical datatype using median\n",
    "data['quantity tons'].fillna(data['quantity tons'].median(), inplace=True)\n",
    "data['customer'].fillna(data['customer'].median(), inplace=True)\n",
    "data['country'].fillna(data['country'].median(), inplace=True)\n",
    "data['application'].fillna(data['application'].median(), inplace=True)\n",
    "data['thickness'].fillna(data['thickness'].median(), inplace=True)\n",
    "data['selling_price'].fillna(data['selling_price'].median(), inplace=True)"
   ]
  },
  {
   "cell_type": "markdown",
   "metadata": {},
   "source": [
    "WITH MODE"
   ]
  },
  {
   "cell_type": "code",
   "execution_count": 29,
   "metadata": {},
   "outputs": [],
   "source": [
    "# object datatype using mode\n",
    "data['item_date'].fillna(data['item_date'].mode().iloc[0], inplace=True)\n",
    "data['status'].fillna(data['status'].mode().iloc[0], inplace=True)\n",
    "data['delivery date'].fillna(data['delivery date'].mode().iloc[0], inplace=True)"
   ]
  },
  {
   "cell_type": "code",
   "execution_count": 30,
   "metadata": {},
   "outputs": [],
   "source": [
    "data[\"country\"]=data[\"country\"].astype('int64')"
   ]
  },
  {
   "cell_type": "code",
   "execution_count": 31,
   "metadata": {},
   "outputs": [
    {
     "data": {
      "text/plain": [
       "item_date        0\n",
       "quantity tons    0\n",
       "customer         0\n",
       "country          0\n",
       "status           0\n",
       "item type        0\n",
       "application      0\n",
       "thickness        0\n",
       "width            0\n",
       "product_ref      0\n",
       "delivery date    0\n",
       "selling_price    0\n",
       "dtype: int64"
      ]
     },
     "execution_count": 31,
     "metadata": {},
     "output_type": "execute_result"
    }
   ],
   "source": [
    "data.isna().sum()"
   ]
  },
  {
   "cell_type": "code",
   "execution_count": 32,
   "metadata": {},
   "outputs": [
    {
     "data": {
      "text/plain": [
       "item_date        datetime64[ns]\n",
       "quantity tons           float64\n",
       "customer                float64\n",
       "country                   int64\n",
       "status                   object\n",
       "item type                object\n",
       "application             float64\n",
       "thickness               float64\n",
       "width                   float64\n",
       "product_ref               int64\n",
       "delivery date    datetime64[ns]\n",
       "selling_price           float64\n",
       "dtype: object"
      ]
     },
     "execution_count": 32,
     "metadata": {},
     "output_type": "execute_result"
    }
   ],
   "source": [
    "data.dtypes"
   ]
  },
  {
   "cell_type": "code",
   "execution_count": 33,
   "metadata": {},
   "outputs": [],
   "source": [
    "data.to_csv('clean_copper_data.csv',index=False)"
   ]
  },
  {
   "cell_type": "markdown",
   "metadata": {},
   "source": [
    "EDA\n"
   ]
  },
  {
   "cell_type": "markdown",
   "metadata": {},
   "source": [
    "TO VISUALIZE OUTLIERS AND SKEWNESS"
   ]
  },
  {
   "cell_type": "code",
   "execution_count": 34,
   "metadata": {},
   "outputs": [],
   "source": [
    "eda_data=data.copy(True)"
   ]
  },
  {
   "cell_type": "code",
   "execution_count": 35,
   "metadata": {},
   "outputs": [
    {
     "data": {
      "text/plain": [
       "item_date        datetime64[ns]\n",
       "quantity tons           float64\n",
       "customer                float64\n",
       "country                   int64\n",
       "status                   object\n",
       "item type                object\n",
       "application             float64\n",
       "thickness               float64\n",
       "width                   float64\n",
       "product_ref               int64\n",
       "delivery date    datetime64[ns]\n",
       "selling_price           float64\n",
       "dtype: object"
      ]
     },
     "execution_count": 35,
     "metadata": {},
     "output_type": "execute_result"
    }
   ],
   "source": [
    "eda_data.dtypes"
   ]
  },
  {
   "cell_type": "markdown",
   "metadata": {},
   "source": [
    "Using Boxplot and Distplot\n"
   ]
  },
  {
   "cell_type": "code",
   "execution_count": 36,
   "metadata": {},
   "outputs": [
    {
     "data": {
      "image/png": "[encoded data removed]",
      "text/plain": [
       "<Figure size 1000x2000 with 14 Axes>"
      ]
     },
     "metadata": {},
     "output_type": "display_data"
    }
   ],
   "source": [
    "# Create a figure with 6 subplots\n",
    "fig, axes = plt.subplots(7, 2, figsize=(10,20))\n",
    "\n",
    "sns.boxplot(ax=axes[0, 0], data=eda_data['quantity tons'])      #quantity tons\n",
    "axes[0, 0].set_title('quantity tons - Outliers')\n",
    "sns.distplot(ax=axes[0, 1], a=eda_data['quantity tons'])\n",
    "axes[0, 1].set_title('quantity tons - Skewness')\n",
    "\n",
    "sns.boxplot(ax=axes[1, 0], data=eda_data['customer'])          #customer\n",
    "axes[1, 0].set_title('customer - Outliers')\n",
    "sns.distplot(ax=axes[1, 1], a=eda_data['customer'])\n",
    "axes[1, 1].set_title('customer - Skewness')\n",
    "\n",
    "sns.boxplot(ax=axes[2, 0], data=eda_data['country'])           #country\n",
    "axes[2, 0].set_title('country - Outliers')\n",
    "sns.distplot(ax=axes[2, 1], a=eda_data['country'])\n",
    "axes[2, 1].set_title('country - Skewness')\n",
    "\n",
    "sns.boxplot(ax=axes[3, 0], data=eda_data['application'])       #application\n",
    "axes[3, 0].set_title('application - Outliers')\n",
    "sns.distplot(ax=axes[3, 1], a=eda_data['application'])\n",
    "axes[3, 1].set_title('application - Skewness')\n",
    "\n",
    "sns.boxplot(ax=axes[4, 0], data=eda_data['thickness'])        #thickness\n",
    "axes[4, 0].set_title('thickness - Outliers')\n",
    "sns.distplot(ax=axes[4, 1], a=eda_data['thickness'])\n",
    "axes[4, 1].set_title('thickness - Skewness')\n",
    "\n",
    "sns.boxplot(ax=axes[5, 0], data=eda_data['width'])            #width\n",
    "axes[5, 0].set_title('width - Outliers')\n",
    "sns.distplot(ax=axes[5, 1], a=eda_data['width'])\n",
    "axes[5, 1].set_title('width - Skewness')\n",
    "\n",
    "sns.boxplot(ax=axes[6, 0], data=eda_data['selling_price'])   #selling_price\n",
    "axes[6, 0].set_title('selling_price - Outliers')\n",
    "sns.distplot(ax=axes[6, 1], a=eda_data['selling_price'])\n",
    "axes[6, 1].set_title('selling_price - Skewness')\n",
    "\n",
    "plt.tight_layout()\n",
    "plt.show()"
   ]
  },
  {
   "cell_type": "markdown",
   "metadata": {},
   "source": [
    "USING VIOLIN PLOT"
   ]
  },
  {
   "cell_type": "code",
   "execution_count": 37,
   "metadata": {},
   "outputs": [],
   "source": [
    "def plot(eda_data, column):\n",
    "    plt.figure(figsize=(10,5))\n",
    "    plt.subplot(1,1,1)\n",
    "    sns.violinplot(data=eda_data, x=column)\n",
    "    plt.title(f'Violin Plot for {column}')\n",
    "    plt.show()"
   ]
  },
  {
   "cell_type": "code",
   "execution_count": 38,
   "metadata": {},
   "outputs": [
    {
     "data": {
      "image/png": "[encoded data removed]",
      "text/plain": [
       "<Figure size 1000x500 with 1 Axes>"
      ]
     },
     "metadata": {},
     "output_type": "display_data"
    },
    {
     "data": {
      "image/png": "[encoded data removed]",
      "text/plain": [
       "<Figure size 1000x500 with 1 Axes>"
      ]
     },
     "metadata": {},
     "output_type": "display_data"
    },
    {
     "data": {
      "image/png": "[encoded data removed]",
      "text/plain": [
       "<Figure size 1000x500 with 1 Axes>"
      ]
     },
     "metadata": {},
     "output_type": "display_data"
    },
    {
     "data": {
      "image/png": "[encoded data removed]",
      "text/plain": [
       "<Figure size 1000x500 with 1 Axes>"
      ]
     },
     "metadata": {},
     "output_type": "display_data"
    },
    {
     "data": {
      "image/png": "[encoded data removed]",
      "text/plain": [
       "<Figure size 1000x500 with 1 Axes>"
      ]
     },
     "metadata": {},
     "output_type": "display_data"
    },
    {
     "data": {
      "image/png": "[encoded data removed]",
      "text/plain": [
       "<Figure size 1000x500 with 1 Axes>"
      ]
     },
     "metadata": {},
     "output_type": "display_data"
    },
    {
     "data": {
      "image/png": "[encoded data removed]",
      "text/plain": [
       "<Figure size 1000x500 with 1 Axes>"
      ]
     },
     "metadata": {},
     "output_type": "display_data"
    }
   ],
   "source": [
    "for i in ['quantity tons', 'customer', 'country',  'application', 'thickness', 'width', 'selling_price']:\n",
    "    plot(eda_data, i)"
   ]
  },
  {
   "cell_type": "code",
   "execution_count": 39,
   "metadata": {},
   "outputs": [],
   "source": [
    "out_skew_data=eda_data.copy(True)"
   ]
  },
  {
   "cell_type": "code",
   "execution_count": 40,
   "metadata": {},
   "outputs": [
    {
     "name": "stdout",
     "output_type": "stream",
     "text": [
      "quantity tons : 4 \n",
      "thickness : 0 \n",
      "width : 0 \n",
      "selling_price : 7 \n"
     ]
    }
   ],
   "source": [
    "skewed_columns = ['quantity tons', 'thickness', 'width', 'selling_price']\n",
    "for column in skewed_columns:\n",
    "    neg = (out_skew_data[column] <= 0)\n",
    "    print(f'{column} : {neg.sum()} ')               \n",
    "    out_skew_data.loc[neg,column] = np.nan\n"
   ]
  },
  {
   "cell_type": "code",
   "execution_count": 41,
   "metadata": {},
   "outputs": [
    {
     "data": {
      "text/plain": [
       "item_date        0\n",
       "quantity tons    4\n",
       "customer         0\n",
       "country          0\n",
       "status           0\n",
       "item type        0\n",
       "application      0\n",
       "thickness        0\n",
       "width            0\n",
       "product_ref      0\n",
       "delivery date    0\n",
       "selling_price    7\n",
       "dtype: int64"
      ]
     },
     "execution_count": 41,
     "metadata": {},
     "output_type": "execute_result"
    }
   ],
   "source": [
    "out_skew_data.isna().sum()"
   ]
  },
  {
   "cell_type": "code",
   "execution_count": 42,
   "metadata": {},
   "outputs": [],
   "source": [
    "out_skew_data.dropna(inplace=True)"
   ]
  },
  {
   "cell_type": "code",
   "execution_count": 43,
   "metadata": {},
   "outputs": [
    {
     "data": {
      "text/plain": [
       "item_date        0\n",
       "quantity tons    0\n",
       "customer         0\n",
       "country          0\n",
       "status           0\n",
       "item type        0\n",
       "application      0\n",
       "thickness        0\n",
       "width            0\n",
       "product_ref      0\n",
       "delivery date    0\n",
       "selling_price    0\n",
       "dtype: int64"
      ]
     },
     "execution_count": 43,
     "metadata": {},
     "output_type": "execute_result"
    }
   ],
   "source": [
    "out_skew_data.isna().sum()"
   ]
  },
  {
   "cell_type": "code",
   "execution_count": 44,
   "metadata": {},
   "outputs": [],
   "source": [
    "out_skew_data_1=out_skew_data.copy(True)"
   ]
  },
  {
   "cell_type": "code",
   "execution_count": 45,
   "metadata": {},
   "outputs": [],
   "source": [
    "out_skew_data_1=out_skew_data_1.drop(['item_date','delivery date','status','item type'],axis=1)\n",
    "# out_skew_data_2=out_skew_data_1.copy(True)"
   ]
  },
  {
   "cell_type": "code",
   "execution_count": 46,
   "metadata": {},
   "outputs": [
    {
     "data": {
      "text/plain": [
       "quantity tons    424.677959\n",
       "customer          86.982674\n",
       "country            0.753768\n",
       "application        0.724624\n",
       "thickness         15.291371\n",
       "width              0.374564\n",
       "product_ref        1.015276\n",
       "selling_price    301.378964\n",
       "dtype: float64"
      ]
     },
     "execution_count": 46,
     "metadata": {},
     "output_type": "execute_result"
    }
   ],
   "source": [
    "out_skew_data_1.skew()"
   ]
  },
  {
   "cell_type": "code",
   "execution_count": 47,
   "metadata": {},
   "outputs": [
    {
     "name": "stdout",
     "output_type": "stream",
     "text": [
      "2021-04-01 00:00:00\n",
      "2020-07-02 00:00:00\n",
      "2022-01-01 00:00:00\n",
      "2019-04-01 00:00:00\n"
     ]
    }
   ],
   "source": [
    "print(out_skew_data['item_date'].max())\n",
    "print(out_skew_data['item_date'].min())\n",
    "print(out_skew_data[\"delivery date\"].max())\n",
    "print(out_skew_data['delivery date'].min())"
   ]
  },
  {
   "cell_type": "markdown",
   "metadata": {},
   "source": [
    "IQR-Inter Quartile Range"
   ]
  },
  {
   "cell_type": "code",
   "execution_count": 48,
   "metadata": {},
   "outputs": [
    {
     "name": "stdout",
     "output_type": "stream",
     "text": [
      "Summary statistics before removing outliers:\n",
      "       quantity tons      thickness          width  selling_price\n",
      "count   1.816620e+05  181662.000000  181662.000000   1.816620e+05\n",
      "mean    5.875291e+03       2.551133    1295.289042   1.918156e+03\n",
      "std     2.349146e+06       2.977116     261.638547   3.318048e+05\n",
      "min     1.000000e-05       0.180000       1.000000   1.000000e-01\n",
      "25%     1.097088e+01       0.700000    1180.000000   6.690000e+02\n",
      "50%     3.036501e+01       1.500000    1250.000000   8.120000e+02\n",
      "75%     6.716141e+01       3.000000    1500.000000   9.530000e+02\n",
      "max     1.000000e+09     400.000000    2990.000000   1.000010e+08\n",
      "\n",
      "Summary statistics after removing outliers:\n",
      "       quantity tons      thickness          width  selling_price\n",
      "count  181662.000000  181662.000000  181662.000000  181662.000000\n",
      "mean       49.177121       2.245445    1297.048008     819.083929\n",
      "std        47.994292       1.890698     248.968268     209.131167\n",
      "min         0.000010       0.180000     700.000000     243.000000\n",
      "25%        10.970879       0.700000    1180.000000     669.000000\n",
      "50%        30.365013       1.500000    1250.000000     812.000000\n",
      "75%        67.161415       3.000000    1500.000000     953.000000\n",
      "max       151.447218       6.450000    1980.000000    1379.000000\n"
     ]
    }
   ],
   "source": [
    "outlier_columns = ['quantity tons', 'thickness', 'width', 'selling_price']\n",
    "before_stats = out_skew_data[outlier_columns].describe()\n",
    "\n",
    "# Iterate over outlier columns and remove outliers\n",
    "for column in outlier_columns:\n",
    "    Q1 = out_skew_data[column].quantile(0.25)\n",
    "    Q3 = out_skew_data[column].quantile(0.75)\n",
    "    IQR = Q3 - Q1\n",
    "    lower_bound = Q1 - 1.5 * IQR\n",
    "    upper_bound = Q3 + 1.5 * IQR\n",
    "    out_skew_data[column] = out_skew_data[column].clip(lower_bound, upper_bound)\n",
    "\n",
    "# Calculate summary statistics after removing outliers\n",
    "after_stats = out_skew_data[outlier_columns].describe()\n",
    "\n",
    "# Compare the statistics before and after outlier removal\n",
    "print(\"Summary statistics before removing outliers:\")\n",
    "print(before_stats)\n",
    "print(\"\\nSummary statistics after removing outliers:\")\n",
    "print(after_stats)"
   ]
  },
  {
   "cell_type": "markdown",
   "metadata": {},
   "source": [
    "AFTER TREATING OUTLIERS AND SKEWNESS\n"
   ]
  },
  {
   "cell_type": "code",
   "execution_count": 49,
   "metadata": {},
   "outputs": [
    {
     "data": {
      "text/plain": [
       "<function matplotlib.pyplot.show(close=None, block=None)>"
      ]
     },
     "execution_count": 49,
     "metadata": {},
     "output_type": "execute_result"
    },
    {
     "data": {
      "image/png": "[encoded data removed]",
      "text/plain": [
       "<Figure size 1800x1500 with 16 Axes>"
      ]
     },
     "metadata": {},
     "output_type": "display_data"
    }
   ],
   "source": [
    "out_skew_data.plot(kind='box',subplots=True,layout=(4,4),figsize=(18,15))\n",
    "plt.show"
   ]
  },
  {
   "cell_type": "code",
   "execution_count": 50,
   "metadata": {},
   "outputs": [
    {
     "data": {
      "image/png": "[encoded data removed]",
      "text/plain": [
       "<Figure size 1500x500 with 4 Axes>"
      ]
     },
     "metadata": {},
     "output_type": "display_data"
    }
   ],
   "source": [
    "outlier_columns = ['quantity tons', 'thickness', 'width', 'selling_price']\n",
    "\n",
    "# Plot the histograms of the transformed data\n",
    "fig, axes = plt.subplots(1, 4,figsize=(15, 5))\n",
    "axes = axes.flatten()\n",
    "for i, column in enumerate(outlier_columns):\n",
    "    sns.distplot(out_skew_data[column], kde=True, ax=axes[i])\n",
    "    axes[i].set_title(f\"Transformed {column}\")\n",
    "\n",
    "plt.tight_layout()\n",
    "plt.show()"
   ]
  },
  {
   "cell_type": "code",
   "execution_count": 51,
   "metadata": {},
   "outputs": [
    {
     "data": {
      "text/plain": [
       "quantity tons    424.677959\n",
       "customer          86.982674\n",
       "country            0.753768\n",
       "application        0.724624\n",
       "thickness         15.291371\n",
       "width              0.374564\n",
       "product_ref        1.015276\n",
       "selling_price    301.378964\n",
       "dtype: float64"
      ]
     },
     "execution_count": 51,
     "metadata": {},
     "output_type": "execute_result"
    }
   ],
   "source": [
    "out_skew_data_1.skew()"
   ]
  },
  {
   "cell_type": "markdown",
   "metadata": {},
   "source": [
    "FEATURE ENGINEERING\n"
   ]
  },
  {
   "cell_type": "code",
   "execution_count": 52,
   "metadata": {},
   "outputs": [
    {
     "name": "stdout",
     "output_type": "stream",
     "text": [
      "<class 'pandas.core.frame.DataFrame'>\n",
      "Index: 181662 entries, 0 to 181672\n",
      "Data columns (total 12 columns):\n",
      " #   Column         Non-Null Count   Dtype         \n",
      "---  ------         --------------   -----         \n",
      " 0   item_date      181662 non-null  datetime64[ns]\n",
      " 1   quantity tons  181662 non-null  float64       \n",
      " 2   customer       181662 non-null  float64       \n",
      " 3   country        181662 non-null  int64         \n",
      " 4   status         181662 non-null  object        \n",
      " 5   item type      181662 non-null  object        \n",
      " 6   application    181662 non-null  float64       \n",
      " 7   thickness      181662 non-null  float64       \n",
      " 8   width          181662 non-null  float64       \n",
      " 9   product_ref    181662 non-null  int64         \n",
      " 10  delivery date  181662 non-null  datetime64[ns]\n",
      " 11  selling_price  181662 non-null  float64       \n",
      "dtypes: datetime64[ns](2), float64(6), int64(2), object(2)\n",
      "memory usage: 18.0+ MB\n"
     ]
    }
   ],
   "source": [
    "model_data=out_skew_data.copy(True)\n",
    "model_data.info()"
   ]
  },
  {
   "cell_type": "code",
   "execution_count": 53,
   "metadata": {},
   "outputs": [
    {
     "data": {
      "text/html": [
       "<div>\n",
       "<style scoped>\n",
       "    .dataframe tbody tr th:only-of-type {\n",
       "        vertical-align: middle;\n",
       "    }\n",
       "\n",
       "    .dataframe tbody tr th {\n",
       "        vertical-align: top;\n",
       "    }\n",
       "\n",
       "    .dataframe thead th {\n",
       "        text-align: right;\n",
       "    }\n",
       "</style>\n",
       "<table border=\"1\" class=\"dataframe\">\n",
       "  <thead>\n",
       "    <tr style=\"text-align: right;\">\n",
       "      <th></th>\n",
       "      <th>item_date</th>\n",
       "      <th>quantity tons</th>\n",
       "      <th>customer</th>\n",
       "      <th>country</th>\n",
       "      <th>status</th>\n",
       "      <th>item type</th>\n",
       "      <th>application</th>\n",
       "      <th>thickness</th>\n",
       "      <th>width</th>\n",
       "      <th>product_ref</th>\n",
       "      <th>delivery date</th>\n",
       "      <th>selling_price</th>\n",
       "      <th>delivery_time_taken</th>\n",
       "    </tr>\n",
       "  </thead>\n",
       "  <tbody>\n",
       "    <tr>\n",
       "      <th>0</th>\n",
       "      <td>2021-04-01</td>\n",
       "      <td>54.151139</td>\n",
       "      <td>30156308.0</td>\n",
       "      <td>28</td>\n",
       "      <td>Won</td>\n",
       "      <td>W</td>\n",
       "      <td>10.0</td>\n",
       "      <td>2.00</td>\n",
       "      <td>1500.0</td>\n",
       "      <td>1670798778</td>\n",
       "      <td>2021-07-01</td>\n",
       "      <td>854.00</td>\n",
       "      <td>91</td>\n",
       "    </tr>\n",
       "    <tr>\n",
       "      <th>1</th>\n",
       "      <td>2021-04-01</td>\n",
       "      <td>151.447218</td>\n",
       "      <td>30202938.0</td>\n",
       "      <td>25</td>\n",
       "      <td>Won</td>\n",
       "      <td>W</td>\n",
       "      <td>41.0</td>\n",
       "      <td>0.80</td>\n",
       "      <td>1210.0</td>\n",
       "      <td>1668701718</td>\n",
       "      <td>2021-04-01</td>\n",
       "      <td>1047.00</td>\n",
       "      <td>0</td>\n",
       "    </tr>\n",
       "    <tr>\n",
       "      <th>2</th>\n",
       "      <td>2021-04-01</td>\n",
       "      <td>151.447218</td>\n",
       "      <td>30153963.0</td>\n",
       "      <td>30</td>\n",
       "      <td>Won</td>\n",
       "      <td>WI</td>\n",
       "      <td>28.0</td>\n",
       "      <td>0.38</td>\n",
       "      <td>952.0</td>\n",
       "      <td>628377</td>\n",
       "      <td>2021-01-01</td>\n",
       "      <td>644.33</td>\n",
       "      <td>90</td>\n",
       "    </tr>\n",
       "    <tr>\n",
       "      <th>3</th>\n",
       "      <td>2021-04-01</td>\n",
       "      <td>151.447218</td>\n",
       "      <td>30349574.0</td>\n",
       "      <td>32</td>\n",
       "      <td>Won</td>\n",
       "      <td>S</td>\n",
       "      <td>59.0</td>\n",
       "      <td>2.30</td>\n",
       "      <td>1317.0</td>\n",
       "      <td>1668701718</td>\n",
       "      <td>2021-01-01</td>\n",
       "      <td>768.00</td>\n",
       "      <td>90</td>\n",
       "    </tr>\n",
       "    <tr>\n",
       "      <th>4</th>\n",
       "      <td>2021-04-01</td>\n",
       "      <td>151.447218</td>\n",
       "      <td>30211560.0</td>\n",
       "      <td>28</td>\n",
       "      <td>Won</td>\n",
       "      <td>W</td>\n",
       "      <td>10.0</td>\n",
       "      <td>4.00</td>\n",
       "      <td>1980.0</td>\n",
       "      <td>640665</td>\n",
       "      <td>2021-03-01</td>\n",
       "      <td>577.00</td>\n",
       "      <td>31</td>\n",
       "    </tr>\n",
       "  </tbody>\n",
       "</table>\n",
       "</div>"
      ],
      "text/plain": [
       "   item_date  quantity tons    customer  country status item type  \\\n",
       "0 2021-04-01      54.151139  30156308.0       28    Won         W   \n",
       "1 2021-04-01     151.447218  30202938.0       25    Won         W   \n",
       "2 2021-04-01     151.447218  30153963.0       30    Won        WI   \n",
       "3 2021-04-01     151.447218  30349574.0       32    Won         S   \n",
       "4 2021-04-01     151.447218  30211560.0       28    Won         W   \n",
       "\n",
       "   application  thickness   width  product_ref delivery date  selling_price  \\\n",
       "0         10.0       2.00  1500.0   1670798778    2021-07-01         854.00   \n",
       "1         41.0       0.80  1210.0   1668701718    2021-04-01        1047.00   \n",
       "2         28.0       0.38   952.0       628377    2021-01-01         644.33   \n",
       "3         59.0       2.30  1317.0   1668701718    2021-01-01         768.00   \n",
       "4         10.0       4.00  1980.0       640665    2021-03-01         577.00   \n",
       "\n",
       "   delivery_time_taken  \n",
       "0                   91  \n",
       "1                    0  \n",
       "2                   90  \n",
       "3                   90  \n",
       "4                   31  "
      ]
     },
     "execution_count": 53,
     "metadata": {},
     "output_type": "execute_result"
    }
   ],
   "source": [
    "model_data['delivery_time_taken']=(model_data['item_date']-model_data['delivery date']).abs().dt.days\n",
    "model_data.head()"
   ]
  },
  {
   "cell_type": "code",
   "execution_count": 54,
   "metadata": {},
   "outputs": [],
   "source": [
    "x=model_data[['application','thickness','width','selling_price','quantity tons','country','customer','product_ref','delivery_time_taken']]"
   ]
  },
  {
   "cell_type": "code",
   "execution_count": 55,
   "metadata": {},
   "outputs": [
    {
     "name": "stdout",
     "output_type": "stream",
     "text": [
      "<class 'pandas.core.frame.DataFrame'>\n",
      "Index: 181662 entries, 0 to 181672\n",
      "Data columns (total 13 columns):\n",
      " #   Column               Non-Null Count   Dtype         \n",
      "---  ------               --------------   -----         \n",
      " 0   item_date            181662 non-null  datetime64[ns]\n",
      " 1   quantity tons        181662 non-null  float64       \n",
      " 2   customer             181662 non-null  float64       \n",
      " 3   country              181662 non-null  int64         \n",
      " 4   status               181662 non-null  object        \n",
      " 5   item type            181662 non-null  object        \n",
      " 6   application          181662 non-null  float64       \n",
      " 7   thickness            181662 non-null  float64       \n",
      " 8   width                181662 non-null  float64       \n",
      " 9   product_ref          181662 non-null  int64         \n",
      " 10  delivery date        181662 non-null  datetime64[ns]\n",
      " 11  selling_price        181662 non-null  float64       \n",
      " 12  delivery_time_taken  181662 non-null  int64         \n",
      "dtypes: datetime64[ns](2), float64(6), int64(3), object(2)\n",
      "memory usage: 19.4+ MB\n"
     ]
    }
   ],
   "source": [
    "model_data.info()"
   ]
  },
  {
   "cell_type": "code",
   "execution_count": 56,
   "metadata": {},
   "outputs": [
    {
     "data": {
      "text/html": [
       "<div>\n",
       "<style scoped>\n",
       "    .dataframe tbody tr th:only-of-type {\n",
       "        vertical-align: middle;\n",
       "    }\n",
       "\n",
       "    .dataframe tbody tr th {\n",
       "        vertical-align: top;\n",
       "    }\n",
       "\n",
       "    .dataframe thead th {\n",
       "        text-align: right;\n",
       "    }\n",
       "</style>\n",
       "<table border=\"1\" class=\"dataframe\">\n",
       "  <thead>\n",
       "    <tr style=\"text-align: right;\">\n",
       "      <th></th>\n",
       "      <th>quantity tons</th>\n",
       "      <th>customer</th>\n",
       "      <th>country</th>\n",
       "      <th>application</th>\n",
       "      <th>thickness</th>\n",
       "      <th>width</th>\n",
       "      <th>product_ref</th>\n",
       "      <th>selling_price</th>\n",
       "      <th>delivery_time_taken</th>\n",
       "    </tr>\n",
       "  </thead>\n",
       "  <tbody>\n",
       "    <tr>\n",
       "      <th>0</th>\n",
       "      <td>54.151139</td>\n",
       "      <td>30156308.0</td>\n",
       "      <td>28</td>\n",
       "      <td>10.0</td>\n",
       "      <td>2.00</td>\n",
       "      <td>1500.0</td>\n",
       "      <td>1670798778</td>\n",
       "      <td>854.00</td>\n",
       "      <td>91</td>\n",
       "    </tr>\n",
       "    <tr>\n",
       "      <th>1</th>\n",
       "      <td>151.447218</td>\n",
       "      <td>30202938.0</td>\n",
       "      <td>25</td>\n",
       "      <td>41.0</td>\n",
       "      <td>0.80</td>\n",
       "      <td>1210.0</td>\n",
       "      <td>1668701718</td>\n",
       "      <td>1047.00</td>\n",
       "      <td>0</td>\n",
       "    </tr>\n",
       "    <tr>\n",
       "      <th>2</th>\n",
       "      <td>151.447218</td>\n",
       "      <td>30153963.0</td>\n",
       "      <td>30</td>\n",
       "      <td>28.0</td>\n",
       "      <td>0.38</td>\n",
       "      <td>952.0</td>\n",
       "      <td>628377</td>\n",
       "      <td>644.33</td>\n",
       "      <td>90</td>\n",
       "    </tr>\n",
       "    <tr>\n",
       "      <th>3</th>\n",
       "      <td>151.447218</td>\n",
       "      <td>30349574.0</td>\n",
       "      <td>32</td>\n",
       "      <td>59.0</td>\n",
       "      <td>2.30</td>\n",
       "      <td>1317.0</td>\n",
       "      <td>1668701718</td>\n",
       "      <td>768.00</td>\n",
       "      <td>90</td>\n",
       "    </tr>\n",
       "    <tr>\n",
       "      <th>4</th>\n",
       "      <td>151.447218</td>\n",
       "      <td>30211560.0</td>\n",
       "      <td>28</td>\n",
       "      <td>10.0</td>\n",
       "      <td>4.00</td>\n",
       "      <td>1980.0</td>\n",
       "      <td>640665</td>\n",
       "      <td>577.00</td>\n",
       "      <td>31</td>\n",
       "    </tr>\n",
       "    <tr>\n",
       "      <th>...</th>\n",
       "      <td>...</td>\n",
       "      <td>...</td>\n",
       "      <td>...</td>\n",
       "      <td>...</td>\n",
       "      <td>...</td>\n",
       "      <td>...</td>\n",
       "      <td>...</td>\n",
       "      <td>...</td>\n",
       "      <td>...</td>\n",
       "    </tr>\n",
       "    <tr>\n",
       "      <th>181667</th>\n",
       "      <td>106.783299</td>\n",
       "      <td>30200854.0</td>\n",
       "      <td>25</td>\n",
       "      <td>41.0</td>\n",
       "      <td>0.96</td>\n",
       "      <td>1240.0</td>\n",
       "      <td>164141591</td>\n",
       "      <td>602.00</td>\n",
       "      <td>1</td>\n",
       "    </tr>\n",
       "    <tr>\n",
       "      <th>181668</th>\n",
       "      <td>102.482422</td>\n",
       "      <td>30200854.0</td>\n",
       "      <td>25</td>\n",
       "      <td>41.0</td>\n",
       "      <td>0.96</td>\n",
       "      <td>1220.0</td>\n",
       "      <td>164141591</td>\n",
       "      <td>591.00</td>\n",
       "      <td>1</td>\n",
       "    </tr>\n",
       "    <tr>\n",
       "      <th>181669</th>\n",
       "      <td>151.447218</td>\n",
       "      <td>30200854.0</td>\n",
       "      <td>25</td>\n",
       "      <td>41.0</td>\n",
       "      <td>0.95</td>\n",
       "      <td>1500.0</td>\n",
       "      <td>164141591</td>\n",
       "      <td>589.00</td>\n",
       "      <td>1</td>\n",
       "    </tr>\n",
       "    <tr>\n",
       "      <th>181670</th>\n",
       "      <td>4.235594</td>\n",
       "      <td>30200854.0</td>\n",
       "      <td>25</td>\n",
       "      <td>41.0</td>\n",
       "      <td>0.71</td>\n",
       "      <td>1250.0</td>\n",
       "      <td>164141591</td>\n",
       "      <td>619.00</td>\n",
       "      <td>1</td>\n",
       "    </tr>\n",
       "    <tr>\n",
       "      <th>181672</th>\n",
       "      <td>151.447218</td>\n",
       "      <td>30200854.0</td>\n",
       "      <td>25</td>\n",
       "      <td>41.0</td>\n",
       "      <td>0.71</td>\n",
       "      <td>1240.0</td>\n",
       "      <td>164141591</td>\n",
       "      <td>607.00</td>\n",
       "      <td>1</td>\n",
       "    </tr>\n",
       "  </tbody>\n",
       "</table>\n",
       "<p>181662 rows × 9 columns</p>\n",
       "</div>"
      ],
      "text/plain": [
       "        quantity tons    customer  country  application  thickness   width  \\\n",
       "0           54.151139  30156308.0       28         10.0       2.00  1500.0   \n",
       "1          151.447218  30202938.0       25         41.0       0.80  1210.0   \n",
       "2          151.447218  30153963.0       30         28.0       0.38   952.0   \n",
       "3          151.447218  30349574.0       32         59.0       2.30  1317.0   \n",
       "4          151.447218  30211560.0       28         10.0       4.00  1980.0   \n",
       "...               ...         ...      ...          ...        ...     ...   \n",
       "181667     106.783299  30200854.0       25         41.0       0.96  1240.0   \n",
       "181668     102.482422  30200854.0       25         41.0       0.96  1220.0   \n",
       "181669     151.447218  30200854.0       25         41.0       0.95  1500.0   \n",
       "181670       4.235594  30200854.0       25         41.0       0.71  1250.0   \n",
       "181672     151.447218  30200854.0       25         41.0       0.71  1240.0   \n",
       "\n",
       "        product_ref  selling_price  delivery_time_taken  \n",
       "0        1670798778         854.00                   91  \n",
       "1        1668701718        1047.00                    0  \n",
       "2            628377         644.33                   90  \n",
       "3        1668701718         768.00                   90  \n",
       "4            640665         577.00                   31  \n",
       "...             ...            ...                  ...  \n",
       "181667    164141591         602.00                    1  \n",
       "181668    164141591         591.00                    1  \n",
       "181669    164141591         589.00                    1  \n",
       "181670    164141591         619.00                    1  \n",
       "181672    164141591         607.00                    1  \n",
       "\n",
       "[181662 rows x 9 columns]"
      ]
     },
     "execution_count": 56,
     "metadata": {},
     "output_type": "execute_result"
    }
   ],
   "source": [
    "num=model_data.select_dtypes(include=np.number)\n",
    "num"
   ]
  },
  {
   "cell_type": "markdown",
   "metadata": {},
   "source": [
    "Correlation\n"
   ]
  },
  {
   "cell_type": "code",
   "execution_count": 57,
   "metadata": {},
   "outputs": [
    {
     "data": {
      "text/html": [
       "<div>\n",
       "<style scoped>\n",
       "    .dataframe tbody tr th:only-of-type {\n",
       "        vertical-align: middle;\n",
       "    }\n",
       "\n",
       "    .dataframe tbody tr th {\n",
       "        vertical-align: top;\n",
       "    }\n",
       "\n",
       "    .dataframe thead th {\n",
       "        text-align: right;\n",
       "    }\n",
       "</style>\n",
       "<table border=\"1\" class=\"dataframe\">\n",
       "  <thead>\n",
       "    <tr style=\"text-align: right;\">\n",
       "      <th></th>\n",
       "      <th>quantity tons</th>\n",
       "      <th>customer</th>\n",
       "      <th>country</th>\n",
       "      <th>application</th>\n",
       "      <th>thickness</th>\n",
       "      <th>width</th>\n",
       "      <th>product_ref</th>\n",
       "      <th>selling_price</th>\n",
       "      <th>delivery_time_taken</th>\n",
       "    </tr>\n",
       "  </thead>\n",
       "  <tbody>\n",
       "    <tr>\n",
       "      <th>quantity tons</th>\n",
       "      <td>1.000000</td>\n",
       "      <td>-0.001917</td>\n",
       "      <td>-0.090032</td>\n",
       "      <td>0.095520</td>\n",
       "      <td>0.002769</td>\n",
       "      <td>0.010398</td>\n",
       "      <td>0.051460</td>\n",
       "      <td>-0.041819</td>\n",
       "      <td>0.067674</td>\n",
       "    </tr>\n",
       "    <tr>\n",
       "      <th>customer</th>\n",
       "      <td>-0.001917</td>\n",
       "      <td>1.000000</td>\n",
       "      <td>-0.006669</td>\n",
       "      <td>-0.006869</td>\n",
       "      <td>0.021806</td>\n",
       "      <td>0.009585</td>\n",
       "      <td>-0.007716</td>\n",
       "      <td>-0.026031</td>\n",
       "      <td>-0.001515</td>\n",
       "    </tr>\n",
       "    <tr>\n",
       "      <th>country</th>\n",
       "      <td>-0.090032</td>\n",
       "      <td>-0.006669</td>\n",
       "      <td>1.000000</td>\n",
       "      <td>-0.019298</td>\n",
       "      <td>-0.055996</td>\n",
       "      <td>0.053864</td>\n",
       "      <td>-0.147310</td>\n",
       "      <td>-0.021714</td>\n",
       "      <td>-0.240433</td>\n",
       "    </tr>\n",
       "    <tr>\n",
       "      <th>application</th>\n",
       "      <td>0.095520</td>\n",
       "      <td>-0.006869</td>\n",
       "      <td>-0.019298</td>\n",
       "      <td>1.000000</td>\n",
       "      <td>-0.163481</td>\n",
       "      <td>-0.198875</td>\n",
       "      <td>-0.131813</td>\n",
       "      <td>0.129890</td>\n",
       "      <td>-0.167831</td>\n",
       "    </tr>\n",
       "    <tr>\n",
       "      <th>thickness</th>\n",
       "      <td>0.002769</td>\n",
       "      <td>0.021806</td>\n",
       "      <td>-0.055996</td>\n",
       "      <td>-0.163481</td>\n",
       "      <td>1.000000</td>\n",
       "      <td>0.419077</td>\n",
       "      <td>0.155758</td>\n",
       "      <td>-0.363868</td>\n",
       "      <td>0.084554</td>\n",
       "    </tr>\n",
       "    <tr>\n",
       "      <th>width</th>\n",
       "      <td>0.010398</td>\n",
       "      <td>0.009585</td>\n",
       "      <td>0.053864</td>\n",
       "      <td>-0.198875</td>\n",
       "      <td>0.419077</td>\n",
       "      <td>1.000000</td>\n",
       "      <td>-0.024106</td>\n",
       "      <td>-0.173316</td>\n",
       "      <td>0.038787</td>\n",
       "    </tr>\n",
       "    <tr>\n",
       "      <th>product_ref</th>\n",
       "      <td>0.051460</td>\n",
       "      <td>-0.007716</td>\n",
       "      <td>-0.147310</td>\n",
       "      <td>-0.131813</td>\n",
       "      <td>0.155758</td>\n",
       "      <td>-0.024106</td>\n",
       "      <td>1.000000</td>\n",
       "      <td>-0.077811</td>\n",
       "      <td>0.161775</td>\n",
       "    </tr>\n",
       "    <tr>\n",
       "      <th>selling_price</th>\n",
       "      <td>-0.041819</td>\n",
       "      <td>-0.026031</td>\n",
       "      <td>-0.021714</td>\n",
       "      <td>0.129890</td>\n",
       "      <td>-0.363868</td>\n",
       "      <td>-0.173316</td>\n",
       "      <td>-0.077811</td>\n",
       "      <td>1.000000</td>\n",
       "      <td>0.274230</td>\n",
       "    </tr>\n",
       "    <tr>\n",
       "      <th>delivery_time_taken</th>\n",
       "      <td>0.067674</td>\n",
       "      <td>-0.001515</td>\n",
       "      <td>-0.240433</td>\n",
       "      <td>-0.167831</td>\n",
       "      <td>0.084554</td>\n",
       "      <td>0.038787</td>\n",
       "      <td>0.161775</td>\n",
       "      <td>0.274230</td>\n",
       "      <td>1.000000</td>\n",
       "    </tr>\n",
       "  </tbody>\n",
       "</table>\n",
       "</div>"
      ],
      "text/plain": [
       "                     quantity tons  customer   country  application  \\\n",
       "quantity tons             1.000000 -0.001917 -0.090032     0.095520   \n",
       "customer                 -0.001917  1.000000 -0.006669    -0.006869   \n",
       "country                  -0.090032 -0.006669  1.000000    -0.019298   \n",
       "application               0.095520 -0.006869 -0.019298     1.000000   \n",
       "thickness                 0.002769  0.021806 -0.055996    -0.163481   \n",
       "width                     0.010398  0.009585  0.053864    -0.198875   \n",
       "product_ref               0.051460 -0.007716 -0.147310    -0.131813   \n",
       "selling_price            -0.041819 -0.026031 -0.021714     0.129890   \n",
       "delivery_time_taken       0.067674 -0.001515 -0.240433    -0.167831   \n",
       "\n",
       "                     thickness     width  product_ref  selling_price  \\\n",
       "quantity tons         0.002769  0.010398     0.051460      -0.041819   \n",
       "customer              0.021806  0.009585    -0.007716      -0.026031   \n",
       "country              -0.055996  0.053864    -0.147310      -0.021714   \n",
       "application          -0.163481 -0.198875    -0.131813       0.129890   \n",
       "thickness             1.000000  0.419077     0.155758      -0.363868   \n",
       "width                 0.419077  1.000000    -0.024106      -0.173316   \n",
       "product_ref           0.155758 -0.024106     1.000000      -0.077811   \n",
       "selling_price        -0.363868 -0.173316    -0.077811       1.000000   \n",
       "delivery_time_taken   0.084554  0.038787     0.161775       0.274230   \n",
       "\n",
       "                     delivery_time_taken  \n",
       "quantity tons                   0.067674  \n",
       "customer                       -0.001515  \n",
       "country                        -0.240433  \n",
       "application                    -0.167831  \n",
       "thickness                       0.084554  \n",
       "width                           0.038787  \n",
       "product_ref                     0.161775  \n",
       "selling_price                   0.274230  \n",
       "delivery_time_taken             1.000000  "
      ]
     },
     "execution_count": 57,
     "metadata": {},
     "output_type": "execute_result"
    }
   ],
   "source": [
    "corrm=num.corr()\n",
    "corrm"
   ]
  },
  {
   "cell_type": "markdown",
   "metadata": {},
   "source": [
    "Heatmap\n"
   ]
  },
  {
   "cell_type": "code",
   "execution_count": 58,
   "metadata": {},
   "outputs": [
    {
     "data": {
      "text/plain": [
       "<Axes: >"
      ]
     },
     "execution_count": 58,
     "metadata": {},
     "output_type": "execute_result"
    },
    {
     "data": {
      "image/png": "[encoded data removed]",
      "text/plain": [
       "<Figure size 1600x600 with 2 Axes>"
      ]
     },
     "metadata": {},
     "output_type": "display_data"
    }
   ],
   "source": [
    "# visualize correlation matrix in Seaborn using a heatmap\n",
    "plt.figure(figsize=(16,6))\n",
    "sns.heatmap(corrm,annot=True,cmap=\"YlGnBu\",fmt=\".2f\")\n"
   ]
  },
  {
   "cell_type": "markdown",
   "metadata": {},
   "source": [
    "FINDING UNIQUE VALUE\n"
   ]
  },
  {
   "cell_type": "code",
   "execution_count": 59,
   "metadata": {},
   "outputs": [
    {
     "name": "stdout",
     "output_type": "stream",
     "text": [
      "['28' '25' '30' '32' '38' '78' '27' '77' '113' '79' '26' '39' '40' '84'\n",
      " '80' '107' '89']\n",
      "['Won' 'Draft' 'To be approved' 'Lost' 'Not lost for AM' 'Wonderful'\n",
      " 'Revised' 'Offered' 'Offerable']\n",
      "['W' 'WI' 'S' 'Others' 'PL' 'IPL' 'SLAWR']\n"
     ]
    }
   ],
   "source": [
    "model_data['country'] = model_data['country'].astype(str)\n",
    "country=model_data['country'].unique()\n",
    "status=model_data['status'].unique()\n",
    "item=model_data['item type'].unique()\n",
    "print(country)\n",
    "print(status)\n",
    "print(item)"
   ]
  },
  {
   "cell_type": "markdown",
   "metadata": {},
   "source": [
    "ENCODE THE CATEGORICAL COLUMN\n"
   ]
  },
  {
   "cell_type": "markdown",
   "metadata": {},
   "source": [
    "country\n"
   ]
  },
  {
   "cell_type": "code",
   "execution_count": 60,
   "metadata": {},
   "outputs": [
    {
     "data": {
      "text/plain": [
       "array([ 5.,  2.,  6.,  7.,  8., 12.,  4., 11.,  1., 13.,  3.,  9., 10.,\n",
       "       15., 14.,  0., 16.])"
      ]
     },
     "execution_count": 60,
     "metadata": {},
     "output_type": "execute_result"
    }
   ],
   "source": [
    "from sklearn.preprocessing import OrdinalEncoder\n",
    "\n",
    "encode=OrdinalEncoder()\n",
    "model_data[\"country\"] = encode.fit_transform(model_data[[\"country\"]])\n",
    "transformed_country=model_data[\"country\"].unique()\n",
    "\n",
    "transformed_country"
   ]
  },
  {
   "cell_type": "markdown",
   "metadata": {},
   "source": [
    "status\n"
   ]
  },
  {
   "cell_type": "code",
   "execution_count": 61,
   "metadata": {},
   "outputs": [
    {
     "data": {
      "text/plain": [
       "array([7., 0., 6., 1., 2., 8., 5., 4., 3.])"
      ]
     },
     "execution_count": 61,
     "metadata": {},
     "output_type": "execute_result"
    }
   ],
   "source": [
    "encode=OrdinalEncoder()\n",
    "model_data['status'] = encode.fit_transform(model_data[['status']])\n",
    "transformed_status=model_data['status'].unique()\n",
    "\n",
    "transformed_status"
   ]
  },
  {
   "cell_type": "markdown",
   "metadata": {},
   "source": [
    "item type\n"
   ]
  },
  {
   "cell_type": "code",
   "execution_count": 62,
   "metadata": {},
   "outputs": [
    {
     "data": {
      "text/plain": [
       "array([5., 6., 3., 1., 2., 0., 4.])"
      ]
     },
     "execution_count": 62,
     "metadata": {},
     "output_type": "execute_result"
    }
   ],
   "source": [
    "encode=OrdinalEncoder()\n",
    "model_data[\"item type\"] = encode.fit_transform(model_data[[\"item type\"]])\n",
    "transformed_item=model_data[\"item type\"].unique()\n",
    "\n",
    "transformed_item"
   ]
  },
  {
   "cell_type": "code",
   "execution_count": 63,
   "metadata": {},
   "outputs": [
    {
     "data": {
      "text/html": [
       "<div>\n",
       "<style scoped>\n",
       "    .dataframe tbody tr th:only-of-type {\n",
       "        vertical-align: middle;\n",
       "    }\n",
       "\n",
       "    .dataframe tbody tr th {\n",
       "        vertical-align: top;\n",
       "    }\n",
       "\n",
       "    .dataframe thead th {\n",
       "        text-align: right;\n",
       "    }\n",
       "</style>\n",
       "<table border=\"1\" class=\"dataframe\">\n",
       "  <thead>\n",
       "    <tr style=\"text-align: right;\">\n",
       "      <th></th>\n",
       "      <th>item_date</th>\n",
       "      <th>quantity tons</th>\n",
       "      <th>customer</th>\n",
       "      <th>country</th>\n",
       "      <th>status</th>\n",
       "      <th>item type</th>\n",
       "      <th>application</th>\n",
       "      <th>thickness</th>\n",
       "      <th>width</th>\n",
       "      <th>product_ref</th>\n",
       "      <th>delivery date</th>\n",
       "      <th>selling_price</th>\n",
       "      <th>delivery_time_taken</th>\n",
       "    </tr>\n",
       "  </thead>\n",
       "  <tbody>\n",
       "    <tr>\n",
       "      <th>0</th>\n",
       "      <td>2021-04-01</td>\n",
       "      <td>54.151139</td>\n",
       "      <td>30156308.0</td>\n",
       "      <td>5.0</td>\n",
       "      <td>7.0</td>\n",
       "      <td>5.0</td>\n",
       "      <td>10.0</td>\n",
       "      <td>2.00</td>\n",
       "      <td>1500.0</td>\n",
       "      <td>1670798778</td>\n",
       "      <td>2021-07-01</td>\n",
       "      <td>854.00</td>\n",
       "      <td>91</td>\n",
       "    </tr>\n",
       "    <tr>\n",
       "      <th>1</th>\n",
       "      <td>2021-04-01</td>\n",
       "      <td>151.447218</td>\n",
       "      <td>30202938.0</td>\n",
       "      <td>2.0</td>\n",
       "      <td>7.0</td>\n",
       "      <td>5.0</td>\n",
       "      <td>41.0</td>\n",
       "      <td>0.80</td>\n",
       "      <td>1210.0</td>\n",
       "      <td>1668701718</td>\n",
       "      <td>2021-04-01</td>\n",
       "      <td>1047.00</td>\n",
       "      <td>0</td>\n",
       "    </tr>\n",
       "    <tr>\n",
       "      <th>2</th>\n",
       "      <td>2021-04-01</td>\n",
       "      <td>151.447218</td>\n",
       "      <td>30153963.0</td>\n",
       "      <td>6.0</td>\n",
       "      <td>7.0</td>\n",
       "      <td>6.0</td>\n",
       "      <td>28.0</td>\n",
       "      <td>0.38</td>\n",
       "      <td>952.0</td>\n",
       "      <td>628377</td>\n",
       "      <td>2021-01-01</td>\n",
       "      <td>644.33</td>\n",
       "      <td>90</td>\n",
       "    </tr>\n",
       "  </tbody>\n",
       "</table>\n",
       "</div>"
      ],
      "text/plain": [
       "   item_date  quantity tons    customer  country  status  item type  \\\n",
       "0 2021-04-01      54.151139  30156308.0      5.0     7.0        5.0   \n",
       "1 2021-04-01     151.447218  30202938.0      2.0     7.0        5.0   \n",
       "2 2021-04-01     151.447218  30153963.0      6.0     7.0        6.0   \n",
       "\n",
       "   application  thickness   width  product_ref delivery date  selling_price  \\\n",
       "0         10.0       2.00  1500.0   1670798778    2021-07-01         854.00   \n",
       "1         41.0       0.80  1210.0   1668701718    2021-04-01        1047.00   \n",
       "2         28.0       0.38   952.0       628377    2021-01-01         644.33   \n",
       "\n",
       "   delivery_time_taken  \n",
       "0                   91  \n",
       "1                    0  \n",
       "2                   90  "
      ]
     },
     "execution_count": 63,
     "metadata": {},
     "output_type": "execute_result"
    }
   ],
   "source": [
    "model_data.head(3)"
   ]
  },
  {
   "cell_type": "code",
   "execution_count": 64,
   "metadata": {},
   "outputs": [
    {
     "data": {
      "text/html": [
       "<div>\n",
       "<style scoped>\n",
       "    .dataframe tbody tr th:only-of-type {\n",
       "        vertical-align: middle;\n",
       "    }\n",
       "\n",
       "    .dataframe tbody tr th {\n",
       "        vertical-align: top;\n",
       "    }\n",
       "\n",
       "    .dataframe thead th {\n",
       "        text-align: right;\n",
       "    }\n",
       "</style>\n",
       "<table border=\"1\" class=\"dataframe\">\n",
       "  <thead>\n",
       "    <tr style=\"text-align: right;\">\n",
       "      <th></th>\n",
       "      <th>item_date</th>\n",
       "      <th>quantity tons</th>\n",
       "      <th>customer</th>\n",
       "      <th>country</th>\n",
       "      <th>status</th>\n",
       "      <th>item type</th>\n",
       "      <th>application</th>\n",
       "      <th>thickness</th>\n",
       "      <th>width</th>\n",
       "      <th>product_ref</th>\n",
       "      <th>delivery date</th>\n",
       "      <th>selling_price</th>\n",
       "      <th>delivery_time_taken</th>\n",
       "    </tr>\n",
       "  </thead>\n",
       "  <tbody>\n",
       "    <tr>\n",
       "      <th>item_date</th>\n",
       "      <td>1.000000</td>\n",
       "      <td>-0.004156</td>\n",
       "      <td>-0.003787</td>\n",
       "      <td>-0.017783</td>\n",
       "      <td>0.080490</td>\n",
       "      <td>0.077165</td>\n",
       "      <td>-0.008461</td>\n",
       "      <td>0.004421</td>\n",
       "      <td>0.005961</td>\n",
       "      <td>0.045224</td>\n",
       "      <td>0.920100</td>\n",
       "      <td>0.556540</td>\n",
       "      <td>0.438586</td>\n",
       "    </tr>\n",
       "    <tr>\n",
       "      <th>quantity tons</th>\n",
       "      <td>-0.004156</td>\n",
       "      <td>1.000000</td>\n",
       "      <td>-0.001917</td>\n",
       "      <td>-0.088865</td>\n",
       "      <td>-0.055870</td>\n",
       "      <td>-0.244992</td>\n",
       "      <td>0.095520</td>\n",
       "      <td>0.002769</td>\n",
       "      <td>0.010398</td>\n",
       "      <td>0.051460</td>\n",
       "      <td>0.016080</td>\n",
       "      <td>-0.041819</td>\n",
       "      <td>0.067674</td>\n",
       "    </tr>\n",
       "    <tr>\n",
       "      <th>customer</th>\n",
       "      <td>-0.003787</td>\n",
       "      <td>-0.001917</td>\n",
       "      <td>1.000000</td>\n",
       "      <td>-0.002373</td>\n",
       "      <td>-0.020450</td>\n",
       "      <td>-0.010901</td>\n",
       "      <td>-0.006869</td>\n",
       "      <td>0.021806</td>\n",
       "      <td>0.009585</td>\n",
       "      <td>-0.007716</td>\n",
       "      <td>-0.002908</td>\n",
       "      <td>-0.026031</td>\n",
       "      <td>-0.001515</td>\n",
       "    </tr>\n",
       "    <tr>\n",
       "      <th>country</th>\n",
       "      <td>-0.017783</td>\n",
       "      <td>-0.088865</td>\n",
       "      <td>-0.002373</td>\n",
       "      <td>1.000000</td>\n",
       "      <td>0.086437</td>\n",
       "      <td>0.152530</td>\n",
       "      <td>-0.045988</td>\n",
       "      <td>-0.043297</td>\n",
       "      <td>0.051924</td>\n",
       "      <td>-0.146436</td>\n",
       "      <td>-0.093026</td>\n",
       "      <td>-0.038011</td>\n",
       "      <td>-0.223484</td>\n",
       "    </tr>\n",
       "    <tr>\n",
       "      <th>status</th>\n",
       "      <td>0.080490</td>\n",
       "      <td>-0.055870</td>\n",
       "      <td>-0.020450</td>\n",
       "      <td>0.086437</td>\n",
       "      <td>1.000000</td>\n",
       "      <td>0.242816</td>\n",
       "      <td>0.132770</td>\n",
       "      <td>-0.127196</td>\n",
       "      <td>-0.092672</td>\n",
       "      <td>-0.069760</td>\n",
       "      <td>-0.054796</td>\n",
       "      <td>0.122168</td>\n",
       "      <td>-0.260778</td>\n",
       "    </tr>\n",
       "    <tr>\n",
       "      <th>item type</th>\n",
       "      <td>0.077165</td>\n",
       "      <td>-0.244992</td>\n",
       "      <td>-0.010901</td>\n",
       "      <td>0.152530</td>\n",
       "      <td>0.242816</td>\n",
       "      <td>1.000000</td>\n",
       "      <td>0.169087</td>\n",
       "      <td>-0.076801</td>\n",
       "      <td>-0.092086</td>\n",
       "      <td>-0.089531</td>\n",
       "      <td>0.005812</td>\n",
       "      <td>0.096054</td>\n",
       "      <td>-0.142563</td>\n",
       "    </tr>\n",
       "    <tr>\n",
       "      <th>application</th>\n",
       "      <td>-0.008461</td>\n",
       "      <td>0.095520</td>\n",
       "      <td>-0.006869</td>\n",
       "      <td>-0.045988</td>\n",
       "      <td>0.132770</td>\n",
       "      <td>0.169087</td>\n",
       "      <td>1.000000</td>\n",
       "      <td>-0.163481</td>\n",
       "      <td>-0.198875</td>\n",
       "      <td>-0.131813</td>\n",
       "      <td>-0.078519</td>\n",
       "      <td>0.129890</td>\n",
       "      <td>-0.167831</td>\n",
       "    </tr>\n",
       "    <tr>\n",
       "      <th>thickness</th>\n",
       "      <td>0.004421</td>\n",
       "      <td>0.002769</td>\n",
       "      <td>0.021806</td>\n",
       "      <td>-0.043297</td>\n",
       "      <td>-0.127196</td>\n",
       "      <td>-0.076801</td>\n",
       "      <td>-0.163481</td>\n",
       "      <td>1.000000</td>\n",
       "      <td>0.419077</td>\n",
       "      <td>0.155758</td>\n",
       "      <td>0.042485</td>\n",
       "      <td>-0.363868</td>\n",
       "      <td>0.084554</td>\n",
       "    </tr>\n",
       "    <tr>\n",
       "      <th>width</th>\n",
       "      <td>0.005961</td>\n",
       "      <td>0.010398</td>\n",
       "      <td>0.009585</td>\n",
       "      <td>0.051924</td>\n",
       "      <td>-0.092672</td>\n",
       "      <td>-0.092086</td>\n",
       "      <td>-0.198875</td>\n",
       "      <td>0.419077</td>\n",
       "      <td>1.000000</td>\n",
       "      <td>-0.024106</td>\n",
       "      <td>0.026825</td>\n",
       "      <td>-0.173316</td>\n",
       "      <td>0.038787</td>\n",
       "    </tr>\n",
       "    <tr>\n",
       "      <th>product_ref</th>\n",
       "      <td>0.045224</td>\n",
       "      <td>0.051460</td>\n",
       "      <td>-0.007716</td>\n",
       "      <td>-0.146436</td>\n",
       "      <td>-0.069760</td>\n",
       "      <td>-0.089531</td>\n",
       "      <td>-0.131813</td>\n",
       "      <td>0.155758</td>\n",
       "      <td>-0.024106</td>\n",
       "      <td>1.000000</td>\n",
       "      <td>0.096174</td>\n",
       "      <td>-0.077811</td>\n",
       "      <td>0.161775</td>\n",
       "    </tr>\n",
       "    <tr>\n",
       "      <th>delivery date</th>\n",
       "      <td>0.920100</td>\n",
       "      <td>0.016080</td>\n",
       "      <td>-0.002908</td>\n",
       "      <td>-0.093026</td>\n",
       "      <td>-0.054796</td>\n",
       "      <td>0.005812</td>\n",
       "      <td>-0.078519</td>\n",
       "      <td>0.042485</td>\n",
       "      <td>0.026825</td>\n",
       "      <td>0.096174</td>\n",
       "      <td>1.000000</td>\n",
       "      <td>0.529937</td>\n",
       "      <td>0.689915</td>\n",
       "    </tr>\n",
       "    <tr>\n",
       "      <th>selling_price</th>\n",
       "      <td>0.556540</td>\n",
       "      <td>-0.041819</td>\n",
       "      <td>-0.026031</td>\n",
       "      <td>-0.038011</td>\n",
       "      <td>0.122168</td>\n",
       "      <td>0.096054</td>\n",
       "      <td>0.129890</td>\n",
       "      <td>-0.363868</td>\n",
       "      <td>-0.173316</td>\n",
       "      <td>-0.077811</td>\n",
       "      <td>0.529937</td>\n",
       "      <td>1.000000</td>\n",
       "      <td>0.274230</td>\n",
       "    </tr>\n",
       "    <tr>\n",
       "      <th>delivery_time_taken</th>\n",
       "      <td>0.438586</td>\n",
       "      <td>0.067674</td>\n",
       "      <td>-0.001515</td>\n",
       "      <td>-0.223484</td>\n",
       "      <td>-0.260778</td>\n",
       "      <td>-0.142563</td>\n",
       "      <td>-0.167831</td>\n",
       "      <td>0.084554</td>\n",
       "      <td>0.038787</td>\n",
       "      <td>0.161775</td>\n",
       "      <td>0.689915</td>\n",
       "      <td>0.274230</td>\n",
       "      <td>1.000000</td>\n",
       "    </tr>\n",
       "  </tbody>\n",
       "</table>\n",
       "</div>"
      ],
      "text/plain": [
       "                     item_date  quantity tons  customer   country    status  \\\n",
       "item_date             1.000000      -0.004156 -0.003787 -0.017783  0.080490   \n",
       "quantity tons        -0.004156       1.000000 -0.001917 -0.088865 -0.055870   \n",
       "customer             -0.003787      -0.001917  1.000000 -0.002373 -0.020450   \n",
       "country              -0.017783      -0.088865 -0.002373  1.000000  0.086437   \n",
       "status                0.080490      -0.055870 -0.020450  0.086437  1.000000   \n",
       "item type             0.077165      -0.244992 -0.010901  0.152530  0.242816   \n",
       "application          -0.008461       0.095520 -0.006869 -0.045988  0.132770   \n",
       "thickness             0.004421       0.002769  0.021806 -0.043297 -0.127196   \n",
       "width                 0.005961       0.010398  0.009585  0.051924 -0.092672   \n",
       "product_ref           0.045224       0.051460 -0.007716 -0.146436 -0.069760   \n",
       "delivery date         0.920100       0.016080 -0.002908 -0.093026 -0.054796   \n",
       "selling_price         0.556540      -0.041819 -0.026031 -0.038011  0.122168   \n",
       "delivery_time_taken   0.438586       0.067674 -0.001515 -0.223484 -0.260778   \n",
       "\n",
       "                     item type  application  thickness     width  product_ref  \\\n",
       "item_date             0.077165    -0.008461   0.004421  0.005961     0.045224   \n",
       "quantity tons        -0.244992     0.095520   0.002769  0.010398     0.051460   \n",
       "customer             -0.010901    -0.006869   0.021806  0.009585    -0.007716   \n",
       "country               0.152530    -0.045988  -0.043297  0.051924    -0.146436   \n",
       "status                0.242816     0.132770  -0.127196 -0.092672    -0.069760   \n",
       "item type             1.000000     0.169087  -0.076801 -0.092086    -0.089531   \n",
       "application           0.169087     1.000000  -0.163481 -0.198875    -0.131813   \n",
       "thickness            -0.076801    -0.163481   1.000000  0.419077     0.155758   \n",
       "width                -0.092086    -0.198875   0.419077  1.000000    -0.024106   \n",
       "product_ref          -0.089531    -0.131813   0.155758 -0.024106     1.000000   \n",
       "delivery date         0.005812    -0.078519   0.042485  0.026825     0.096174   \n",
       "selling_price         0.096054     0.129890  -0.363868 -0.173316    -0.077811   \n",
       "delivery_time_taken  -0.142563    -0.167831   0.084554  0.038787     0.161775   \n",
       "\n",
       "                     delivery date  selling_price  delivery_time_taken  \n",
       "item_date                 0.920100       0.556540             0.438586  \n",
       "quantity tons             0.016080      -0.041819             0.067674  \n",
       "customer                 -0.002908      -0.026031            -0.001515  \n",
       "country                  -0.093026      -0.038011            -0.223484  \n",
       "status                   -0.054796       0.122168            -0.260778  \n",
       "item type                 0.005812       0.096054            -0.142563  \n",
       "application              -0.078519       0.129890            -0.167831  \n",
       "thickness                 0.042485      -0.363868             0.084554  \n",
       "width                     0.026825      -0.173316             0.038787  \n",
       "product_ref               0.096174      -0.077811             0.161775  \n",
       "delivery date             1.000000       0.529937             0.689915  \n",
       "selling_price             0.529937       1.000000             0.274230  \n",
       "delivery_time_taken       0.689915       0.274230             1.000000  "
      ]
     },
     "execution_count": 64,
     "metadata": {},
     "output_type": "execute_result"
    }
   ],
   "source": [
    "co=model_data.corr()\n",
    "co"
   ]
  },
  {
   "cell_type": "markdown",
   "metadata": {},
   "source": [
    "After encoding the Categorical data"
   ]
  },
  {
   "cell_type": "code",
   "execution_count": 65,
   "metadata": {},
   "outputs": [
    {
     "name": "stdout",
     "output_type": "stream",
     "text": [
      "After encoding : Won ----- encoded : 7.0\n",
      "After encoding : Draft ----- encoded : 0.0\n",
      "After encoding : To be approved ----- encoded : 6.0\n",
      "After encoding : Lost ----- encoded : 1.0\n",
      "After encoding : Not lost for AM ----- encoded : 2.0\n",
      "After encoding : Wonderful ----- encoded : 8.0\n",
      "After encoding : Revised ----- encoded : 5.0\n",
      "After encoding : Offered ----- encoded : 4.0\n",
      "After encoding : Offerable ----- encoded : 3.0\n"
     ]
    }
   ],
   "source": [
    "for i, j in zip(status, transformed_status):\n",
    "    print('After encoding :',i,'----- encoded :',j)"
   ]
  },
  {
   "cell_type": "code",
   "execution_count": 66,
   "metadata": {},
   "outputs": [
    {
     "name": "stdout",
     "output_type": "stream",
     "text": [
      "After encoding : W ----- encoded : 5.0\n",
      "After encoding : WI ----- encoded : 6.0\n",
      "After encoding : S ----- encoded : 3.0\n",
      "After encoding : Others ----- encoded : 1.0\n",
      "After encoding : PL ----- encoded : 2.0\n",
      "After encoding : IPL ----- encoded : 0.0\n",
      "After encoding : SLAWR ----- encoded : 4.0\n"
     ]
    }
   ],
   "source": [
    "for i,j in zip(item, transformed_item):\n",
    "    print('After encoding :',i,'----- encoded :',j)"
   ]
  },
  {
   "cell_type": "code",
   "execution_count": 67,
   "metadata": {},
   "outputs": [
    {
     "name": "stdout",
     "output_type": "stream",
     "text": [
      "After encoding : 28 ----- encoded : 5.0\n",
      "After encoding : 25 ----- encoded : 2.0\n",
      "After encoding : 30 ----- encoded : 6.0\n",
      "After encoding : 32 ----- encoded : 7.0\n",
      "After encoding : 38 ----- encoded : 8.0\n",
      "After encoding : 78 ----- encoded : 12.0\n",
      "After encoding : 27 ----- encoded : 4.0\n",
      "After encoding : 77 ----- encoded : 11.0\n",
      "After encoding : 113 ----- encoded : 1.0\n",
      "After encoding : 79 ----- encoded : 13.0\n",
      "After encoding : 26 ----- encoded : 3.0\n",
      "After encoding : 39 ----- encoded : 9.0\n",
      "After encoding : 40 ----- encoded : 10.0\n",
      "After encoding : 84 ----- encoded : 15.0\n",
      "After encoding : 80 ----- encoded : 14.0\n",
      "After encoding : 107 ----- encoded : 0.0\n",
      "After encoding : 89 ----- encoded : 16.0\n"
     ]
    }
   ],
   "source": [
    "for i,j in zip(country, transformed_country):\n",
    "    print('After encoding :',i,'----- encoded :',j)"
   ]
  },
  {
   "cell_type": "markdown",
   "metadata": {},
   "source": [
    "Pickle"
   ]
  },
  {
   "cell_type": "code",
   "execution_count": 68,
   "metadata": {},
   "outputs": [
    {
     "name": "stdout",
     "output_type": "stream",
     "text": [
      "Pickle file created: country.pkl, status.pkl,item type.pkl\n"
     ]
    }
   ],
   "source": [
    "import pickle\n",
    "\n",
    "file_path='country.pkl'\n",
    "file_path2='status.pkl'\n",
    "file_path3='item type.pkl'\n",
    "\n",
    "with open(file_path, 'wb') as file:\n",
    "    pickle.dump(transformed_country, file)\n",
    "with open(file_path2, 'wb') as file:\n",
    "    pickle.dump(transformed_status, file)\n",
    "with open(file_path3, 'wb') as file:\n",
    "    pickle.dump(transformed_item, file)\n",
    "\n",
    "print(f'Pickle file created: {file_path}, {file_path2},{file_path3}')"
   ]
  },
  {
   "cell_type": "markdown",
   "metadata": {},
   "source": [
    "Load"
   ]
  },
  {
   "cell_type": "code",
   "execution_count": 69,
   "metadata": {},
   "outputs": [
    {
     "data": {
      "text/plain": [
       "array([7., 0., 6., 1., 2., 8., 5., 4., 3.])"
      ]
     },
     "execution_count": 69,
     "metadata": {},
     "output_type": "execute_result"
    }
   ],
   "source": [
    "import pickle\n",
    "with open('status.pkl', 'rb') as file:\n",
    "    encode_status = pickle.load(file)\n",
    "\n",
    "encode_status"
   ]
  },
  {
   "cell_type": "markdown",
   "metadata": {},
   "source": [
    "REGRESSION MODEL FOR FINDING SELLING PRICE"
   ]
  },
  {
   "cell_type": "code",
   "execution_count": 70,
   "metadata": {},
   "outputs": [
    {
     "name": "stdout",
     "output_type": "stream",
     "text": [
      "status\n",
      "[7. 0. 6. 1. 2. 8. 5. 4. 3.]\n",
      "item type\n",
      "[5. 6. 3. 1. 2. 0. 4.]\n",
      "country\n",
      "[ 5.  2.  6.  7.  8. 12.  4. 11.  1. 13.  3.  9. 10. 15. 14.  0. 16.]\n"
     ]
    }
   ],
   "source": [
    "category_col=['status', 'item type','country']\n",
    "encoder= OrdinalEncoder()\n",
    "for i in category_col:\n",
    "    print(i)\n",
    "    model_data[i] = encoder.fit_transform(model_data[[i]])\n",
    "    print(model_data[i].unique())"
   ]
  },
  {
   "cell_type": "code",
   "execution_count": 71,
   "metadata": {},
   "outputs": [
    {
     "data": {
      "text/html": [
       "<div>\n",
       "<style scoped>\n",
       "    .dataframe tbody tr th:only-of-type {\n",
       "        vertical-align: middle;\n",
       "    }\n",
       "\n",
       "    .dataframe tbody tr th {\n",
       "        vertical-align: top;\n",
       "    }\n",
       "\n",
       "    .dataframe thead th {\n",
       "        text-align: right;\n",
       "    }\n",
       "</style>\n",
       "<table border=\"1\" class=\"dataframe\">\n",
       "  <thead>\n",
       "    <tr style=\"text-align: right;\">\n",
       "      <th></th>\n",
       "      <th>item_date</th>\n",
       "      <th>quantity tons</th>\n",
       "      <th>customer</th>\n",
       "      <th>country</th>\n",
       "      <th>status</th>\n",
       "      <th>item type</th>\n",
       "      <th>application</th>\n",
       "      <th>thickness</th>\n",
       "      <th>width</th>\n",
       "      <th>product_ref</th>\n",
       "      <th>delivery date</th>\n",
       "      <th>selling_price</th>\n",
       "      <th>delivery_time_taken</th>\n",
       "    </tr>\n",
       "  </thead>\n",
       "  <tbody>\n",
       "    <tr>\n",
       "      <th>0</th>\n",
       "      <td>2021-04-01</td>\n",
       "      <td>54.151139</td>\n",
       "      <td>30156308.0</td>\n",
       "      <td>5.0</td>\n",
       "      <td>7.0</td>\n",
       "      <td>5.0</td>\n",
       "      <td>10.0</td>\n",
       "      <td>2.00</td>\n",
       "      <td>1500.0</td>\n",
       "      <td>1670798778</td>\n",
       "      <td>2021-07-01</td>\n",
       "      <td>854.00</td>\n",
       "      <td>91</td>\n",
       "    </tr>\n",
       "    <tr>\n",
       "      <th>1</th>\n",
       "      <td>2021-04-01</td>\n",
       "      <td>151.447218</td>\n",
       "      <td>30202938.0</td>\n",
       "      <td>2.0</td>\n",
       "      <td>7.0</td>\n",
       "      <td>5.0</td>\n",
       "      <td>41.0</td>\n",
       "      <td>0.80</td>\n",
       "      <td>1210.0</td>\n",
       "      <td>1668701718</td>\n",
       "      <td>2021-04-01</td>\n",
       "      <td>1047.00</td>\n",
       "      <td>0</td>\n",
       "    </tr>\n",
       "    <tr>\n",
       "      <th>2</th>\n",
       "      <td>2021-04-01</td>\n",
       "      <td>151.447218</td>\n",
       "      <td>30153963.0</td>\n",
       "      <td>6.0</td>\n",
       "      <td>7.0</td>\n",
       "      <td>6.0</td>\n",
       "      <td>28.0</td>\n",
       "      <td>0.38</td>\n",
       "      <td>952.0</td>\n",
       "      <td>628377</td>\n",
       "      <td>2021-01-01</td>\n",
       "      <td>644.33</td>\n",
       "      <td>90</td>\n",
       "    </tr>\n",
       "    <tr>\n",
       "      <th>3</th>\n",
       "      <td>2021-04-01</td>\n",
       "      <td>151.447218</td>\n",
       "      <td>30349574.0</td>\n",
       "      <td>7.0</td>\n",
       "      <td>7.0</td>\n",
       "      <td>3.0</td>\n",
       "      <td>59.0</td>\n",
       "      <td>2.30</td>\n",
       "      <td>1317.0</td>\n",
       "      <td>1668701718</td>\n",
       "      <td>2021-01-01</td>\n",
       "      <td>768.00</td>\n",
       "      <td>90</td>\n",
       "    </tr>\n",
       "    <tr>\n",
       "      <th>4</th>\n",
       "      <td>2021-04-01</td>\n",
       "      <td>151.447218</td>\n",
       "      <td>30211560.0</td>\n",
       "      <td>5.0</td>\n",
       "      <td>7.0</td>\n",
       "      <td>5.0</td>\n",
       "      <td>10.0</td>\n",
       "      <td>4.00</td>\n",
       "      <td>1980.0</td>\n",
       "      <td>640665</td>\n",
       "      <td>2021-03-01</td>\n",
       "      <td>577.00</td>\n",
       "      <td>31</td>\n",
       "    </tr>\n",
       "  </tbody>\n",
       "</table>\n",
       "</div>"
      ],
      "text/plain": [
       "   item_date  quantity tons    customer  country  status  item type  \\\n",
       "0 2021-04-01      54.151139  30156308.0      5.0     7.0        5.0   \n",
       "1 2021-04-01     151.447218  30202938.0      2.0     7.0        5.0   \n",
       "2 2021-04-01     151.447218  30153963.0      6.0     7.0        6.0   \n",
       "3 2021-04-01     151.447218  30349574.0      7.0     7.0        3.0   \n",
       "4 2021-04-01     151.447218  30211560.0      5.0     7.0        5.0   \n",
       "\n",
       "   application  thickness   width  product_ref delivery date  selling_price  \\\n",
       "0         10.0       2.00  1500.0   1670798778    2021-07-01         854.00   \n",
       "1         41.0       0.80  1210.0   1668701718    2021-04-01        1047.00   \n",
       "2         28.0       0.38   952.0       628377    2021-01-01         644.33   \n",
       "3         59.0       2.30  1317.0   1668701718    2021-01-01         768.00   \n",
       "4         10.0       4.00  1980.0       640665    2021-03-01         577.00   \n",
       "\n",
       "   delivery_time_taken  \n",
       "0                   91  \n",
       "1                    0  \n",
       "2                   90  \n",
       "3                   90  \n",
       "4                   31  "
      ]
     },
     "execution_count": 71,
     "metadata": {},
     "output_type": "execute_result"
    }
   ],
   "source": [
    "model_data.head()"
   ]
  },
  {
   "cell_type": "code",
   "execution_count": 72,
   "metadata": {},
   "outputs": [],
   "source": [
    "X = model_data[[ 'quantity tons','thickness','width','country','status','item type', 'application','product_ref','delivery_time_taken']].values\n",
    "y = model_data[['selling_price']].values\n",
    "\n",
    "scaler = StandardScaler().fit(X)\n",
    "X = scaler.transform(X)\n",
    "\n",
    "# Split the dataset into training and testing sets\n",
    "X_train, X_test, y_train, y_test = train_test_split(X, y, test_size=0.3, random_state=42)"
   ]
  },
  {
   "cell_type": "code",
   "execution_count": 73,
   "metadata": {},
   "outputs": [
    {
     "name": "stdout",
     "output_type": "stream",
     "text": [
      "Pickle file created: scaling.pkl\n"
     ]
    }
   ],
   "source": [
    "import pickle\n",
    "file_path6='scaling.pkl'\n",
    "with open(file_path6, 'wb') as file:\n",
    "    pickle.dump(scaler, file)\n",
    "print(f'Pickle file created: {file_path6}')"
   ]
  },
  {
   "cell_type": "code",
   "execution_count": 74,
   "metadata": {},
   "outputs": [],
   "source": [
    "# Create an instance of each regression model\n",
    "et_model = ExtraTreesRegressor()                   # Extra Tree Regressor\n",
    "xgb_model = XGBRegressor()                         # Extreme Gradient Boost Regressor\n",
    "dt_model = DecisionTreeRegressor()                 # Decision Tree Regressor\n",
    "\n",
    "# Train the models\n",
    "et_model.fit(X_train, y_train)\n",
    "xgb_model.fit(X_train,y_train)\n",
    "dt_model.fit(X_train, y_train)\n",
    "\n",
    "\n",
    "# Make predictions on the test set\n",
    "et_preds = et_model.predict(X_test)\n",
    "xgb_preds = xgb_model.predict(X_test)\n",
    "dt_preds = dt_model.predict(X_test)\n",
    "\n",
    "# Evaluate the models\n",
    "\n",
    "et_mse = mean_squared_error(y_test, et_preds)\n",
    "et_mae = mean_absolute_error(y_test, et_preds)\n",
    "et_r2 = r2_score(y_test, et_preds)\n",
    "\n",
    "xgb_mse = mean_squared_error(y_test, xgb_preds)\n",
    "xgb_mae = mean_absolute_error(y_test, xgb_preds)\n",
    "xgb_r2 = r2_score(y_test, xgb_preds)\n",
    "\n",
    "dt_mse = mean_squared_error(y_test, dt_preds)\n",
    "dt_mae = mean_absolute_error(y_test, dt_preds)\n",
    "dt_r2 = r2_score(y_test, dt_preds)"
   ]
  },
  {
   "cell_type": "code",
   "execution_count": 75,
   "metadata": {},
   "outputs": [
    {
     "name": "stdout",
     "output_type": "stream",
     "text": [
      "ExtraTreeRegressor    MSE: 4550.3930438899515,  MAE: 41.08744549280244,  R2: 0.897196805451673\n",
      "XGBRegressor          MSE: 8008.114282214844,  MAE: 67.07302758563004,  R2: 0.8190794240015811\n",
      "DecisionTreeRegressor MSE: 7904.607881332099,  MAE: 48.20268207186106, R2: 0.8214178568719535\n"
     ]
    }
   ],
   "source": [
    "print(f\"ExtraTreeRegressor    MSE: {et_mse},  MAE: {et_mae},  R2: {et_r2}\")\n",
    "print(f\"XGBRegressor          MSE: {xgb_mse},  MAE: {xgb_mae},  R2: {xgb_r2}\")\n",
    "print(f\"DecisionTreeRegressor MSE: {dt_mse},  MAE: {dt_mae}, R2: {dt_r2}\")"
   ]
  },
  {
   "cell_type": "code",
   "execution_count": 76,
   "metadata": {},
   "outputs": [
    {
     "data": {
      "application/vnd.plotly.v1+json": {
       "config": {
        "plotlyServerURL": "https://plot.ly"
       },
       "data": [
        {
         "alignmentgroup": "True",
         "hovertemplate": "x=%{x}<br>y=%{y}<extra></extra>",
         "legendgroup": "",
         "marker": {
          "color": "#636efa",
          "pattern": {
           "shape": ""
          }
         },
         "name": "",
         "offsetgroup": "",
         "orientation": "v",
         "showlegend": false,
         "textposition": "auto",
         "type": "bar",
         "x": [
          "ExtraTreeRegressor",
          "DecisionTreeRegressor",
          "XGBRegressor"
         ],
         "xaxis": "x",
         "y": [
          0.897196805451673,
          0.8214178568719535,
          0.8190794240015811
         ],
         "yaxis": "y"
        }
       ],
       "layout": {
        "barmode": "relative",
        "legend": {
         "tracegroupgap": 0
        },
        "template": {
         "data": {
          "bar": [
           {
            "error_x": {
             "color": "#2a3f5f"
            },
            "error_y": {
             "color": "#2a3f5f"
            },
            "marker": {
             "line": {
              "color": "#E5ECF6",
              "width": 0.5
             },
             "pattern": {
              "fillmode": "overlay",
              "size": 10,
              "solidity": 0.2
             }
            },
            "type": "bar"
           }
          ],
          "barpolar": [
           {
            "marker": {
             "line": {
              "color": "#E5ECF6",
              "width": 0.5
             },
             "pattern": {
              "fillmode": "overlay",
              "size": 10,
              "solidity": 0.2
             }
            },
            "type": "barpolar"
           }
          ],
          "carpet": [
           {
            "aaxis": {
             "endlinecolor": "#2a3f5f",
             "gridcolor": "white",
             "linecolor": "white",
             "minorgridcolor": "white",
             "startlinecolor": "#2a3f5f"
            },
            "baxis": {
             "endlinecolor": "#2a3f5f",
             "gridcolor": "white",
             "linecolor": "white",
             "minorgridcolor": "white",
             "startlinecolor": "#2a3f5f"
            },
            "type": "carpet"
           }
          ],
          "choropleth": [
           {
            "colorbar": {
             "outlinewidth": 0,
             "ticks": ""
            },
            "type": "choropleth"
           }
          ],
          "contour": [
           {
            "colorbar": {
             "outlinewidth": 0,
             "ticks": ""
            },
            "colorscale": [
             [
              0,
              "#0d0887"
             ],
             [
              0.1111111111111111,
              "#46039f"
             ],
             [
              0.2222222222222222,
              "#7201a8"
             ],
             [
              0.3333333333333333,
              "#9c179e"
             ],
             [
              0.4444444444444444,
              "#bd3786"
             ],
             [
              0.5555555555555556,
              "#d8576b"
             ],
             [
              0.6666666666666666,
              "#ed7953"
             ],
             [
              0.7777777777777778,
              "#fb9f3a"
             ],
             [
              0.8888888888888888,
              "#fdca26"
             ],
             [
              1,
              "#f0f921"
             ]
            ],
            "type": "contour"
           }
          ],
          "contourcarpet": [
           {
            "colorbar": {
             "outlinewidth": 0,
             "ticks": ""
            },
            "type": "contourcarpet"
           }
          ],
          "heatmap": [
           {
            "colorbar": {
             "outlinewidth": 0,
             "ticks": ""
            },
            "colorscale": [
             [
              0,
              "#0d0887"
             ],
             [
              0.1111111111111111,
              "#46039f"
             ],
             [
              0.2222222222222222,
              "#7201a8"
             ],
             [
              0.3333333333333333,
              "#9c179e"
             ],
             [
              0.4444444444444444,
              "#bd3786"
             ],
             [
              0.5555555555555556,
              "#d8576b"
             ],
             [
              0.6666666666666666,
              "#ed7953"
             ],
             [
              0.7777777777777778,
              "#fb9f3a"
             ],
             [
              0.8888888888888888,
              "#fdca26"
             ],
             [
              1,
              "#f0f921"
             ]
            ],
            "type": "heatmap"
           }
          ],
          "heatmapgl": [
           {
            "colorbar": {
             "outlinewidth": 0,
             "ticks": ""
            },
            "colorscale": [
             [
              0,
              "#0d0887"
             ],
             [
              0.1111111111111111,
              "#46039f"
             ],
             [
              0.2222222222222222,
              "#7201a8"
             ],
             [
              0.3333333333333333,
              "#9c179e"
             ],
             [
              0.4444444444444444,
              "#bd3786"
             ],
             [
              0.5555555555555556,
              "#d8576b"
             ],
             [
              0.6666666666666666,
              "#ed7953"
             ],
             [
              0.7777777777777778,
              "#fb9f3a"
             ],
             [
              0.8888888888888888,
              "#fdca26"
             ],
             [
              1,
              "#f0f921"
             ]
            ],
            "type": "heatmapgl"
           }
          ],
          "histogram": [
           {
            "marker": {
             "pattern": {
              "fillmode": "overlay",
              "size": 10,
              "solidity": 0.2
             }
            },
            "type": "histogram"
           }
          ],
          "histogram2d": [
           {
            "colorbar": {
             "outlinewidth": 0,
             "ticks": ""
            },
            "colorscale": [
             [
              0,
              "#0d0887"
             ],
             [
              0.1111111111111111,
              "#46039f"
             ],
             [
              0.2222222222222222,
              "#7201a8"
             ],
             [
              0.3333333333333333,
              "#9c179e"
             ],
             [
              0.4444444444444444,
              "#bd3786"
             ],
             [
              0.5555555555555556,
              "#d8576b"
             ],
             [
              0.6666666666666666,
              "#ed7953"
             ],
             [
              0.7777777777777778,
              "#fb9f3a"
             ],
             [
              0.8888888888888888,
              "#fdca26"
             ],
             [
              1,
              "#f0f921"
             ]
            ],
            "type": "histogram2d"
           }
          ],
          "histogram2dcontour": [
           {
            "colorbar": {
             "outlinewidth": 0,
             "ticks": ""
            },
            "colorscale": [
             [
              0,
              "#0d0887"
             ],
             [
              0.1111111111111111,
              "#46039f"
             ],
             [
              0.2222222222222222,
              "#7201a8"
             ],
             [
              0.3333333333333333,
              "#9c179e"
             ],
             [
              0.4444444444444444,
              "#bd3786"
             ],
             [
              0.5555555555555556,
              "#d8576b"
             ],
             [
              0.6666666666666666,
              "#ed7953"
             ],
             [
              0.7777777777777778,
              "#fb9f3a"
             ],
             [
              0.8888888888888888,
              "#fdca26"
             ],
             [
              1,
              "#f0f921"
             ]
            ],
            "type": "histogram2dcontour"
           }
          ],
          "mesh3d": [
           {
            "colorbar": {
             "outlinewidth": 0,
             "ticks": ""
            },
            "type": "mesh3d"
           }
          ],
          "parcoords": [
           {
            "line": {
             "colorbar": {
              "outlinewidth": 0,
              "ticks": ""
             }
            },
            "type": "parcoords"
           }
          ],
          "pie": [
           {
            "automargin": true,
            "type": "pie"
           }
          ],
          "scatter": [
           {
            "fillpattern": {
             "fillmode": "overlay",
             "size": 10,
             "solidity": 0.2
            },
            "type": "scatter"
           }
          ],
          "scatter3d": [
           {
            "line": {
             "colorbar": {
              "outlinewidth": 0,
              "ticks": ""
             }
            },
            "marker": {
             "colorbar": {
              "outlinewidth": 0,
              "ticks": ""
             }
            },
            "type": "scatter3d"
           }
          ],
          "scattercarpet": [
           {
            "marker": {
             "colorbar": {
              "outlinewidth": 0,
              "ticks": ""
             }
            },
            "type": "scattercarpet"
           }
          ],
          "scattergeo": [
           {
            "marker": {
             "colorbar": {
              "outlinewidth": 0,
              "ticks": ""
             }
            },
            "type": "scattergeo"
           }
          ],
          "scattergl": [
           {
            "marker": {
             "colorbar": {
              "outlinewidth": 0,
              "ticks": ""
             }
            },
            "type": "scattergl"
           }
          ],
          "scattermapbox": [
           {
            "marker": {
             "colorbar": {
              "outlinewidth": 0,
              "ticks": ""
             }
            },
            "type": "scattermapbox"
           }
          ],
          "scatterpolar": [
           {
            "marker": {
             "colorbar": {
              "outlinewidth": 0,
              "ticks": ""
             }
            },
            "type": "scatterpolar"
           }
          ],
          "scatterpolargl": [
           {
            "marker": {
             "colorbar": {
              "outlinewidth": 0,
              "ticks": ""
             }
            },
            "type": "scatterpolargl"
           }
          ],
          "scatterternary": [
           {
            "marker": {
             "colorbar": {
              "outlinewidth": 0,
              "ticks": ""
             }
            },
            "type": "scatterternary"
           }
          ],
          "surface": [
           {
            "colorbar": {
             "outlinewidth": 0,
             "ticks": ""
            },
            "colorscale": [
             [
              0,
              "#0d0887"
             ],
             [
              0.1111111111111111,
              "#46039f"
             ],
             [
              0.2222222222222222,
              "#7201a8"
             ],
             [
              0.3333333333333333,
              "#9c179e"
             ],
             [
              0.4444444444444444,
              "#bd3786"
             ],
             [
              0.5555555555555556,
              "#d8576b"
             ],
             [
              0.6666666666666666,
              "#ed7953"
             ],
             [
              0.7777777777777778,
              "#fb9f3a"
             ],
             [
              0.8888888888888888,
              "#fdca26"
             ],
             [
              1,
              "#f0f921"
             ]
            ],
            "type": "surface"
           }
          ],
          "table": [
           {
            "cells": {
             "fill": {
              "color": "#EBF0F8"
             },
             "line": {
              "color": "white"
             }
            },
            "header": {
             "fill": {
              "color": "#C8D4E3"
             },
             "line": {
              "color": "white"
             }
            },
            "type": "table"
           }
          ]
         },
         "layout": {
          "annotationdefaults": {
           "arrowcolor": "#2a3f5f",
           "arrowhead": 0,
           "arrowwidth": 1
          },
          "autotypenumbers": "strict",
          "coloraxis": {
           "colorbar": {
            "outlinewidth": 0,
            "ticks": ""
           }
          },
          "colorscale": {
           "diverging": [
            [
             0,
             "#8e0152"
            ],
            [
             0.1,
             "#c51b7d"
            ],
            [
             0.2,
             "#de77ae"
            ],
            [
             0.3,
             "#f1b6da"
            ],
            [
             0.4,
             "#fde0ef"
            ],
            [
             0.5,
             "#f7f7f7"
            ],
            [
             0.6,
             "#e6f5d0"
            ],
            [
             0.7,
             "#b8e186"
            ],
            [
             0.8,
             "#7fbc41"
            ],
            [
             0.9,
             "#4d9221"
            ],
            [
             1,
             "#276419"
            ]
           ],
           "sequential": [
            [
             0,
             "#0d0887"
            ],
            [
             0.1111111111111111,
             "#46039f"
            ],
            [
             0.2222222222222222,
             "#7201a8"
            ],
            [
             0.3333333333333333,
             "#9c179e"
            ],
            [
             0.4444444444444444,
             "#bd3786"
            ],
            [
             0.5555555555555556,
             "#d8576b"
            ],
            [
             0.6666666666666666,
             "#ed7953"
            ],
            [
             0.7777777777777778,
             "#fb9f3a"
            ],
            [
             0.8888888888888888,
             "#fdca26"
            ],
            [
             1,
             "#f0f921"
            ]
           ],
           "sequentialminus": [
            [
             0,
             "#0d0887"
            ],
            [
             0.1111111111111111,
             "#46039f"
            ],
            [
             0.2222222222222222,
             "#7201a8"
            ],
            [
             0.3333333333333333,
             "#9c179e"
            ],
            [
             0.4444444444444444,
             "#bd3786"
            ],
            [
             0.5555555555555556,
             "#d8576b"
            ],
            [
             0.6666666666666666,
             "#ed7953"
            ],
            [
             0.7777777777777778,
             "#fb9f3a"
            ],
            [
             0.8888888888888888,
             "#fdca26"
            ],
            [
             1,
             "#f0f921"
            ]
           ]
          },
          "colorway": [
           "#636efa",
           "#EF553B",
           "#00cc96",
           "#ab63fa",
           "#FFA15A",
           "#19d3f3",
           "#FF6692",
           "#B6E880",
           "#FF97FF",
           "#FECB52"
          ],
          "font": {
           "color": "#2a3f5f"
          },
          "geo": {
           "bgcolor": "white",
           "lakecolor": "white",
           "landcolor": "#E5ECF6",
           "showlakes": true,
           "showland": true,
           "subunitcolor": "white"
          },
          "hoverlabel": {
           "align": "left"
          },
          "hovermode": "closest",
          "mapbox": {
           "style": "light"
          },
          "paper_bgcolor": "white",
          "plot_bgcolor": "#E5ECF6",
          "polar": {
           "angularaxis": {
            "gridcolor": "white",
            "linecolor": "white",
            "ticks": ""
           },
           "bgcolor": "#E5ECF6",
           "radialaxis": {
            "gridcolor": "white",
            "linecolor": "white",
            "ticks": ""
           }
          },
          "scene": {
           "xaxis": {
            "backgroundcolor": "#E5ECF6",
            "gridcolor": "white",
            "gridwidth": 2,
            "linecolor": "white",
            "showbackground": true,
            "ticks": "",
            "zerolinecolor": "white"
           },
           "yaxis": {
            "backgroundcolor": "#E5ECF6",
            "gridcolor": "white",
            "gridwidth": 2,
            "linecolor": "white",
            "showbackground": true,
            "ticks": "",
            "zerolinecolor": "white"
           },
           "zaxis": {
            "backgroundcolor": "#E5ECF6",
            "gridcolor": "white",
            "gridwidth": 2,
            "linecolor": "white",
            "showbackground": true,
            "ticks": "",
            "zerolinecolor": "white"
           }
          },
          "shapedefaults": {
           "line": {
            "color": "#2a3f5f"
           }
          },
          "ternary": {
           "aaxis": {
            "gridcolor": "white",
            "linecolor": "white",
            "ticks": ""
           },
           "baxis": {
            "gridcolor": "white",
            "linecolor": "white",
            "ticks": ""
           },
           "bgcolor": "#E5ECF6",
           "caxis": {
            "gridcolor": "white",
            "linecolor": "white",
            "ticks": ""
           }
          },
          "title": {
           "x": 0.05
          },
          "xaxis": {
           "automargin": true,
           "gridcolor": "white",
           "linecolor": "white",
           "ticks": "",
           "title": {
            "standoff": 15
           },
           "zerolinecolor": "white",
           "zerolinewidth": 2
          },
          "yaxis": {
           "automargin": true,
           "gridcolor": "white",
           "linecolor": "white",
           "ticks": "",
           "title": {
            "standoff": 15
           },
           "zerolinecolor": "white",
           "zerolinewidth": 2
          }
         }
        },
        "title": {
         "text": "R_2 of Regression Models"
        },
        "xaxis": {
         "anchor": "y",
         "domain": [
          0,
          1
         ],
         "title": {
          "text": "x"
         }
        },
        "yaxis": {
         "anchor": "x",
         "domain": [
          0,
          1
         ],
         "title": {
          "text": "y"
         }
        }
       }
      }
     },
     "metadata": {},
     "output_type": "display_data"
    },
    {
     "name": "stdout",
     "output_type": "stream",
     "text": [
      "FINDING BEST FIT MODEL FOR EVALUATION BASED ON R_2 SCORE\n",
      "\n",
      "ExtraTreeRegressor 0.897196805451673\n",
      "DecisionTreeRegressor 0.8214178568719535\n",
      "XGBRegressor 0.8190794240015811\n",
      "\n",
      "Model: ExtraTreeRegressor contain Maximum R2_Score: 0.897196805451673 \n"
     ]
    }
   ],
   "source": [
    "models = ['ExtraTreeRegressor', 'DecisionTreeRegressor', 'XGBRegressor']\n",
    "score = [et_r2, dt_r2, xgb_r2]\n",
    "\n",
    "fig=px.bar(x=models, y=score,title='R_2 of Regression Models')\n",
    "fig.show()\n",
    "\n",
    "print(\"FINDING BEST FIT MODEL FOR EVALUATION BASED ON R_2 SCORE\\n\")\n",
    "max_score = max(score)  # Initialize max_score with the maximum value in the score list\n",
    "max_model = \"\"\n",
    "\n",
    "for model, score_value in zip(models, score):\n",
    "    print(model, score_value)\n",
    "    if score_value == max_score:\n",
    "        max_model = model\n",
    "\n",
    "print(f\"\\nModel: {max_model} contain Maximum R2_Score: {max_score} \")"
   ]
  },
  {
   "cell_type": "code",
   "execution_count": 77,
   "metadata": {},
   "outputs": [],
   "source": [
    "model=et_model.fit(X_train, y_train)"
   ]
  },
  {
   "cell_type": "code",
   "execution_count": 78,
   "metadata": {},
   "outputs": [
    {
     "name": "stdout",
     "output_type": "stream",
     "text": [
      "Pickle file created: ExtraTreeRegressor.pkl\n"
     ]
    }
   ],
   "source": [
    "import pickle\n",
    "\n",
    "file_path7='ExtraTreeRegressor.pkl'\n",
    "with open(file_path7, 'wb') as file:\n",
    "    pickle.dump(model, file)\n",
    "print(f'Pickle file created: {file_path7}')"
   ]
  },
  {
   "cell_type": "code",
   "execution_count": 79,
   "metadata": {},
   "outputs": [
    {
     "data": {
      "text/html": [
       "<style>#sk-container-id-1 {\n",
       "  /* Definition of color scheme common for light and dark mode */\n",
       "  --sklearn-color-text: black;\n",
       "  --sklearn-color-line: gray;\n",
       "  /* Definition of color scheme for unfitted estimators */\n",
       "  --sklearn-color-unfitted-level-0: #fff5e6;\n",
       "  --sklearn-color-unfitted-level-1: #f6e4d2;\n",
       "  --sklearn-color-unfitted-level-2: #ffe0b3;\n",
       "  --sklearn-color-unfitted-level-3: chocolate;\n",
       "  /* Definition of color scheme for fitted estimators */\n",
       "  --sklearn-color-fitted-level-0: #f0f8ff;\n",
       "  --sklearn-color-fitted-level-1: #d4ebff;\n",
       "  --sklearn-color-fitted-level-2: #b3dbfd;\n",
       "  --sklearn-color-fitted-level-3: cornflowerblue;\n",
       "\n",
       "  /* Specific color for light theme */\n",
       "  --sklearn-color-text-on-default-background: var(--sg-text-color, var(--theme-code-foreground, var(--jp-content-font-color1, black)));\n",
       "  --sklearn-color-background: var(--sg-background-color, var(--theme-background, var(--jp-layout-color0, white)));\n",
       "  --sklearn-color-border-box: var(--sg-text-color, var(--theme-code-foreground, var(--jp-content-font-color1, black)));\n",
       "  --sklearn-color-icon: #696969;\n",
       "\n",
       "  @media (prefers-color-scheme: dark) {\n",
       "    /* Redefinition of color scheme for dark theme */\n",
       "    --sklearn-color-text-on-default-background: var(--sg-text-color, var(--theme-code-foreground, var(--jp-content-font-color1, white)));\n",
       "    --sklearn-color-background: var(--sg-background-color, var(--theme-background, var(--jp-layout-color0, #111)));\n",
       "    --sklearn-color-border-box: var(--sg-text-color, var(--theme-code-foreground, var(--jp-content-font-color1, white)));\n",
       "    --sklearn-color-icon: #878787;\n",
       "  }\n",
       "}\n",
       "\n",
       "#sk-container-id-1 {\n",
       "  color: var(--sklearn-color-text);\n",
       "}\n",
       "\n",
       "#sk-container-id-1 pre {\n",
       "  padding: 0;\n",
       "}\n",
       "\n",
       "#sk-container-id-1 input.sk-hidden--visually {\n",
       "  border: 0;\n",
       "  clip: rect(1px 1px 1px 1px);\n",
       "  clip: rect(1px, 1px, 1px, 1px);\n",
       "  height: 1px;\n",
       "  margin: -1px;\n",
       "  overflow: hidden;\n",
       "  padding: 0;\n",
       "  position: absolute;\n",
       "  width: 1px;\n",
       "}\n",
       "\n",
       "#sk-container-id-1 div.sk-dashed-wrapped {\n",
       "  border: 1px dashed var(--sklearn-color-line);\n",
       "  margin: 0 0.4em 0.5em 0.4em;\n",
       "  box-sizing: border-box;\n",
       "  padding-bottom: 0.4em;\n",
       "  background-color: var(--sklearn-color-background);\n",
       "}\n",
       "\n",
       "#sk-container-id-1 div.sk-container {\n",
       "  /* jupyter's `normalize.less` sets `[hidden] { display: none; }`\n",
       "     but bootstrap.min.css set `[hidden] { display: none !important; }`\n",
       "     so we also need the `!important` here to be able to override the\n",
       "     default hidden behavior on the sphinx rendered scikit-learn.org.\n",
       "     See: https://github.com/scikit-learn/scikit-learn/issues/21755 */\n",
       "  display: inline-block !important;\n",
       "  position: relative;\n",
       "}\n",
       "\n",
       "#sk-container-id-1 div.sk-text-repr-fallback {\n",
       "  display: none;\n",
       "}\n",
       "\n",
       "div.sk-parallel-item,\n",
       "div.sk-serial,\n",
       "div.sk-item {\n",
       "  /* draw centered vertical line to link estimators */\n",
       "  background-image: linear-gradient(var(--sklearn-color-text-on-default-background), var(--sklearn-color-text-on-default-background));\n",
       "  background-size: 2px 100%;\n",
       "  background-repeat: no-repeat;\n",
       "  background-position: center center;\n",
       "}\n",
       "\n",
       "/* Parallel-specific style estimator block */\n",
       "\n",
       "#sk-container-id-1 div.sk-parallel-item::after {\n",
       "  content: \"\";\n",
       "  width: 100%;\n",
       "  border-bottom: 2px solid var(--sklearn-color-text-on-default-background);\n",
       "  flex-grow: 1;\n",
       "}\n",
       "\n",
       "#sk-container-id-1 div.sk-parallel {\n",
       "  display: flex;\n",
       "  align-items: stretch;\n",
       "  justify-content: center;\n",
       "  background-color: var(--sklearn-color-background);\n",
       "  position: relative;\n",
       "}\n",
       "\n",
       "#sk-container-id-1 div.sk-parallel-item {\n",
       "  display: flex;\n",
       "  flex-direction: column;\n",
       "}\n",
       "\n",
       "#sk-container-id-1 div.sk-parallel-item:first-child::after {\n",
       "  align-self: flex-end;\n",
       "  width: 50%;\n",
       "}\n",
       "\n",
       "#sk-container-id-1 div.sk-parallel-item:last-child::after {\n",
       "  align-self: flex-start;\n",
       "  width: 50%;\n",
       "}\n",
       "\n",
       "#sk-container-id-1 div.sk-parallel-item:only-child::after {\n",
       "  width: 0;\n",
       "}\n",
       "\n",
       "/* Serial-specific style estimator block */\n",
       "\n",
       "#sk-container-id-1 div.sk-serial {\n",
       "  display: flex;\n",
       "  flex-direction: column;\n",
       "  align-items: center;\n",
       "  background-color: var(--sklearn-color-background);\n",
       "  padding-right: 1em;\n",
       "  padding-left: 1em;\n",
       "}\n",
       "\n",
       "\n",
       "/* Toggleable style: style used for estimator/Pipeline/ColumnTransformer box that is\n",
       "clickable and can be expanded/collapsed.\n",
       "- Pipeline and ColumnTransformer use this feature and define the default style\n",
       "- Estimators will overwrite some part of the style using the `sk-estimator` class\n",
       "*/\n",
       "\n",
       "/* Pipeline and ColumnTransformer style (default) */\n",
       "\n",
       "#sk-container-id-1 div.sk-toggleable {\n",
       "  /* Default theme specific background. It is overwritten whether we have a\n",
       "  specific estimator or a Pipeline/ColumnTransformer */\n",
       "  background-color: var(--sklearn-color-background);\n",
       "}\n",
       "\n",
       "/* Toggleable label */\n",
       "#sk-container-id-1 label.sk-toggleable__label {\n",
       "  cursor: pointer;\n",
       "  display: block;\n",
       "  width: 100%;\n",
       "  margin-bottom: 0;\n",
       "  padding: 0.5em;\n",
       "  box-sizing: border-box;\n",
       "  text-align: center;\n",
       "}\n",
       "\n",
       "#sk-container-id-1 label.sk-toggleable__label-arrow:before {\n",
       "  /* Arrow on the left of the label */\n",
       "  content: \"▸\";\n",
       "  float: left;\n",
       "  margin-right: 0.25em;\n",
       "  color: var(--sklearn-color-icon);\n",
       "}\n",
       "\n",
       "#sk-container-id-1 label.sk-toggleable__label-arrow:hover:before {\n",
       "  color: var(--sklearn-color-text);\n",
       "}\n",
       "\n",
       "/* Toggleable content - dropdown */\n",
       "\n",
       "#sk-container-id-1 div.sk-toggleable__content {\n",
       "  max-height: 0;\n",
       "  max-width: 0;\n",
       "  overflow: hidden;\n",
       "  text-align: left;\n",
       "  /* unfitted */\n",
       "  background-color: var(--sklearn-color-unfitted-level-0);\n",
       "}\n",
       "\n",
       "#sk-container-id-1 div.sk-toggleable__content.fitted {\n",
       "  /* fitted */\n",
       "  background-color: var(--sklearn-color-fitted-level-0);\n",
       "}\n",
       "\n",
       "#sk-container-id-1 div.sk-toggleable__content pre {\n",
       "  margin: 0.2em;\n",
       "  border-radius: 0.25em;\n",
       "  color: var(--sklearn-color-text);\n",
       "  /* unfitted */\n",
       "  background-color: var(--sklearn-color-unfitted-level-0);\n",
       "}\n",
       "\n",
       "#sk-container-id-1 div.sk-toggleable__content.fitted pre {\n",
       "  /* unfitted */\n",
       "  background-color: var(--sklearn-color-fitted-level-0);\n",
       "}\n",
       "\n",
       "#sk-container-id-1 input.sk-toggleable__control:checked~div.sk-toggleable__content {\n",
       "  /* Expand drop-down */\n",
       "  max-height: 200px;\n",
       "  max-width: 100%;\n",
       "  overflow: auto;\n",
       "}\n",
       "\n",
       "#sk-container-id-1 input.sk-toggleable__control:checked~label.sk-toggleable__label-arrow:before {\n",
       "  content: \"▾\";\n",
       "}\n",
       "\n",
       "/* Pipeline/ColumnTransformer-specific style */\n",
       "\n",
       "#sk-container-id-1 div.sk-label input.sk-toggleable__control:checked~label.sk-toggleable__label {\n",
       "  color: var(--sklearn-color-text);\n",
       "  background-color: var(--sklearn-color-unfitted-level-2);\n",
       "}\n",
       "\n",
       "#sk-container-id-1 div.sk-label.fitted input.sk-toggleable__control:checked~label.sk-toggleable__label {\n",
       "  background-color: var(--sklearn-color-fitted-level-2);\n",
       "}\n",
       "\n",
       "/* Estimator-specific style */\n",
       "\n",
       "/* Colorize estimator box */\n",
       "#sk-container-id-1 div.sk-estimator input.sk-toggleable__control:checked~label.sk-toggleable__label {\n",
       "  /* unfitted */\n",
       "  background-color: var(--sklearn-color-unfitted-level-2);\n",
       "}\n",
       "\n",
       "#sk-container-id-1 div.sk-estimator.fitted input.sk-toggleable__control:checked~label.sk-toggleable__label {\n",
       "  /* fitted */\n",
       "  background-color: var(--sklearn-color-fitted-level-2);\n",
       "}\n",
       "\n",
       "#sk-container-id-1 div.sk-label label.sk-toggleable__label,\n",
       "#sk-container-id-1 div.sk-label label {\n",
       "  /* The background is the default theme color */\n",
       "  color: var(--sklearn-color-text-on-default-background);\n",
       "}\n",
       "\n",
       "/* On hover, darken the color of the background */\n",
       "#sk-container-id-1 div.sk-label:hover label.sk-toggleable__label {\n",
       "  color: var(--sklearn-color-text);\n",
       "  background-color: var(--sklearn-color-unfitted-level-2);\n",
       "}\n",
       "\n",
       "/* Label box, darken color on hover, fitted */\n",
       "#sk-container-id-1 div.sk-label.fitted:hover label.sk-toggleable__label.fitted {\n",
       "  color: var(--sklearn-color-text);\n",
       "  background-color: var(--sklearn-color-fitted-level-2);\n",
       "}\n",
       "\n",
       "/* Estimator label */\n",
       "\n",
       "#sk-container-id-1 div.sk-label label {\n",
       "  font-family: monospace;\n",
       "  font-weight: bold;\n",
       "  display: inline-block;\n",
       "  line-height: 1.2em;\n",
       "}\n",
       "\n",
       "#sk-container-id-1 div.sk-label-container {\n",
       "  text-align: center;\n",
       "}\n",
       "\n",
       "/* Estimator-specific */\n",
       "#sk-container-id-1 div.sk-estimator {\n",
       "  font-family: monospace;\n",
       "  border: 1px dotted var(--sklearn-color-border-box);\n",
       "  border-radius: 0.25em;\n",
       "  box-sizing: border-box;\n",
       "  margin-bottom: 0.5em;\n",
       "  /* unfitted */\n",
       "  background-color: var(--sklearn-color-unfitted-level-0);\n",
       "}\n",
       "\n",
       "#sk-container-id-1 div.sk-estimator.fitted {\n",
       "  /* fitted */\n",
       "  background-color: var(--sklearn-color-fitted-level-0);\n",
       "}\n",
       "\n",
       "/* on hover */\n",
       "#sk-container-id-1 div.sk-estimator:hover {\n",
       "  /* unfitted */\n",
       "  background-color: var(--sklearn-color-unfitted-level-2);\n",
       "}\n",
       "\n",
       "#sk-container-id-1 div.sk-estimator.fitted:hover {\n",
       "  /* fitted */\n",
       "  background-color: var(--sklearn-color-fitted-level-2);\n",
       "}\n",
       "\n",
       "/* Specification for estimator info (e.g. \"i\" and \"?\") */\n",
       "\n",
       "/* Common style for \"i\" and \"?\" */\n",
       "\n",
       ".sk-estimator-doc-link,\n",
       "a:link.sk-estimator-doc-link,\n",
       "a:visited.sk-estimator-doc-link {\n",
       "  float: right;\n",
       "  font-size: smaller;\n",
       "  line-height: 1em;\n",
       "  font-family: monospace;\n",
       "  background-color: var(--sklearn-color-background);\n",
       "  border-radius: 1em;\n",
       "  height: 1em;\n",
       "  width: 1em;\n",
       "  text-decoration: none !important;\n",
       "  margin-left: 1ex;\n",
       "  /* unfitted */\n",
       "  border: var(--sklearn-color-unfitted-level-1) 1pt solid;\n",
       "  color: var(--sklearn-color-unfitted-level-1);\n",
       "}\n",
       "\n",
       ".sk-estimator-doc-link.fitted,\n",
       "a:link.sk-estimator-doc-link.fitted,\n",
       "a:visited.sk-estimator-doc-link.fitted {\n",
       "  /* fitted */\n",
       "  border: var(--sklearn-color-fitted-level-1) 1pt solid;\n",
       "  color: var(--sklearn-color-fitted-level-1);\n",
       "}\n",
       "\n",
       "/* On hover */\n",
       "div.sk-estimator:hover .sk-estimator-doc-link:hover,\n",
       ".sk-estimator-doc-link:hover,\n",
       "div.sk-label-container:hover .sk-estimator-doc-link:hover,\n",
       ".sk-estimator-doc-link:hover {\n",
       "  /* unfitted */\n",
       "  background-color: var(--sklearn-color-unfitted-level-3);\n",
       "  color: var(--sklearn-color-background);\n",
       "  text-decoration: none;\n",
       "}\n",
       "\n",
       "div.sk-estimator.fitted:hover .sk-estimator-doc-link.fitted:hover,\n",
       ".sk-estimator-doc-link.fitted:hover,\n",
       "div.sk-label-container:hover .sk-estimator-doc-link.fitted:hover,\n",
       ".sk-estimator-doc-link.fitted:hover {\n",
       "  /* fitted */\n",
       "  background-color: var(--sklearn-color-fitted-level-3);\n",
       "  color: var(--sklearn-color-background);\n",
       "  text-decoration: none;\n",
       "}\n",
       "\n",
       "/* Span, style for the box shown on hovering the info icon */\n",
       ".sk-estimator-doc-link span {\n",
       "  display: none;\n",
       "  z-index: 9999;\n",
       "  position: relative;\n",
       "  font-weight: normal;\n",
       "  right: .2ex;\n",
       "  padding: .5ex;\n",
       "  margin: .5ex;\n",
       "  width: min-content;\n",
       "  min-width: 20ex;\n",
       "  max-width: 50ex;\n",
       "  color: var(--sklearn-color-text);\n",
       "  box-shadow: 2pt 2pt 4pt #999;\n",
       "  /* unfitted */\n",
       "  background: var(--sklearn-color-unfitted-level-0);\n",
       "  border: .5pt solid var(--sklearn-color-unfitted-level-3);\n",
       "}\n",
       "\n",
       ".sk-estimator-doc-link.fitted span {\n",
       "  /* fitted */\n",
       "  background: var(--sklearn-color-fitted-level-0);\n",
       "  border: var(--sklearn-color-fitted-level-3);\n",
       "}\n",
       "\n",
       ".sk-estimator-doc-link:hover span {\n",
       "  display: block;\n",
       "}\n",
       "\n",
       "/* \"?\"-specific style due to the `<a>` HTML tag */\n",
       "\n",
       "#sk-container-id-1 a.estimator_doc_link {\n",
       "  float: right;\n",
       "  font-size: 1rem;\n",
       "  line-height: 1em;\n",
       "  font-family: monospace;\n",
       "  background-color: var(--sklearn-color-background);\n",
       "  border-radius: 1rem;\n",
       "  height: 1rem;\n",
       "  width: 1rem;\n",
       "  text-decoration: none;\n",
       "  /* unfitted */\n",
       "  color: var(--sklearn-color-unfitted-level-1);\n",
       "  border: var(--sklearn-color-unfitted-level-1) 1pt solid;\n",
       "}\n",
       "\n",
       "#sk-container-id-1 a.estimator_doc_link.fitted {\n",
       "  /* fitted */\n",
       "  border: var(--sklearn-color-fitted-level-1) 1pt solid;\n",
       "  color: var(--sklearn-color-fitted-level-1);\n",
       "}\n",
       "\n",
       "/* On hover */\n",
       "#sk-container-id-1 a.estimator_doc_link:hover {\n",
       "  /* unfitted */\n",
       "  background-color: var(--sklearn-color-unfitted-level-3);\n",
       "  color: var(--sklearn-color-background);\n",
       "  text-decoration: none;\n",
       "}\n",
       "\n",
       "#sk-container-id-1 a.estimator_doc_link.fitted:hover {\n",
       "  /* fitted */\n",
       "  background-color: var(--sklearn-color-fitted-level-3);\n",
       "}\n",
       "</style><div id=\"sk-container-id-1\" class=\"sk-top-container\"><div class=\"sk-text-repr-fallback\"><pre>ExtraTreesRegressor()</pre><b>In a Jupyter environment, please rerun this cell to show the HTML representation or trust the notebook. <br />On GitHub, the HTML representation is unable to render, please try loading this page with nbviewer.org.</b></div><div class=\"sk-container\" hidden><div class=\"sk-item\"><div class=\"sk-estimator fitted sk-toggleable\"><input class=\"sk-toggleable__control sk-hidden--visually\" id=\"sk-estimator-id-1\" type=\"checkbox\" checked><label for=\"sk-estimator-id-1\" class=\"sk-toggleable__label fitted sk-toggleable__label-arrow fitted\">&nbsp;&nbsp;ExtraTreesRegressor<a class=\"sk-estimator-doc-link fitted\" rel=\"noreferrer\" target=\"_blank\" href=\"https://scikit-learn.org/1.5/modules/generated/sklearn.ensemble.ExtraTreesRegressor.html\">?<span>Documentation for ExtraTreesRegressor</span></a><span class=\"sk-estimator-doc-link fitted\">i<span>Fitted</span></span></label><div class=\"sk-toggleable__content fitted\"><pre>ExtraTreesRegressor()</pre></div> </div></div></div></div>"
      ],
      "text/plain": [
       "ExtraTreesRegressor()"
      ]
     },
     "execution_count": 79,
     "metadata": {},
     "output_type": "execute_result"
    }
   ],
   "source": [
    "with open('ExtraTreeRegressor.pkl', 'rb') as file:\n",
    "    encode_status = pickle.load(file)\n",
    "\n",
    "encode_status"
   ]
  },
  {
   "cell_type": "markdown",
   "metadata": {},
   "source": [
    "CLASSIFICATION MODEL FOR PREDICT THE STATUS WON/LOST\n"
   ]
  },
  {
   "cell_type": "code",
   "execution_count": 80,
   "metadata": {},
   "outputs": [],
   "source": [
    "X = model_data[[ 'quantity tons','thickness','width','selling_price','country','item type','application','product_ref','delivery_time_taken']].values\n",
    "y = model_data[['status']].values\n",
    "\n",
    "scaler_classify = StandardScaler().fit(X)\n",
    "X = scaler_classify.transform(X)\n",
    "\n",
    "# Split the dataset into training and testing sets\n",
    "X_train, X_test, y_train, y_test = train_test_split(X, y, test_size=0.3, random_state=20)"
   ]
  },
  {
   "cell_type": "code",
   "execution_count": 81,
   "metadata": {},
   "outputs": [
    {
     "name": "stdout",
     "output_type": "stream",
     "text": [
      "Pickle file created: scaling_classify.pkl\n"
     ]
    }
   ],
   "source": [
    "import pickle\n",
    "\n",
    "file_path8='scaling_classify.pkl'\n",
    "with open(file_path8, 'wb') as file:\n",
    "    pickle.dump(scaler_classify, file)\n",
    "print(f'Pickle file created: {file_path8}')"
   ]
  },
  {
   "cell_type": "code",
   "execution_count": 82,
   "metadata": {},
   "outputs": [],
   "source": [
    "# Create an instance of each regression model\n",
    "rf_model = RandomForestClassifier()                # Random Forest Classifier\n",
    "xgb_cls_model = xgb.XGBClassifier()                # Extreme Gradient Classifier\n",
    "dtc_model=DecisionTreeClassifier()                 # Decision Tree Classifier\n",
    "\n",
    "# Train the models\n",
    "rf_model.fit(X_train, y_train)\n",
    "xgb_cls_model.fit(X_train, y_train)\n",
    "dtc_model.fit(X_train,y_train)\n",
    "\n",
    "# Make predictions on the test set\n",
    "rf_preds = rf_model.predict(X_test)\n",
    "xgb_cls_preds = xgb_cls_model.predict(X_test)\n",
    "dtc_preds = dtc_model.predict(X_test)\n",
    "\n",
    "# Evaluate the models\n",
    "rf_accuracy = accuracy_score(y_test, rf_preds)\n",
    "xgb_cls_accuracy = accuracy_score(y_test, xgb_cls_preds)\n",
    "dtc_accuracy = accuracy_score(y_test, dtc_preds)"
   ]
  },
  {
   "cell_type": "code",
   "execution_count": 83,
   "metadata": {},
   "outputs": [
    {
     "name": "stdout",
     "output_type": "stream",
     "text": [
      "Random Forest Classifier Accuracy : 0.9155580836345621\n",
      "XGB Classifier Accuracy           : 0.835006146901778\n",
      "Decision Tree Classifier Accuracy : 0.8809886419934311\n"
     ]
    }
   ],
   "source": [
    "print(f\"Random Forest Classifier Accuracy : {rf_accuracy}\")\n",
    "print(f\"XGB Classifier Accuracy           : {xgb_cls_accuracy}\")\n",
    "print(f\"Decision Tree Classifier Accuracy : {dtc_accuracy}\")"
   ]
  },
  {
   "cell_type": "code",
   "execution_count": 84,
   "metadata": {},
   "outputs": [
    {
     "data": {
      "application/vnd.plotly.v1+json": {
       "config": {
        "plotlyServerURL": "https://plot.ly"
       },
       "data": [
        {
         "alignmentgroup": "True",
         "hovertemplate": "x=%{x}<br>y=%{y}<extra></extra>",
         "legendgroup": "",
         "marker": {
          "color": "#636efa",
          "pattern": {
           "shape": ""
          }
         },
         "name": "",
         "offsetgroup": "",
         "orientation": "v",
         "showlegend": false,
         "textposition": "auto",
         "type": "bar",
         "x": [
          "RandomForestClassifier",
          "XGBClassifier",
          "DecisionTreeClassifier"
         ],
         "xaxis": "x",
         "y": [
          0.9155580836345621,
          0.835006146901778,
          0.8809886419934311
         ],
         "yaxis": "y"
        }
       ],
       "layout": {
        "barmode": "relative",
        "legend": {
         "tracegroupgap": 0
        },
        "template": {
         "data": {
          "bar": [
           {
            "error_x": {
             "color": "#2a3f5f"
            },
            "error_y": {
             "color": "#2a3f5f"
            },
            "marker": {
             "line": {
              "color": "#E5ECF6",
              "width": 0.5
             },
             "pattern": {
              "fillmode": "overlay",
              "size": 10,
              "solidity": 0.2
             }
            },
            "type": "bar"
           }
          ],
          "barpolar": [
           {
            "marker": {
             "line": {
              "color": "#E5ECF6",
              "width": 0.5
             },
             "pattern": {
              "fillmode": "overlay",
              "size": 10,
              "solidity": 0.2
             }
            },
            "type": "barpolar"
           }
          ],
          "carpet": [
           {
            "aaxis": {
             "endlinecolor": "#2a3f5f",
             "gridcolor": "white",
             "linecolor": "white",
             "minorgridcolor": "white",
             "startlinecolor": "#2a3f5f"
            },
            "baxis": {
             "endlinecolor": "#2a3f5f",
             "gridcolor": "white",
             "linecolor": "white",
             "minorgridcolor": "white",
             "startlinecolor": "#2a3f5f"
            },
            "type": "carpet"
           }
          ],
          "choropleth": [
           {
            "colorbar": {
             "outlinewidth": 0,
             "ticks": ""
            },
            "type": "choropleth"
           }
          ],
          "contour": [
           {
            "colorbar": {
             "outlinewidth": 0,
             "ticks": ""
            },
            "colorscale": [
             [
              0,
              "#0d0887"
             ],
             [
              0.1111111111111111,
              "#46039f"
             ],
             [
              0.2222222222222222,
              "#7201a8"
             ],
             [
              0.3333333333333333,
              "#9c179e"
             ],
             [
              0.4444444444444444,
              "#bd3786"
             ],
             [
              0.5555555555555556,
              "#d8576b"
             ],
             [
              0.6666666666666666,
              "#ed7953"
             ],
             [
              0.7777777777777778,
              "#fb9f3a"
             ],
             [
              0.8888888888888888,
              "#fdca26"
             ],
             [
              1,
              "#f0f921"
             ]
            ],
            "type": "contour"
           }
          ],
          "contourcarpet": [
           {
            "colorbar": {
             "outlinewidth": 0,
             "ticks": ""
            },
            "type": "contourcarpet"
           }
          ],
          "heatmap": [
           {
            "colorbar": {
             "outlinewidth": 0,
             "ticks": ""
            },
            "colorscale": [
             [
              0,
              "#0d0887"
             ],
             [
              0.1111111111111111,
              "#46039f"
             ],
             [
              0.2222222222222222,
              "#7201a8"
             ],
             [
              0.3333333333333333,
              "#9c179e"
             ],
             [
              0.4444444444444444,
              "#bd3786"
             ],
             [
              0.5555555555555556,
              "#d8576b"
             ],
             [
              0.6666666666666666,
              "#ed7953"
             ],
             [
              0.7777777777777778,
              "#fb9f3a"
             ],
             [
              0.8888888888888888,
              "#fdca26"
             ],
             [
              1,
              "#f0f921"
             ]
            ],
            "type": "heatmap"
           }
          ],
          "heatmapgl": [
           {
            "colorbar": {
             "outlinewidth": 0,
             "ticks": ""
            },
            "colorscale": [
             [
              0,
              "#0d0887"
             ],
             [
              0.1111111111111111,
              "#46039f"
             ],
             [
              0.2222222222222222,
              "#7201a8"
             ],
             [
              0.3333333333333333,
              "#9c179e"
             ],
             [
              0.4444444444444444,
              "#bd3786"
             ],
             [
              0.5555555555555556,
              "#d8576b"
             ],
             [
              0.6666666666666666,
              "#ed7953"
             ],
             [
              0.7777777777777778,
              "#fb9f3a"
             ],
             [
              0.8888888888888888,
              "#fdca26"
             ],
             [
              1,
              "#f0f921"
             ]
            ],
            "type": "heatmapgl"
           }
          ],
          "histogram": [
           {
            "marker": {
             "pattern": {
              "fillmode": "overlay",
              "size": 10,
              "solidity": 0.2
             }
            },
            "type": "histogram"
           }
          ],
          "histogram2d": [
           {
            "colorbar": {
             "outlinewidth": 0,
             "ticks": ""
            },
            "colorscale": [
             [
              0,
              "#0d0887"
             ],
             [
              0.1111111111111111,
              "#46039f"
             ],
             [
              0.2222222222222222,
              "#7201a8"
             ],
             [
              0.3333333333333333,
              "#9c179e"
             ],
             [
              0.4444444444444444,
              "#bd3786"
             ],
             [
              0.5555555555555556,
              "#d8576b"
             ],
             [
              0.6666666666666666,
              "#ed7953"
             ],
             [
              0.7777777777777778,
              "#fb9f3a"
             ],
             [
              0.8888888888888888,
              "#fdca26"
             ],
             [
              1,
              "#f0f921"
             ]
            ],
            "type": "histogram2d"
           }
          ],
          "histogram2dcontour": [
           {
            "colorbar": {
             "outlinewidth": 0,
             "ticks": ""
            },
            "colorscale": [
             [
              0,
              "#0d0887"
             ],
             [
              0.1111111111111111,
              "#46039f"
             ],
             [
              0.2222222222222222,
              "#7201a8"
             ],
             [
              0.3333333333333333,
              "#9c179e"
             ],
             [
              0.4444444444444444,
              "#bd3786"
             ],
             [
              0.5555555555555556,
              "#d8576b"
             ],
             [
              0.6666666666666666,
              "#ed7953"
             ],
             [
              0.7777777777777778,
              "#fb9f3a"
             ],
             [
              0.8888888888888888,
              "#fdca26"
             ],
             [
              1,
              "#f0f921"
             ]
            ],
            "type": "histogram2dcontour"
           }
          ],
          "mesh3d": [
           {
            "colorbar": {
             "outlinewidth": 0,
             "ticks": ""
            },
            "type": "mesh3d"
           }
          ],
          "parcoords": [
           {
            "line": {
             "colorbar": {
              "outlinewidth": 0,
              "ticks": ""
             }
            },
            "type": "parcoords"
           }
          ],
          "pie": [
           {
            "automargin": true,
            "type": "pie"
           }
          ],
          "scatter": [
           {
            "fillpattern": {
             "fillmode": "overlay",
             "size": 10,
             "solidity": 0.2
            },
            "type": "scatter"
           }
          ],
          "scatter3d": [
           {
            "line": {
             "colorbar": {
              "outlinewidth": 0,
              "ticks": ""
             }
            },
            "marker": {
             "colorbar": {
              "outlinewidth": 0,
              "ticks": ""
             }
            },
            "type": "scatter3d"
           }
          ],
          "scattercarpet": [
           {
            "marker": {
             "colorbar": {
              "outlinewidth": 0,
              "ticks": ""
             }
            },
            "type": "scattercarpet"
           }
          ],
          "scattergeo": [
           {
            "marker": {
             "colorbar": {
              "outlinewidth": 0,
              "ticks": ""
             }
            },
            "type": "scattergeo"
           }
          ],
          "scattergl": [
           {
            "marker": {
             "colorbar": {
              "outlinewidth": 0,
              "ticks": ""
             }
            },
            "type": "scattergl"
           }
          ],
          "scattermapbox": [
           {
            "marker": {
             "colorbar": {
              "outlinewidth": 0,
              "ticks": ""
             }
            },
            "type": "scattermapbox"
           }
          ],
          "scatterpolar": [
           {
            "marker": {
             "colorbar": {
              "outlinewidth": 0,
              "ticks": ""
             }
            },
            "type": "scatterpolar"
           }
          ],
          "scatterpolargl": [
           {
            "marker": {
             "colorbar": {
              "outlinewidth": 0,
              "ticks": ""
             }
            },
            "type": "scatterpolargl"
           }
          ],
          "scatterternary": [
           {
            "marker": {
             "colorbar": {
              "outlinewidth": 0,
              "ticks": ""
             }
            },
            "type": "scatterternary"
           }
          ],
          "surface": [
           {
            "colorbar": {
             "outlinewidth": 0,
             "ticks": ""
            },
            "colorscale": [
             [
              0,
              "#0d0887"
             ],
             [
              0.1111111111111111,
              "#46039f"
             ],
             [
              0.2222222222222222,
              "#7201a8"
             ],
             [
              0.3333333333333333,
              "#9c179e"
             ],
             [
              0.4444444444444444,
              "#bd3786"
             ],
             [
              0.5555555555555556,
              "#d8576b"
             ],
             [
              0.6666666666666666,
              "#ed7953"
             ],
             [
              0.7777777777777778,
              "#fb9f3a"
             ],
             [
              0.8888888888888888,
              "#fdca26"
             ],
             [
              1,
              "#f0f921"
             ]
            ],
            "type": "surface"
           }
          ],
          "table": [
           {
            "cells": {
             "fill": {
              "color": "#EBF0F8"
             },
             "line": {
              "color": "white"
             }
            },
            "header": {
             "fill": {
              "color": "#C8D4E3"
             },
             "line": {
              "color": "white"
             }
            },
            "type": "table"
           }
          ]
         },
         "layout": {
          "annotationdefaults": {
           "arrowcolor": "#2a3f5f",
           "arrowhead": 0,
           "arrowwidth": 1
          },
          "autotypenumbers": "strict",
          "coloraxis": {
           "colorbar": {
            "outlinewidth": 0,
            "ticks": ""
           }
          },
          "colorscale": {
           "diverging": [
            [
             0,
             "#8e0152"
            ],
            [
             0.1,
             "#c51b7d"
            ],
            [
             0.2,
             "#de77ae"
            ],
            [
             0.3,
             "#f1b6da"
            ],
            [
             0.4,
             "#fde0ef"
            ],
            [
             0.5,
             "#f7f7f7"
            ],
            [
             0.6,
             "#e6f5d0"
            ],
            [
             0.7,
             "#b8e186"
            ],
            [
             0.8,
             "#7fbc41"
            ],
            [
             0.9,
             "#4d9221"
            ],
            [
             1,
             "#276419"
            ]
           ],
           "sequential": [
            [
             0,
             "#0d0887"
            ],
            [
             0.1111111111111111,
             "#46039f"
            ],
            [
             0.2222222222222222,
             "#7201a8"
            ],
            [
             0.3333333333333333,
             "#9c179e"
            ],
            [
             0.4444444444444444,
             "#bd3786"
            ],
            [
             0.5555555555555556,
             "#d8576b"
            ],
            [
             0.6666666666666666,
             "#ed7953"
            ],
            [
             0.7777777777777778,
             "#fb9f3a"
            ],
            [
             0.8888888888888888,
             "#fdca26"
            ],
            [
             1,
             "#f0f921"
            ]
           ],
           "sequentialminus": [
            [
             0,
             "#0d0887"
            ],
            [
             0.1111111111111111,
             "#46039f"
            ],
            [
             0.2222222222222222,
             "#7201a8"
            ],
            [
             0.3333333333333333,
             "#9c179e"
            ],
            [
             0.4444444444444444,
             "#bd3786"
            ],
            [
             0.5555555555555556,
             "#d8576b"
            ],
            [
             0.6666666666666666,
             "#ed7953"
            ],
            [
             0.7777777777777778,
             "#fb9f3a"
            ],
            [
             0.8888888888888888,
             "#fdca26"
            ],
            [
             1,
             "#f0f921"
            ]
           ]
          },
          "colorway": [
           "#636efa",
           "#EF553B",
           "#00cc96",
           "#ab63fa",
           "#FFA15A",
           "#19d3f3",
           "#FF6692",
           "#B6E880",
           "#FF97FF",
           "#FECB52"
          ],
          "font": {
           "color": "#2a3f5f"
          },
          "geo": {
           "bgcolor": "white",
           "lakecolor": "white",
           "landcolor": "#E5ECF6",
           "showlakes": true,
           "showland": true,
           "subunitcolor": "white"
          },
          "hoverlabel": {
           "align": "left"
          },
          "hovermode": "closest",
          "mapbox": {
           "style": "light"
          },
          "paper_bgcolor": "white",
          "plot_bgcolor": "#E5ECF6",
          "polar": {
           "angularaxis": {
            "gridcolor": "white",
            "linecolor": "white",
            "ticks": ""
           },
           "bgcolor": "#E5ECF6",
           "radialaxis": {
            "gridcolor": "white",
            "linecolor": "white",
            "ticks": ""
           }
          },
          "scene": {
           "xaxis": {
            "backgroundcolor": "#E5ECF6",
            "gridcolor": "white",
            "gridwidth": 2,
            "linecolor": "white",
            "showbackground": true,
            "ticks": "",
            "zerolinecolor": "white"
           },
           "yaxis": {
            "backgroundcolor": "#E5ECF6",
            "gridcolor": "white",
            "gridwidth": 2,
            "linecolor": "white",
            "showbackground": true,
            "ticks": "",
            "zerolinecolor": "white"
           },
           "zaxis": {
            "backgroundcolor": "#E5ECF6",
            "gridcolor": "white",
            "gridwidth": 2,
            "linecolor": "white",
            "showbackground": true,
            "ticks": "",
            "zerolinecolor": "white"
           }
          },
          "shapedefaults": {
           "line": {
            "color": "#2a3f5f"
           }
          },
          "ternary": {
           "aaxis": {
            "gridcolor": "white",
            "linecolor": "white",
            "ticks": ""
           },
           "baxis": {
            "gridcolor": "white",
            "linecolor": "white",
            "ticks": ""
           },
           "bgcolor": "#E5ECF6",
           "caxis": {
            "gridcolor": "white",
            "linecolor": "white",
            "ticks": ""
           }
          },
          "title": {
           "x": 0.05
          },
          "xaxis": {
           "automargin": true,
           "gridcolor": "white",
           "linecolor": "white",
           "ticks": "",
           "title": {
            "standoff": 15
           },
           "zerolinecolor": "white",
           "zerolinewidth": 2
          },
          "yaxis": {
           "automargin": true,
           "gridcolor": "white",
           "linecolor": "white",
           "ticks": "",
           "title": {
            "standoff": 15
           },
           "zerolinecolor": "white",
           "zerolinewidth": 2
          }
         }
        },
        "title": {
         "text": "Accuracy of Classification Models"
        },
        "xaxis": {
         "anchor": "y",
         "domain": [
          0,
          1
         ],
         "title": {
          "text": "x"
         }
        },
        "yaxis": {
         "anchor": "x",
         "domain": [
          0,
          1
         ],
         "title": {
          "text": "y"
         }
        }
       }
      }
     },
     "metadata": {},
     "output_type": "display_data"
    },
    {
     "name": "stdout",
     "output_type": "stream",
     "text": [
      "FINDING BEST FIT MODEL FOR EVALUATION BASED ON  ACCURACY\n",
      "\n",
      "RandomForestClassifier 0.9155580836345621\n",
      "XGBClassifier 0.835006146901778\n",
      "DecisionTreeClassifier 0.8809886419934311\n",
      "\n",
      "Model: RandomForestClassifier contain Maximum accuracy: 0.9155580836345621 \n"
     ]
    }
   ],
   "source": [
    "models = ['RandomForestClassifier', 'XGBClassifier','DecisionTreeClassifier']\n",
    "score = [rf_accuracy, xgb_cls_accuracy,dtc_accuracy]\n",
    "\n",
    "fig=px.bar(x=models, y=score,title='Accuracy of Classification Models')\n",
    "fig.show()\n",
    "\n",
    "print(\"FINDING BEST FIT MODEL FOR EVALUATION BASED ON  ACCURACY\\n\")\n",
    "max_score = max(score)  # Initialize max_score with the maximum value in the score list\n",
    "max_model = \"\"\n",
    "\n",
    "for model, score_value in zip(models, score):\n",
    "    print(model, score_value)\n",
    "    if score_value == max_score:\n",
    "        max_model = model\n",
    "\n",
    "print(f\"\\nModel: {max_model} contain Maximum accuracy: {max_score} \")"
   ]
  },
  {
   "cell_type": "code",
   "execution_count": 85,
   "metadata": {},
   "outputs": [],
   "source": [
    "model_cls=rf_model.fit(X_train, y_train)"
   ]
  },
  {
   "cell_type": "code",
   "execution_count": 86,
   "metadata": {},
   "outputs": [
    {
     "name": "stdout",
     "output_type": "stream",
     "text": [
      "Pickle file created: RandomForestClassification.pkl\n"
     ]
    }
   ],
   "source": [
    "file_path9='RandomForestClassification.pkl'\n",
    "with open(file_path9, 'wb') as file:\n",
    "    pickle.dump(model_cls, file)\n",
    "print(f'Pickle file created: {file_path9}')"
   ]
  },
  {
   "cell_type": "code",
   "execution_count": 87,
   "metadata": {},
   "outputs": [
    {
     "data": {
      "text/html": [
       "<style>#sk-container-id-2 {\n",
       "  /* Definition of color scheme common for light and dark mode */\n",
       "  --sklearn-color-text: black;\n",
       "  --sklearn-color-line: gray;\n",
       "  /* Definition of color scheme for unfitted estimators */\n",
       "  --sklearn-color-unfitted-level-0: #fff5e6;\n",
       "  --sklearn-color-unfitted-level-1: #f6e4d2;\n",
       "  --sklearn-color-unfitted-level-2: #ffe0b3;\n",
       "  --sklearn-color-unfitted-level-3: chocolate;\n",
       "  /* Definition of color scheme for fitted estimators */\n",
       "  --sklearn-color-fitted-level-0: #f0f8ff;\n",
       "  --sklearn-color-fitted-level-1: #d4ebff;\n",
       "  --sklearn-color-fitted-level-2: #b3dbfd;\n",
       "  --sklearn-color-fitted-level-3: cornflowerblue;\n",
       "\n",
       "  /* Specific color for light theme */\n",
       "  --sklearn-color-text-on-default-background: var(--sg-text-color, var(--theme-code-foreground, var(--jp-content-font-color1, black)));\n",
       "  --sklearn-color-background: var(--sg-background-color, var(--theme-background, var(--jp-layout-color0, white)));\n",
       "  --sklearn-color-border-box: var(--sg-text-color, var(--theme-code-foreground, var(--jp-content-font-color1, black)));\n",
       "  --sklearn-color-icon: #696969;\n",
       "\n",
       "  @media (prefers-color-scheme: dark) {\n",
       "    /* Redefinition of color scheme for dark theme */\n",
       "    --sklearn-color-text-on-default-background: var(--sg-text-color, var(--theme-code-foreground, var(--jp-content-font-color1, white)));\n",
       "    --sklearn-color-background: var(--sg-background-color, var(--theme-background, var(--jp-layout-color0, #111)));\n",
       "    --sklearn-color-border-box: var(--sg-text-color, var(--theme-code-foreground, var(--jp-content-font-color1, white)));\n",
       "    --sklearn-color-icon: #878787;\n",
       "  }\n",
       "}\n",
       "\n",
       "#sk-container-id-2 {\n",
       "  color: var(--sklearn-color-text);\n",
       "}\n",
       "\n",
       "#sk-container-id-2 pre {\n",
       "  padding: 0;\n",
       "}\n",
       "\n",
       "#sk-container-id-2 input.sk-hidden--visually {\n",
       "  border: 0;\n",
       "  clip: rect(1px 1px 1px 1px);\n",
       "  clip: rect(1px, 1px, 1px, 1px);\n",
       "  height: 1px;\n",
       "  margin: -1px;\n",
       "  overflow: hidden;\n",
       "  padding: 0;\n",
       "  position: absolute;\n",
       "  width: 1px;\n",
       "}\n",
       "\n",
       "#sk-container-id-2 div.sk-dashed-wrapped {\n",
       "  border: 1px dashed var(--sklearn-color-line);\n",
       "  margin: 0 0.4em 0.5em 0.4em;\n",
       "  box-sizing: border-box;\n",
       "  padding-bottom: 0.4em;\n",
       "  background-color: var(--sklearn-color-background);\n",
       "}\n",
       "\n",
       "#sk-container-id-2 div.sk-container {\n",
       "  /* jupyter's `normalize.less` sets `[hidden] { display: none; }`\n",
       "     but bootstrap.min.css set `[hidden] { display: none !important; }`\n",
       "     so we also need the `!important` here to be able to override the\n",
       "     default hidden behavior on the sphinx rendered scikit-learn.org.\n",
       "     See: https://github.com/scikit-learn/scikit-learn/issues/21755 */\n",
       "  display: inline-block !important;\n",
       "  position: relative;\n",
       "}\n",
       "\n",
       "#sk-container-id-2 div.sk-text-repr-fallback {\n",
       "  display: none;\n",
       "}\n",
       "\n",
       "div.sk-parallel-item,\n",
       "div.sk-serial,\n",
       "div.sk-item {\n",
       "  /* draw centered vertical line to link estimators */\n",
       "  background-image: linear-gradient(var(--sklearn-color-text-on-default-background), var(--sklearn-color-text-on-default-background));\n",
       "  background-size: 2px 100%;\n",
       "  background-repeat: no-repeat;\n",
       "  background-position: center center;\n",
       "}\n",
       "\n",
       "/* Parallel-specific style estimator block */\n",
       "\n",
       "#sk-container-id-2 div.sk-parallel-item::after {\n",
       "  content: \"\";\n",
       "  width: 100%;\n",
       "  border-bottom: 2px solid var(--sklearn-color-text-on-default-background);\n",
       "  flex-grow: 1;\n",
       "}\n",
       "\n",
       "#sk-container-id-2 div.sk-parallel {\n",
       "  display: flex;\n",
       "  align-items: stretch;\n",
       "  justify-content: center;\n",
       "  background-color: var(--sklearn-color-background);\n",
       "  position: relative;\n",
       "}\n",
       "\n",
       "#sk-container-id-2 div.sk-parallel-item {\n",
       "  display: flex;\n",
       "  flex-direction: column;\n",
       "}\n",
       "\n",
       "#sk-container-id-2 div.sk-parallel-item:first-child::after {\n",
       "  align-self: flex-end;\n",
       "  width: 50%;\n",
       "}\n",
       "\n",
       "#sk-container-id-2 div.sk-parallel-item:last-child::after {\n",
       "  align-self: flex-start;\n",
       "  width: 50%;\n",
       "}\n",
       "\n",
       "#sk-container-id-2 div.sk-parallel-item:only-child::after {\n",
       "  width: 0;\n",
       "}\n",
       "\n",
       "/* Serial-specific style estimator block */\n",
       "\n",
       "#sk-container-id-2 div.sk-serial {\n",
       "  display: flex;\n",
       "  flex-direction: column;\n",
       "  align-items: center;\n",
       "  background-color: var(--sklearn-color-background);\n",
       "  padding-right: 1em;\n",
       "  padding-left: 1em;\n",
       "}\n",
       "\n",
       "\n",
       "/* Toggleable style: style used for estimator/Pipeline/ColumnTransformer box that is\n",
       "clickable and can be expanded/collapsed.\n",
       "- Pipeline and ColumnTransformer use this feature and define the default style\n",
       "- Estimators will overwrite some part of the style using the `sk-estimator` class\n",
       "*/\n",
       "\n",
       "/* Pipeline and ColumnTransformer style (default) */\n",
       "\n",
       "#sk-container-id-2 div.sk-toggleable {\n",
       "  /* Default theme specific background. It is overwritten whether we have a\n",
       "  specific estimator or a Pipeline/ColumnTransformer */\n",
       "  background-color: var(--sklearn-color-background);\n",
       "}\n",
       "\n",
       "/* Toggleable label */\n",
       "#sk-container-id-2 label.sk-toggleable__label {\n",
       "  cursor: pointer;\n",
       "  display: block;\n",
       "  width: 100%;\n",
       "  margin-bottom: 0;\n",
       "  padding: 0.5em;\n",
       "  box-sizing: border-box;\n",
       "  text-align: center;\n",
       "}\n",
       "\n",
       "#sk-container-id-2 label.sk-toggleable__label-arrow:before {\n",
       "  /* Arrow on the left of the label */\n",
       "  content: \"▸\";\n",
       "  float: left;\n",
       "  margin-right: 0.25em;\n",
       "  color: var(--sklearn-color-icon);\n",
       "}\n",
       "\n",
       "#sk-container-id-2 label.sk-toggleable__label-arrow:hover:before {\n",
       "  color: var(--sklearn-color-text);\n",
       "}\n",
       "\n",
       "/* Toggleable content - dropdown */\n",
       "\n",
       "#sk-container-id-2 div.sk-toggleable__content {\n",
       "  max-height: 0;\n",
       "  max-width: 0;\n",
       "  overflow: hidden;\n",
       "  text-align: left;\n",
       "  /* unfitted */\n",
       "  background-color: var(--sklearn-color-unfitted-level-0);\n",
       "}\n",
       "\n",
       "#sk-container-id-2 div.sk-toggleable__content.fitted {\n",
       "  /* fitted */\n",
       "  background-color: var(--sklearn-color-fitted-level-0);\n",
       "}\n",
       "\n",
       "#sk-container-id-2 div.sk-toggleable__content pre {\n",
       "  margin: 0.2em;\n",
       "  border-radius: 0.25em;\n",
       "  color: var(--sklearn-color-text);\n",
       "  /* unfitted */\n",
       "  background-color: var(--sklearn-color-unfitted-level-0);\n",
       "}\n",
       "\n",
       "#sk-container-id-2 div.sk-toggleable__content.fitted pre {\n",
       "  /* unfitted */\n",
       "  background-color: var(--sklearn-color-fitted-level-0);\n",
       "}\n",
       "\n",
       "#sk-container-id-2 input.sk-toggleable__control:checked~div.sk-toggleable__content {\n",
       "  /* Expand drop-down */\n",
       "  max-height: 200px;\n",
       "  max-width: 100%;\n",
       "  overflow: auto;\n",
       "}\n",
       "\n",
       "#sk-container-id-2 input.sk-toggleable__control:checked~label.sk-toggleable__label-arrow:before {\n",
       "  content: \"▾\";\n",
       "}\n",
       "\n",
       "/* Pipeline/ColumnTransformer-specific style */\n",
       "\n",
       "#sk-container-id-2 div.sk-label input.sk-toggleable__control:checked~label.sk-toggleable__label {\n",
       "  color: var(--sklearn-color-text);\n",
       "  background-color: var(--sklearn-color-unfitted-level-2);\n",
       "}\n",
       "\n",
       "#sk-container-id-2 div.sk-label.fitted input.sk-toggleable__control:checked~label.sk-toggleable__label {\n",
       "  background-color: var(--sklearn-color-fitted-level-2);\n",
       "}\n",
       "\n",
       "/* Estimator-specific style */\n",
       "\n",
       "/* Colorize estimator box */\n",
       "#sk-container-id-2 div.sk-estimator input.sk-toggleable__control:checked~label.sk-toggleable__label {\n",
       "  /* unfitted */\n",
       "  background-color: var(--sklearn-color-unfitted-level-2);\n",
       "}\n",
       "\n",
       "#sk-container-id-2 div.sk-estimator.fitted input.sk-toggleable__control:checked~label.sk-toggleable__label {\n",
       "  /* fitted */\n",
       "  background-color: var(--sklearn-color-fitted-level-2);\n",
       "}\n",
       "\n",
       "#sk-container-id-2 div.sk-label label.sk-toggleable__label,\n",
       "#sk-container-id-2 div.sk-label label {\n",
       "  /* The background is the default theme color */\n",
       "  color: var(--sklearn-color-text-on-default-background);\n",
       "}\n",
       "\n",
       "/* On hover, darken the color of the background */\n",
       "#sk-container-id-2 div.sk-label:hover label.sk-toggleable__label {\n",
       "  color: var(--sklearn-color-text);\n",
       "  background-color: var(--sklearn-color-unfitted-level-2);\n",
       "}\n",
       "\n",
       "/* Label box, darken color on hover, fitted */\n",
       "#sk-container-id-2 div.sk-label.fitted:hover label.sk-toggleable__label.fitted {\n",
       "  color: var(--sklearn-color-text);\n",
       "  background-color: var(--sklearn-color-fitted-level-2);\n",
       "}\n",
       "\n",
       "/* Estimator label */\n",
       "\n",
       "#sk-container-id-2 div.sk-label label {\n",
       "  font-family: monospace;\n",
       "  font-weight: bold;\n",
       "  display: inline-block;\n",
       "  line-height: 1.2em;\n",
       "}\n",
       "\n",
       "#sk-container-id-2 div.sk-label-container {\n",
       "  text-align: center;\n",
       "}\n",
       "\n",
       "/* Estimator-specific */\n",
       "#sk-container-id-2 div.sk-estimator {\n",
       "  font-family: monospace;\n",
       "  border: 1px dotted var(--sklearn-color-border-box);\n",
       "  border-radius: 0.25em;\n",
       "  box-sizing: border-box;\n",
       "  margin-bottom: 0.5em;\n",
       "  /* unfitted */\n",
       "  background-color: var(--sklearn-color-unfitted-level-0);\n",
       "}\n",
       "\n",
       "#sk-container-id-2 div.sk-estimator.fitted {\n",
       "  /* fitted */\n",
       "  background-color: var(--sklearn-color-fitted-level-0);\n",
       "}\n",
       "\n",
       "/* on hover */\n",
       "#sk-container-id-2 div.sk-estimator:hover {\n",
       "  /* unfitted */\n",
       "  background-color: var(--sklearn-color-unfitted-level-2);\n",
       "}\n",
       "\n",
       "#sk-container-id-2 div.sk-estimator.fitted:hover {\n",
       "  /* fitted */\n",
       "  background-color: var(--sklearn-color-fitted-level-2);\n",
       "}\n",
       "\n",
       "/* Specification for estimator info (e.g. \"i\" and \"?\") */\n",
       "\n",
       "/* Common style for \"i\" and \"?\" */\n",
       "\n",
       ".sk-estimator-doc-link,\n",
       "a:link.sk-estimator-doc-link,\n",
       "a:visited.sk-estimator-doc-link {\n",
       "  float: right;\n",
       "  font-size: smaller;\n",
       "  line-height: 1em;\n",
       "  font-family: monospace;\n",
       "  background-color: var(--sklearn-color-background);\n",
       "  border-radius: 1em;\n",
       "  height: 1em;\n",
       "  width: 1em;\n",
       "  text-decoration: none !important;\n",
       "  margin-left: 1ex;\n",
       "  /* unfitted */\n",
       "  border: var(--sklearn-color-unfitted-level-1) 1pt solid;\n",
       "  color: var(--sklearn-color-unfitted-level-1);\n",
       "}\n",
       "\n",
       ".sk-estimator-doc-link.fitted,\n",
       "a:link.sk-estimator-doc-link.fitted,\n",
       "a:visited.sk-estimator-doc-link.fitted {\n",
       "  /* fitted */\n",
       "  border: var(--sklearn-color-fitted-level-1) 1pt solid;\n",
       "  color: var(--sklearn-color-fitted-level-1);\n",
       "}\n",
       "\n",
       "/* On hover */\n",
       "div.sk-estimator:hover .sk-estimator-doc-link:hover,\n",
       ".sk-estimator-doc-link:hover,\n",
       "div.sk-label-container:hover .sk-estimator-doc-link:hover,\n",
       ".sk-estimator-doc-link:hover {\n",
       "  /* unfitted */\n",
       "  background-color: var(--sklearn-color-unfitted-level-3);\n",
       "  color: var(--sklearn-color-background);\n",
       "  text-decoration: none;\n",
       "}\n",
       "\n",
       "div.sk-estimator.fitted:hover .sk-estimator-doc-link.fitted:hover,\n",
       ".sk-estimator-doc-link.fitted:hover,\n",
       "div.sk-label-container:hover .sk-estimator-doc-link.fitted:hover,\n",
       ".sk-estimator-doc-link.fitted:hover {\n",
       "  /* fitted */\n",
       "  background-color: var(--sklearn-color-fitted-level-3);\n",
       "  color: var(--sklearn-color-background);\n",
       "  text-decoration: none;\n",
       "}\n",
       "\n",
       "/* Span, style for the box shown on hovering the info icon */\n",
       ".sk-estimator-doc-link span {\n",
       "  display: none;\n",
       "  z-index: 9999;\n",
       "  position: relative;\n",
       "  font-weight: normal;\n",
       "  right: .2ex;\n",
       "  padding: .5ex;\n",
       "  margin: .5ex;\n",
       "  width: min-content;\n",
       "  min-width: 20ex;\n",
       "  max-width: 50ex;\n",
       "  color: var(--sklearn-color-text);\n",
       "  box-shadow: 2pt 2pt 4pt #999;\n",
       "  /* unfitted */\n",
       "  background: var(--sklearn-color-unfitted-level-0);\n",
       "  border: .5pt solid var(--sklearn-color-unfitted-level-3);\n",
       "}\n",
       "\n",
       ".sk-estimator-doc-link.fitted span {\n",
       "  /* fitted */\n",
       "  background: var(--sklearn-color-fitted-level-0);\n",
       "  border: var(--sklearn-color-fitted-level-3);\n",
       "}\n",
       "\n",
       ".sk-estimator-doc-link:hover span {\n",
       "  display: block;\n",
       "}\n",
       "\n",
       "/* \"?\"-specific style due to the `<a>` HTML tag */\n",
       "\n",
       "#sk-container-id-2 a.estimator_doc_link {\n",
       "  float: right;\n",
       "  font-size: 1rem;\n",
       "  line-height: 1em;\n",
       "  font-family: monospace;\n",
       "  background-color: var(--sklearn-color-background);\n",
       "  border-radius: 1rem;\n",
       "  height: 1rem;\n",
       "  width: 1rem;\n",
       "  text-decoration: none;\n",
       "  /* unfitted */\n",
       "  color: var(--sklearn-color-unfitted-level-1);\n",
       "  border: var(--sklearn-color-unfitted-level-1) 1pt solid;\n",
       "}\n",
       "\n",
       "#sk-container-id-2 a.estimator_doc_link.fitted {\n",
       "  /* fitted */\n",
       "  border: var(--sklearn-color-fitted-level-1) 1pt solid;\n",
       "  color: var(--sklearn-color-fitted-level-1);\n",
       "}\n",
       "\n",
       "/* On hover */\n",
       "#sk-container-id-2 a.estimator_doc_link:hover {\n",
       "  /* unfitted */\n",
       "  background-color: var(--sklearn-color-unfitted-level-3);\n",
       "  color: var(--sklearn-color-background);\n",
       "  text-decoration: none;\n",
       "}\n",
       "\n",
       "#sk-container-id-2 a.estimator_doc_link.fitted:hover {\n",
       "  /* fitted */\n",
       "  background-color: var(--sklearn-color-fitted-level-3);\n",
       "}\n",
       "</style><div id=\"sk-container-id-2\" class=\"sk-top-container\"><div class=\"sk-text-repr-fallback\"><pre>RandomForestClassifier()</pre><b>In a Jupyter environment, please rerun this cell to show the HTML representation or trust the notebook. <br />On GitHub, the HTML representation is unable to render, please try loading this page with nbviewer.org.</b></div><div class=\"sk-container\" hidden><div class=\"sk-item\"><div class=\"sk-estimator fitted sk-toggleable\"><input class=\"sk-toggleable__control sk-hidden--visually\" id=\"sk-estimator-id-2\" type=\"checkbox\" checked><label for=\"sk-estimator-id-2\" class=\"sk-toggleable__label fitted sk-toggleable__label-arrow fitted\">&nbsp;&nbsp;RandomForestClassifier<a class=\"sk-estimator-doc-link fitted\" rel=\"noreferrer\" target=\"_blank\" href=\"https://scikit-learn.org/1.5/modules/generated/sklearn.ensemble.RandomForestClassifier.html\">?<span>Documentation for RandomForestClassifier</span></a><span class=\"sk-estimator-doc-link fitted\">i<span>Fitted</span></span></label><div class=\"sk-toggleable__content fitted\"><pre>RandomForestClassifier()</pre></div> </div></div></div></div>"
      ],
      "text/plain": [
       "RandomForestClassifier()"
      ]
     },
     "execution_count": 87,
     "metadata": {},
     "output_type": "execute_result"
    }
   ],
   "source": [
    "with open('RandomForestClassification.pkl', 'rb') as file:\n",
    "    encode_status = pickle.load(file)\n",
    "\n",
    "encode_status"
   ]
  }
 ],
 "metadata": {
  "kernelspec": {
   "display_name": "venv",
   "language": "python",
   "name": "python3"
  },
  "language_info": {
   "codemirror_mode": {
    "name": "ipython",
    "version": 3
   },
   "file_extension": ".py",
   "mimetype": "text/x-python",
   "name": "python",
   "nbconvert_exporter": "python",
   "pygments_lexer": "ipython3",
   "version": "3.12.1"
  }
 },
 "nbformat": 4,
 "nbformat_minor": 2
}
